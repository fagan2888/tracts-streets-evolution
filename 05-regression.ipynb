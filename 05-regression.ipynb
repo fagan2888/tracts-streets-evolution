{
 "cells": [
  {
   "cell_type": "code",
   "execution_count": 1,
   "metadata": {},
   "outputs": [],
   "source": [
    "import geopandas as gpd\n",
    "import json\n",
    "import numpy as np\n",
    "import pandas as pd\n",
    "from scipy.stats.mstats import zscore\n",
    "import statsmodels.api as sm\n",
    "import statsmodels.formula.api as smf\n",
    "import statsmodels.stats.api as sms\n",
    "from statsmodels.tools.tools import add_constant\n",
    "import matplotlib.pyplot as plt\n",
    "\n",
    "indicators_path = 'data/tracts_indicators_grades_eras_index.csv'\n",
    "crs = {'init':'epsg:4326'}\n",
    "\n",
    "response = 'grid_index_geom'"
   ]
  },
  {
   "cell_type": "markdown",
   "metadata": {},
   "source": [
    "## Load data"
   ]
  },
  {
   "cell_type": "code",
   "execution_count": 2,
   "metadata": {},
   "outputs": [
    {
     "data": {
      "text/plain": [
       "72663"
      ]
     },
     "execution_count": 2,
     "metadata": {},
     "output_type": "execute_result"
    }
   ],
   "source": [
    "df = pd.read_csv(indicators_path, dtype={'geoid':str})\n",
    "len(df)"
   ]
  },
  {
   "cell_type": "code",
   "execution_count": 3,
   "metadata": {},
   "outputs": [
    {
     "data": {
      "text/plain": [
       "grid_index_geom        1.000000\n",
       "grid_index             0.954403\n",
       "prop_4way              0.900373\n",
       "rho                    0.899478\n",
       "orientation_entropy    0.891207\n",
       "prop_deadend           0.735248\n",
       "length_entropy_log     0.690278\n",
       "straightness           0.663511\n",
       "k_avg                  0.627165\n",
       "circuity_avg           0.608322\n",
       "Name: grid_index_geom, dtype: float64"
      ]
     },
     "execution_count": 3,
     "metadata": {},
     "output_type": "execute_result"
    }
   ],
   "source": [
    "df.corr()[response].abs().sort_values(ascending=False).head(10)"
   ]
  },
  {
   "cell_type": "markdown",
   "metadata": {},
   "source": [
    "## Prepare for modeling"
   ]
  },
  {
   "cell_type": "code",
   "execution_count": 4,
   "metadata": {},
   "outputs": [],
   "source": [
    "# helper function for model output\n",
    "def make_table(result):\n",
    "\n",
    "    table = pd.DataFrame()\n",
    "\n",
    "    table['se'] = result.params / result.tvalues\n",
    "    #table['t'] = result.tvalues\n",
    "    table['se'] = table['se'].map(lambda x: '<0.0001' if abs(x) < 0.0001 else f'{x:.4f}')\n",
    "\n",
    "    table['params'] = result.params\n",
    "    table['params'] = table['params'].map(lambda x: '<0.0001' if abs(x) < 0.0001 else f'{x:.4f}')\n",
    "\n",
    "    table['p'] = result.pvalues\n",
    "    def significance(p):\n",
    "        if p < 0.001:\n",
    "            return '***'\n",
    "        elif p < 0.01:\n",
    "            return '** '\n",
    "        elif p < 0.05:\n",
    "            return '*  '\n",
    "        else:\n",
    "            return '   '\n",
    "\n",
    "    table['params'] = table.apply(lambda row: '{}{}'.format(row['params'], significance(row['p'])), axis=1)\n",
    "    table = table.drop(columns=['p']).reindex(columns=['params', 'se'])\n",
    "    return table"
   ]
  },
  {
   "cell_type": "code",
   "execution_count": 5,
   "metadata": {},
   "outputs": [
    {
     "name": "stdout",
     "output_type": "stream",
     "text": [
      "51 50\n"
     ]
    }
   ],
   "source": [
    "# ientify the state dummies in the dataframe\n",
    "# remove one dummy to prevent perfect collinearity\n",
    "states = df['state_abbrev'].unique()\n",
    "state_dummies = [s for s in states if s != 'RI']\n",
    "print(len(states), len(state_dummies))"
   ]
  },
  {
   "cell_type": "code",
   "execution_count": 6,
   "metadata": {},
   "outputs": [
    {
     "data": {
      "text/plain": [
       "72663"
      ]
     },
     "execution_count": 6,
     "metadata": {},
     "output_type": "execute_result"
    }
   ],
   "source": [
    "# identify the era dummies in the dataframe\n",
    "era_primary_dummies = [c for c in df.columns if 'dummy_primary_' in c and '_1939_earlier' not in c]\n",
    "era_plurality_dummies = [c for c in df.columns if 'dummy_plurality_' in c and '_1939_earlier' not in c]\n",
    "era_majority_dummies = [c for c in df.columns if 'dummy_majority_' in c and '_1939_earlier' not in c]\n",
    "era_earliest_dummies = [c for c in df.columns if 'dummy_earliest_' in c and '_1939_earlier' not in c]\n",
    "len(df)"
   ]
  },
  {
   "cell_type": "code",
   "execution_count": 7,
   "metadata": {},
   "outputs": [
    {
     "data": {
      "text/plain": [
       "72659"
      ]
     },
     "execution_count": 7,
     "metadata": {},
     "output_type": "execute_result"
    }
   ],
   "source": [
    "df = df.replace([np.inf, -np.inf], np.nan).dropna(subset=[response])\n",
    "len(df)"
   ]
  },
  {
   "cell_type": "markdown",
   "metadata": {},
   "source": [
    "## Regression model 0\n",
    "\n",
    "check the grid index vs its components to check its validity"
   ]
  },
  {
   "cell_type": "code",
   "execution_count": 8,
   "metadata": {},
   "outputs": [],
   "source": [
    "predictors = ['rho', 'prop_4way', 'straightness']\n",
    "df_model = df.replace([np.inf, -np.inf], np.nan).dropna(subset=predictors)\n",
    "X = df_model[predictors]\n",
    "y = df_model[response]"
   ]
  },
  {
   "cell_type": "code",
   "execution_count": 9,
   "metadata": {},
   "outputs": [
    {
     "name": "stdout",
     "output_type": "stream",
     "text": [
      "                            OLS Regression Results                            \n",
      "==============================================================================\n",
      "Dep. Variable:        grid_index_geom   R-squared:                       0.972\n",
      "Model:                            OLS   Adj. R-squared:                  0.972\n",
      "Method:                 Least Squares   F-statistic:                 8.471e+05\n",
      "Date:                Tue, 15 Jan 2019   Prob (F-statistic):               0.00\n",
      "Time:                        17:42:54   Log-Likelihood:             1.4082e+05\n",
      "No. Observations:               72659   AIC:                        -2.816e+05\n",
      "Df Residuals:                   72655   BIC:                        -2.816e+05\n",
      "Df Model:                           3                                         \n",
      "Covariance Type:            nonrobust                                         \n",
      "================================================================================\n",
      "                   coef    std err          t      P>|t|      [0.025      0.975]\n",
      "--------------------------------------------------------------------------------\n",
      "const           -0.1338      0.003    -40.495      0.000      -0.140      -0.127\n",
      "rho              0.3422      0.001    592.268      0.000       0.341       0.343\n",
      "prop_4way        0.6308      0.001    587.035      0.000       0.629       0.633\n",
      "straightness     0.2738      0.004     74.164      0.000       0.267       0.281\n",
      "==============================================================================\n",
      "Omnibus:                    74215.472   Durbin-Watson:                   1.458\n",
      "Prob(Omnibus):                  0.000   Jarque-Bera (JB):          8400965.691\n",
      "Skew:                          -4.877   Prob(JB):                         0.00\n",
      "Kurtosis:                      54.767   Cond. No.                         56.7\n",
      "==============================================================================\n",
      "\n",
      "Warnings:\n",
      "[1] Standard Errors assume that the covariance matrix of the errors is correctly specified.\n"
     ]
    }
   ],
   "source": [
    "# estimate model across all tracts\n",
    "Xc = add_constant(X)\n",
    "model = sm.OLS(y, Xc)\n",
    "result = model.fit()\n",
    "print(result.summary())"
   ]
  },
  {
   "cell_type": "markdown",
   "metadata": {},
   "source": [
    "## Regression model 1\n",
    "\n",
    "by primary decade"
   ]
  },
  {
   "cell_type": "code",
   "execution_count": 10,
   "metadata": {},
   "outputs": [],
   "source": [
    "physical_predictors = ['aland', 'total_pop_k', #city size, spatial extent\n",
    "                       'is_urban', 'prop_single_fam', 'med_rooms_per_home', #settlement density/scale\n",
    "                       'intersect_density', 'length_mean', #'length_entropy_log', #street spatial scale\n",
    "                       'prop_deadend', 'k_avg', #urban fabric connectivity\n",
    "                       'elevations_iqr', 'grade_mean'] #hilliness\n",
    "\n",
    "df['length_mean'] = df['length_mean'] / 1000 #put these regression coefficients in units of km"
   ]
  },
  {
   "cell_type": "code",
   "execution_count": 11,
   "metadata": {},
   "outputs": [],
   "source": [
    "predictors = physical_predictors + sorted(era_primary_dummies) + sorted(state_dummies)\n",
    "df_model = df.replace([np.inf, -np.inf], np.nan).dropna(subset=predictors)\n",
    "X = df_model[predictors]\n",
    "y = df_model[response]"
   ]
  },
  {
   "cell_type": "code",
   "execution_count": 12,
   "metadata": {},
   "outputs": [
    {
     "name": "stdout",
     "output_type": "stream",
     "text": [
      "35.3570366005539\n"
     ]
    }
   ],
   "source": [
    "# condition number <20 means low multicollinearity\n",
    "print(np.linalg.cond(zscore(X)))"
   ]
  },
  {
   "cell_type": "code",
   "execution_count": 13,
   "metadata": {},
   "outputs": [
    {
     "name": "stdout",
     "output_type": "stream",
     "text": [
      "                            OLS Regression Results                            \n",
      "==============================================================================\n",
      "Dep. Variable:        grid_index_geom   R-squared:                       0.731\n",
      "Model:                            OLS   Adj. R-squared:                  0.731\n",
      "Method:                 Least Squares   F-statistic:                     2836.\n",
      "Date:                Tue, 15 Jan 2019   Prob (F-statistic):               0.00\n",
      "Time:                        17:42:56   Log-Likelihood:                 57942.\n",
      "No. Observations:               72082   AIC:                        -1.157e+05\n",
      "Df Residuals:                   72012   BIC:                        -1.151e+05\n",
      "Df Model:                          69                                         \n",
      "Covariance Type:            nonrobust                                         \n",
      "=================================================================================================\n",
      "                                    coef    std err          t      P>|t|      [0.025      0.975]\n",
      "-------------------------------------------------------------------------------------------------\n",
      "const                             0.1578      0.010     15.327      0.000       0.138       0.178\n",
      "aland                            -0.0297      0.003    -11.567      0.000      -0.035      -0.025\n",
      "total_pop_k                      -0.0053      0.000    -25.390      0.000      -0.006      -0.005\n",
      "is_urban                          0.0120      0.001      8.907      0.000       0.009       0.015\n",
      "prop_single_fam                  -0.0418      0.003    -15.527      0.000      -0.047      -0.037\n",
      "med_rooms_per_home               -0.0161      0.001    -27.480      0.000      -0.017      -0.015\n",
      "intersect_density                 0.0011   2.08e-05     51.697      0.000       0.001       0.001\n",
      "length_mean                       0.0118      0.004      3.050      0.002       0.004       0.019\n",
      "prop_deadend                     -0.4478      0.008    -59.554      0.000      -0.463      -0.433\n",
      "k_avg                             0.1453      0.002     60.750      0.000       0.141       0.150\n",
      "elevations_iqr                   -0.0002   1.23e-05    -17.616      0.000      -0.000      -0.000\n",
      "grade_mean                       -2.1644      0.038    -57.231      0.000      -2.239      -2.090\n",
      "dummy_primary_prop_1940_49       -0.0235      0.003     -7.923      0.000      -0.029      -0.018\n",
      "dummy_primary_prop_1950_59       -0.0500      0.001    -34.065      0.000      -0.053      -0.047\n",
      "dummy_primary_prop_1960_69       -0.0814      0.002    -46.478      0.000      -0.085      -0.078\n",
      "dummy_primary_prop_1970_79       -0.0879      0.001    -60.911      0.000      -0.091      -0.085\n",
      "dummy_primary_prop_1980_89       -0.1033      0.002    -58.918      0.000      -0.107      -0.100\n",
      "dummy_primary_prop_1990_99       -0.1005      0.002    -58.673      0.000      -0.104      -0.097\n",
      "dummy_primary_prop_2000_09       -0.0901      0.002    -50.855      0.000      -0.094      -0.087\n",
      "dummy_primary_prop_2010_later    -0.1009      0.008    -12.289      0.000      -0.117      -0.085\n",
      "AK                                0.2076      0.011     18.686      0.000       0.186       0.229\n",
      "AL                                0.1448      0.008     18.744      0.000       0.130       0.160\n",
      "AR                                0.2090      0.008     25.510      0.000       0.193       0.225\n",
      "AZ                                0.1915      0.008     25.197      0.000       0.177       0.206\n",
      "CA                                0.2241      0.007     31.414      0.000       0.210       0.238\n",
      "CO                                0.2105      0.008     27.381      0.000       0.195       0.226\n",
      "CT                                0.0792      0.008      9.920      0.000       0.064       0.095\n",
      "DC                                0.1669      0.011     15.480      0.000       0.146       0.188\n",
      "DE                                0.1072      0.010     10.484      0.000       0.087       0.127\n",
      "FL                                0.1798      0.007     24.782      0.000       0.166       0.194\n",
      "GA                                0.1333      0.007     17.866      0.000       0.119       0.148\n",
      "HI                                0.2260      0.009     24.106      0.000       0.208       0.244\n",
      "IA                                0.2656      0.008     33.163      0.000       0.250       0.281\n",
      "ID                                0.2418      0.009     25.556      0.000       0.223       0.260\n",
      "IL                                0.2573      0.007     35.284      0.000       0.243       0.272\n",
      "IN                                0.2147      0.008     28.372      0.000       0.200       0.230\n",
      "KS                                0.2717      0.008     33.641      0.000       0.256       0.288\n",
      "KY                                0.1230      0.008     15.840      0.000       0.108       0.138\n",
      "LA                                0.1828      0.008     23.559      0.000       0.168       0.198\n",
      "MA                               -0.0071      0.008     -0.945      0.345      -0.022       0.008\n",
      "MD                                0.1160      0.008     15.221      0.000       0.101       0.131\n",
      "ME                                0.0583      0.009      6.399      0.000       0.040       0.076\n",
      "MI                                0.2094      0.007     28.520      0.000       0.195       0.224\n",
      "MN                                0.2424      0.008     31.738      0.000       0.227       0.257\n",
      "MO                                0.1957      0.008     25.702      0.000       0.181       0.211\n",
      "MS                                0.1631      0.008     19.803      0.000       0.147       0.179\n",
      "MT                                0.2510      0.010     25.794      0.000       0.232       0.270\n",
      "NC                                0.1164      0.007     15.671      0.000       0.102       0.131\n",
      "ND                                0.2912      0.010     27.937      0.000       0.271       0.312\n",
      "NE                                0.2624      0.008     30.888      0.000       0.246       0.279\n",
      "NH                                0.0223      0.009      2.349      0.019       0.004       0.041\n",
      "NJ                                0.1113      0.007     15.004      0.000       0.097       0.126\n",
      "NM                                0.1999      0.009     23.295      0.000       0.183       0.217\n",
      "NV                                0.2212      0.008     26.965      0.000       0.205       0.237\n",
      "NY                                0.1655      0.007     23.039      0.000       0.151       0.180\n",
      "OH                                0.1670      0.007     22.873      0.000       0.153       0.181\n",
      "OK                                0.2564      0.008     32.818      0.000       0.241       0.272\n",
      "OR                                0.2378      0.008     29.801      0.000       0.222       0.253\n",
      "PA                                0.1355      0.007     18.610      0.000       0.121       0.150\n",
      "SC                                0.0620      0.008      7.963      0.000       0.047       0.077\n",
      "SD                                0.3122      0.010     30.658      0.000       0.292       0.332\n",
      "TN                                0.1539      0.008     20.261      0.000       0.139       0.169\n",
      "TX                                0.1891      0.007     26.213      0.000       0.175       0.203\n",
      "UT                                0.2731      0.008     32.654      0.000       0.257       0.289\n",
      "VA                                0.1261      0.007     16.895      0.000       0.111       0.141\n",
      "VT                                0.0622      0.011      5.819      0.000       0.041       0.083\n",
      "WA                                0.2718      0.008     35.815      0.000       0.257       0.287\n",
      "WI                                0.2255      0.008     29.642      0.000       0.211       0.240\n",
      "WV                                0.1436      0.009     16.660      0.000       0.127       0.160\n",
      "WY                                0.2421      0.012     20.407      0.000       0.219       0.265\n",
      "==============================================================================\n",
      "Omnibus:                     6711.972   Durbin-Watson:                   1.260\n",
      "Prob(Omnibus):                  0.000   Jarque-Bera (JB):            38411.024\n",
      "Skew:                           0.262   Prob(JB):                         0.00\n",
      "Kurtosis:                       6.538   Cond. No.                     6.51e+03\n",
      "==============================================================================\n",
      "\n",
      "Warnings:\n",
      "[1] Standard Errors assume that the covariance matrix of the errors is correctly specified.\n",
      "[2] The condition number is large, 6.51e+03. This might indicate that there are\n",
      "strong multicollinearity or other numerical problems.\n"
     ]
    }
   ],
   "source": [
    "# estimate a model across the full data set (all cities)\n",
    "Xc = add_constant(X) \n",
    "model = sm.OLS(y, Xc)\n",
    "result = model.fit()\n",
    "print(result.summary())"
   ]
  },
  {
   "cell_type": "code",
   "execution_count": 14,
   "metadata": {},
   "outputs": [
    {
     "name": "stdout",
     "output_type": "stream",
     "text": [
      "-115744.3318350598\n",
      "57942.1659175299\n"
     ]
    }
   ],
   "source": [
    "print(result.aic) \n",
    "print(result.llf)"
   ]
  },
  {
   "cell_type": "code",
   "execution_count": 15,
   "metadata": {},
   "outputs": [],
   "source": [
    "table1 = make_table(result)"
   ]
  },
  {
   "cell_type": "markdown",
   "metadata": {},
   "source": [
    "## Regression model 2\n",
    "\n",
    "plurality decade"
   ]
  },
  {
   "cell_type": "code",
   "execution_count": 16,
   "metadata": {},
   "outputs": [],
   "source": [
    "predictors = physical_predictors + sorted(era_plurality_dummies) + sorted(state_dummies)\n",
    "df_model = df.replace([np.inf, -np.inf], np.nan).dropna(subset=predictors)\n",
    "X = df_model[predictors]\n",
    "y = df_model[response]"
   ]
  },
  {
   "cell_type": "code",
   "execution_count": 17,
   "metadata": {},
   "outputs": [
    {
     "name": "stdout",
     "output_type": "stream",
     "text": [
      "35.499726604191835\n"
     ]
    }
   ],
   "source": [
    "# condition number <20 means low multicollinearity\n",
    "print(np.linalg.cond(zscore(X)))"
   ]
  },
  {
   "cell_type": "code",
   "execution_count": 18,
   "metadata": {},
   "outputs": [
    {
     "name": "stdout",
     "output_type": "stream",
     "text": [
      "                            OLS Regression Results                            \n",
      "==============================================================================\n",
      "Dep. Variable:        grid_index_geom   R-squared:                       0.732\n",
      "Model:                            OLS   Adj. R-squared:                  0.732\n",
      "Method:                 Least Squares   F-statistic:                     2848.\n",
      "Date:                Tue, 15 Jan 2019   Prob (F-statistic):               0.00\n",
      "Time:                        17:42:58   Log-Likelihood:                 58046.\n",
      "No. Observations:               72082   AIC:                        -1.160e+05\n",
      "Df Residuals:                   72012   BIC:                        -1.153e+05\n",
      "Df Model:                          69                                         \n",
      "Covariance Type:            nonrobust                                         \n",
      "===================================================================================================\n",
      "                                      coef    std err          t      P>|t|      [0.025      0.975]\n",
      "---------------------------------------------------------------------------------------------------\n",
      "const                               0.1689      0.010     16.418      0.000       0.149       0.189\n",
      "aland                              -0.0303      0.003    -11.799      0.000      -0.035      -0.025\n",
      "total_pop_k                        -0.0051      0.000    -24.733      0.000      -0.006      -0.005\n",
      "is_urban                            0.0089      0.001      6.580      0.000       0.006       0.012\n",
      "prop_single_fam                    -0.0400      0.003    -14.845      0.000      -0.045      -0.035\n",
      "med_rooms_per_home                 -0.0174      0.001    -29.916      0.000      -0.019      -0.016\n",
      "intersect_density                   0.0010   2.08e-05     50.344      0.000       0.001       0.001\n",
      "length_mean                         0.0165      0.004      4.253      0.000       0.009       0.024\n",
      "prop_deadend                       -0.4361      0.008    -57.903      0.000      -0.451      -0.421\n",
      "k_avg                               0.1469      0.002     61.547      0.000       0.142       0.152\n",
      "elevations_iqr                     -0.0002   1.22e-05    -18.059      0.000      -0.000      -0.000\n",
      "grade_mean                         -2.1575      0.038    -57.157      0.000      -2.232      -2.084\n",
      "dummy_plurality_prop_1940_49       -0.0163      0.003     -4.850      0.000      -0.023      -0.010\n",
      "dummy_plurality_prop_1950_59       -0.0499      0.002    -32.404      0.000      -0.053      -0.047\n",
      "dummy_plurality_prop_1960_69       -0.0795      0.002    -44.055      0.000      -0.083      -0.076\n",
      "dummy_plurality_prop_1970_79       -0.0912      0.001    -61.729      0.000      -0.094      -0.088\n",
      "dummy_plurality_prop_1980_89       -0.1078      0.002    -61.387      0.000      -0.111      -0.104\n",
      "dummy_plurality_prop_1990_99       -0.1089      0.002    -63.934      0.000      -0.112      -0.106\n",
      "dummy_plurality_prop_2000_09       -0.0958      0.002    -56.299      0.000      -0.099      -0.092\n",
      "dummy_plurality_prop_2010_later    -0.1106      0.007    -16.525      0.000      -0.124      -0.098\n",
      "AK                                  0.2021      0.011     18.224      0.000       0.180       0.224\n",
      "AL                                  0.1425      0.008     18.481      0.000       0.127       0.158\n",
      "AR                                  0.2056      0.008     25.145      0.000       0.190       0.222\n",
      "AZ                                  0.1882      0.008     24.817      0.000       0.173       0.203\n",
      "CA                                  0.2208      0.007     31.010      0.000       0.207       0.235\n",
      "CO                                  0.2074      0.008     27.026      0.000       0.192       0.222\n",
      "CT                                  0.0787      0.008      9.875      0.000       0.063       0.094\n",
      "DC                                  0.1647      0.011     15.299      0.000       0.144       0.186\n",
      "DE                                  0.1040      0.010     10.187      0.000       0.084       0.124\n",
      "FL                                  0.1760      0.007     24.303      0.000       0.162       0.190\n",
      "GA                                  0.1302      0.007     17.483      0.000       0.116       0.145\n",
      "HI                                  0.2220      0.009     23.725      0.000       0.204       0.240\n",
      "IA                                  0.2605      0.008     32.573      0.000       0.245       0.276\n",
      "ID                                  0.2417      0.009     25.583      0.000       0.223       0.260\n",
      "IL                                  0.2544      0.007     34.928      0.000       0.240       0.269\n",
      "IN                                  0.2137      0.008     28.273      0.000       0.199       0.229\n",
      "KS                                  0.2674      0.008     33.158      0.000       0.252       0.283\n",
      "KY                                  0.1213      0.008     15.649      0.000       0.106       0.137\n",
      "LA                                  0.1804      0.008     23.295      0.000       0.165       0.196\n",
      "MA                                 -0.0082      0.008     -1.091      0.275      -0.023       0.007\n",
      "MD                                  0.1153      0.008     15.156      0.000       0.100       0.130\n",
      "ME                                  0.0578      0.009      6.347      0.000       0.040       0.076\n",
      "MI                                  0.2081      0.007     28.394      0.000       0.194       0.223\n",
      "MN                                  0.2413      0.008     31.634      0.000       0.226       0.256\n",
      "MO                                  0.1934      0.008     25.437      0.000       0.178       0.208\n",
      "MS                                  0.1587      0.008     19.304      0.000       0.143       0.175\n",
      "MT                                  0.2454      0.010     25.263      0.000       0.226       0.264\n",
      "NC                                  0.1139      0.007     15.361      0.000       0.099       0.128\n",
      "ND                                  0.2887      0.010     27.729      0.000       0.268       0.309\n",
      "NE                                  0.2569      0.008     30.284      0.000       0.240       0.273\n",
      "NH                                  0.0189      0.009      2.003      0.045       0.000       0.037\n",
      "NJ                                  0.1112      0.007     15.003      0.000       0.097       0.126\n",
      "NM                                  0.1984      0.009     23.170      0.000       0.182       0.215\n",
      "NV                                  0.2182      0.008     26.661      0.000       0.202       0.234\n",
      "NY                                  0.1628      0.007     22.693      0.000       0.149       0.177\n",
      "OH                                  0.1646      0.007     22.565      0.000       0.150       0.179\n",
      "OK                                  0.2541      0.008     32.585      0.000       0.239       0.269\n",
      "OR                                  0.2368      0.008     29.715      0.000       0.221       0.252\n",
      "PA                                  0.1334      0.007     18.342      0.000       0.119       0.148\n",
      "SC                                  0.0600      0.008      7.719      0.000       0.045       0.075\n",
      "SD                                  0.3065      0.010     30.143      0.000       0.287       0.326\n",
      "TN                                  0.1519      0.008     20.033      0.000       0.137       0.167\n",
      "TX                                  0.1869      0.007     25.949      0.000       0.173       0.201\n",
      "UT                                  0.2722      0.008     32.591      0.000       0.256       0.289\n",
      "VA                                  0.1267      0.007     16.992      0.000       0.112       0.141\n",
      "VT                                  0.0567      0.011      5.316      0.000       0.036       0.078\n",
      "WA                                  0.2708      0.008     35.732      0.000       0.256       0.286\n",
      "WI                                  0.2239      0.008     29.473      0.000       0.209       0.239\n",
      "WV                                  0.1455      0.009     16.910      0.000       0.129       0.162\n",
      "WY                                  0.2401      0.012     20.270      0.000       0.217       0.263\n",
      "==============================================================================\n",
      "Omnibus:                     6663.169   Durbin-Watson:                   1.258\n",
      "Prob(Omnibus):                  0.000   Jarque-Bera (JB):            38167.283\n",
      "Skew:                           0.256   Prob(JB):                         0.00\n",
      "Kurtosis:                       6.528   Cond. No.                     6.51e+03\n",
      "==============================================================================\n",
      "\n",
      "Warnings:\n",
      "[1] Standard Errors assume that the covariance matrix of the errors is correctly specified.\n",
      "[2] The condition number is large, 6.51e+03. This might indicate that there are\n",
      "strong multicollinearity or other numerical problems.\n"
     ]
    }
   ],
   "source": [
    "# estimate a model across the full data set (all cities)\n",
    "Xc = add_constant(X)\n",
    "model = sm.OLS(y, Xc)\n",
    "result = model.fit()\n",
    "print(result.summary())"
   ]
  },
  {
   "cell_type": "code",
   "execution_count": 19,
   "metadata": {},
   "outputs": [
    {
     "name": "stdout",
     "output_type": "stream",
     "text": [
      "-115952.53219918517\n",
      "58046.26609959258\n"
     ]
    }
   ],
   "source": [
    "print(result.aic)\n",
    "print(result.llf)"
   ]
  },
  {
   "cell_type": "code",
   "execution_count": 20,
   "metadata": {},
   "outputs": [],
   "source": [
    "table2 = make_table(result)"
   ]
  },
  {
   "cell_type": "markdown",
   "metadata": {},
   "source": [
    "## Regression model 3\n",
    "\n",
    "only tracts with a majority built in one decade"
   ]
  },
  {
   "cell_type": "code",
   "execution_count": 21,
   "metadata": {},
   "outputs": [
    {
     "data": {
      "text/plain": [
       "12840"
      ]
     },
     "execution_count": 21,
     "metadata": {},
     "output_type": "execute_result"
    }
   ],
   "source": [
    "# identify all tracts with a majority built in each decade\n",
    "c = ['prop_1939_earlier', 'prop_1940_49', 'prop_1950_59', 'prop_1960_69', 'prop_1970_79', 'prop_1980_89', 'prop_1990_99', 'prop_2000_09', 'prop_2010_later']\n",
    "majority_mask = (df_model[c] > 0.5).apply(sum, axis=1).astype(bool)\n",
    "sum(majority_mask)"
   ]
  },
  {
   "cell_type": "code",
   "execution_count": 22,
   "metadata": {},
   "outputs": [
    {
     "name": "stdout",
     "output_type": "stream",
     "text": [
      "Index([], dtype='object')\n"
     ]
    }
   ],
   "source": [
    "predictors = physical_predictors + sorted(era_majority_dummies) + sorted(state_dummies)\n",
    "df_model = df.replace([np.inf, -np.inf], np.nan).dropna(subset=predictors)\n",
    "\n",
    "# create design matrix containing predictors (drop nulls), and a response variable vector\n",
    "X = df_model[majority_mask][predictors]\n",
    "y = df_model[majority_mask][response]\n",
    "\n",
    "# must remove any vars that are constant (ie, all zeros) as pysal demands no constant vectors\n",
    "# this happens because some states have no units with majority built in single decade\n",
    "drop = X.columns[X.sum()==0]\n",
    "X = X.drop(columns=drop)\n",
    "print(drop)"
   ]
  },
  {
   "cell_type": "code",
   "execution_count": 23,
   "metadata": {},
   "outputs": [
    {
     "name": "stdout",
     "output_type": "stream",
     "text": [
      "28.414593473661082\n"
     ]
    }
   ],
   "source": [
    "# condition number <20 means low multicollinearity\n",
    "print(np.linalg.cond(zscore(X)))"
   ]
  },
  {
   "cell_type": "code",
   "execution_count": 24,
   "metadata": {},
   "outputs": [
    {
     "name": "stdout",
     "output_type": "stream",
     "text": [
      "                            OLS Regression Results                            \n",
      "==============================================================================\n",
      "Dep. Variable:        grid_index_geom   R-squared:                       0.717\n",
      "Model:                            OLS   Adj. R-squared:                  0.715\n",
      "Method:                 Least Squares   F-statistic:                     467.9\n",
      "Date:                Tue, 15 Jan 2019   Prob (F-statistic):               0.00\n",
      "Time:                        17:43:01   Log-Likelihood:                 9051.0\n",
      "No. Observations:               12840   AIC:                        -1.796e+04\n",
      "Df Residuals:                   12770   BIC:                        -1.744e+04\n",
      "Df Model:                          69                                         \n",
      "Covariance Type:            nonrobust                                         \n",
      "==================================================================================================\n",
      "                                     coef    std err          t      P>|t|      [0.025      0.975]\n",
      "--------------------------------------------------------------------------------------------------\n",
      "const                              0.2647      0.023     11.610      0.000       0.220       0.309\n",
      "aland                             -0.0267      0.020     -1.360      0.174      -0.065       0.012\n",
      "total_pop_k                       -0.0023      0.000     -5.048      0.000      -0.003      -0.001\n",
      "is_urban                           0.0213      0.005      4.494      0.000       0.012       0.031\n",
      "prop_single_fam                   -0.0810      0.006    -12.625      0.000      -0.094      -0.068\n",
      "med_rooms_per_home                -0.0113      0.001     -7.959      0.000      -0.014      -0.008\n",
      "intersect_density                  0.0004   4.07e-05     10.623      0.000       0.000       0.001\n",
      "length_mean                        0.0694      0.018      3.795      0.000       0.034       0.105\n",
      "prop_deadend                      -0.4077      0.018    -23.260      0.000      -0.442      -0.373\n",
      "k_avg                              0.1057      0.005     20.960      0.000       0.096       0.116\n",
      "elevations_iqr                    -0.0010   8.16e-05    -12.638      0.000      -0.001      -0.001\n",
      "grade_mean                        -1.1932      0.078    -15.286      0.000      -1.346      -1.040\n",
      "dummy_majority_prop_1940_49       -0.1006      0.015     -6.894      0.000      -0.129      -0.072\n",
      "dummy_majority_prop_1950_59       -0.1159      0.004    -25.865      0.000      -0.125      -0.107\n",
      "dummy_majority_prop_1960_69       -0.1814      0.006    -30.313      0.000      -0.193      -0.170\n",
      "dummy_majority_prop_1970_79       -0.2105      0.005    -41.681      0.000      -0.220      -0.201\n",
      "dummy_majority_prop_1980_89       -0.2389      0.005    -43.480      0.000      -0.250      -0.228\n",
      "dummy_majority_prop_1990_99       -0.2389      0.005    -43.508      0.000      -0.250      -0.228\n",
      "dummy_majority_prop_2000_09       -0.2203      0.005    -43.262      0.000      -0.230      -0.210\n",
      "dummy_majority_prop_2010_later    -0.2300      0.020    -11.544      0.000      -0.269      -0.191\n",
      "AK                                 0.2747      0.071      3.865      0.000       0.135       0.414\n",
      "AL                                 0.2180      0.024      8.988      0.000       0.170       0.266\n",
      "AR                                 0.2412      0.040      6.092      0.000       0.164       0.319\n",
      "AZ                                 0.2559      0.017     15.100      0.000       0.223       0.289\n",
      "CA                                 0.2711      0.016     16.884      0.000       0.240       0.303\n",
      "CO                                 0.2727      0.017     15.904      0.000       0.239       0.306\n",
      "CT                                 0.0768      0.019      3.949      0.000       0.039       0.115\n",
      "DC                                 0.2099      0.022      9.712      0.000       0.168       0.252\n",
      "DE                                 0.2088      0.028      7.573      0.000       0.155       0.263\n",
      "FL                                 0.2451      0.016     14.853      0.000       0.213       0.277\n",
      "GA                                 0.2172      0.018     11.915      0.000       0.181       0.253\n",
      "HI                                 0.2633      0.022     11.916      0.000       0.220       0.307\n",
      "IA                                 0.2716      0.019     14.143      0.000       0.234       0.309\n",
      "ID                                 0.3270      0.031     10.469      0.000       0.266       0.388\n",
      "IL                                 0.3013      0.016     18.510      0.000       0.269       0.333\n",
      "IN                                 0.2498      0.018     13.942      0.000       0.215       0.285\n",
      "KS                                 0.2944      0.020     14.792      0.000       0.255       0.333\n",
      "KY                                 0.1873      0.020      9.406      0.000       0.148       0.226\n",
      "LA                                 0.2896      0.019     14.888      0.000       0.251       0.328\n",
      "MA                                 0.0046      0.016      0.277      0.782      -0.028       0.037\n",
      "MD                                 0.1685      0.017      9.826      0.000       0.135       0.202\n",
      "ME                                 0.0397      0.025      1.568      0.117      -0.010       0.089\n",
      "MI                                 0.2521      0.017     15.035      0.000       0.219       0.285\n",
      "MN                                 0.3091      0.018     17.529      0.000       0.275       0.344\n",
      "MO                                 0.2305      0.018     12.873      0.000       0.195       0.266\n",
      "MS                                 0.2600      0.031      8.324      0.000       0.199       0.321\n",
      "MT                                 0.3348      0.038      8.796      0.000       0.260       0.409\n",
      "NC                                 0.1803      0.019      9.725      0.000       0.144       0.217\n",
      "ND                                 0.3041      0.045      6.716      0.000       0.215       0.393\n",
      "NE                                 0.2727      0.020     13.980      0.000       0.234       0.311\n",
      "NH                                 0.0914      0.028      3.284      0.001       0.037       0.146\n",
      "NJ                                 0.1428      0.017      8.269      0.000       0.109       0.177\n",
      "NM                                 0.3171      0.023     13.651      0.000       0.272       0.363\n",
      "NV                                 0.3246      0.018     18.516      0.000       0.290       0.359\n",
      "NY                                 0.2291      0.016     14.452      0.000       0.198       0.260\n",
      "OH                                 0.1627      0.016      9.899      0.000       0.130       0.195\n",
      "OK                                 0.2682      0.019     14.023      0.000       0.231       0.306\n",
      "OR                                 0.2806      0.022     13.035      0.000       0.238       0.323\n",
      "PA                                 0.1940      0.016     11.997      0.000       0.162       0.226\n",
      "SC                                 0.1513      0.022      7.028      0.000       0.109       0.193\n",
      "SD                                 0.3595      0.041      8.733      0.000       0.279       0.440\n",
      "TN                                 0.2702      0.020     13.541      0.000       0.231       0.309\n",
      "TX                                 0.2797      0.016     16.977      0.000       0.247       0.312\n",
      "UT                                 0.3272      0.021     15.927      0.000       0.287       0.368\n",
      "VA                                 0.2080      0.017     12.022      0.000       0.174       0.242\n",
      "VT                                 0.0359      0.032      1.108      0.268      -0.028       0.099\n",
      "WA                                 0.3005      0.019     15.824      0.000       0.263       0.338\n",
      "WI                                 0.2954      0.018     16.652      0.000       0.261       0.330\n",
      "WV                                 0.1828      0.032      5.771      0.000       0.121       0.245\n",
      "WY                                 0.2200      0.051      4.274      0.000       0.119       0.321\n",
      "==============================================================================\n",
      "Omnibus:                      371.149   Durbin-Watson:                   1.349\n",
      "Prob(Omnibus):                  0.000   Jarque-Bera (JB):              950.841\n",
      "Skew:                          -0.053   Prob(JB):                    3.37e-207\n",
      "Kurtosis:                       4.329   Cond. No.                     7.61e+03\n",
      "==============================================================================\n",
      "\n",
      "Warnings:\n",
      "[1] Standard Errors assume that the covariance matrix of the errors is correctly specified.\n",
      "[2] The condition number is large, 7.61e+03. This might indicate that there are\n",
      "strong multicollinearity or other numerical problems.\n"
     ]
    }
   ],
   "source": [
    "# estimate a model across the full data set (all cities)\n",
    "Xc = add_constant(X)\n",
    "model = sm.OLS(y, Xc)\n",
    "result = model.fit()\n",
    "print(result.summary())"
   ]
  },
  {
   "cell_type": "code",
   "execution_count": 25,
   "metadata": {},
   "outputs": [
    {
     "name": "stdout",
     "output_type": "stream",
     "text": [
      "-17962.004148677406\n",
      "9051.002074338703\n"
     ]
    }
   ],
   "source": [
    "print(result.aic)\n",
    "print(result.llf)"
   ]
  },
  {
   "cell_type": "code",
   "execution_count": 26,
   "metadata": {},
   "outputs": [],
   "source": [
    "table3 = make_table(result)"
   ]
  },
  {
   "cell_type": "markdown",
   "metadata": {},
   "source": [
    "## Regression model 4\n",
    "\n",
    "only tracts with at least one decade of at least 20%, and identified by earliest such decade"
   ]
  },
  {
   "cell_type": "code",
   "execution_count": 27,
   "metadata": {},
   "outputs": [],
   "source": [
    "earliest_mask = pd.notnull(df_model['earliest_decade'])"
   ]
  },
  {
   "cell_type": "code",
   "execution_count": 28,
   "metadata": {},
   "outputs": [
    {
     "name": "stdout",
     "output_type": "stream",
     "text": [
      "Index([], dtype='object')\n"
     ]
    }
   ],
   "source": [
    "predictors = physical_predictors + sorted(era_earliest_dummies) + sorted(state_dummies)\n",
    "df_model = df.replace([np.inf, -np.inf], np.nan).dropna(subset=predictors)\n",
    "\n",
    "# create design matrix containing predictors (drop nulls), and a response variable vector\n",
    "X = df_model[earliest_mask][predictors]\n",
    "y = df_model[earliest_mask][response]\n",
    "\n",
    "# must remove any vars that are constant (ie, all zeros) as pysal demands no constant vectors\n",
    "# this happens because some states have no units with majority built in single decade\n",
    "drop = X.columns[X.sum()==0]\n",
    "X = X.drop(columns=drop)\n",
    "print(drop)"
   ]
  },
  {
   "cell_type": "code",
   "execution_count": 29,
   "metadata": {},
   "outputs": [
    {
     "name": "stdout",
     "output_type": "stream",
     "text": [
      "36.26069943278977\n"
     ]
    }
   ],
   "source": [
    "# condition number <20 means low multicollinearity\n",
    "print(np.linalg.cond(zscore(X)))"
   ]
  },
  {
   "cell_type": "code",
   "execution_count": 30,
   "metadata": {},
   "outputs": [
    {
     "name": "stdout",
     "output_type": "stream",
     "text": [
      "                            OLS Regression Results                            \n",
      "==============================================================================\n",
      "Dep. Variable:        grid_index_geom   R-squared:                       0.731\n",
      "Model:                            OLS   Adj. R-squared:                  0.730\n",
      "Method:                 Least Squares   F-statistic:                     2684.\n",
      "Date:                Tue, 15 Jan 2019   Prob (F-statistic):               0.00\n",
      "Time:                        17:43:03   Log-Likelihood:                 54699.\n",
      "No. Observations:               68306   AIC:                        -1.093e+05\n",
      "Df Residuals:                   68236   BIC:                        -1.086e+05\n",
      "Df Model:                          69                                         \n",
      "Covariance Type:            nonrobust                                         \n",
      "==================================================================================================\n",
      "                                     coef    std err          t      P>|t|      [0.025      0.975]\n",
      "--------------------------------------------------------------------------------------------------\n",
      "const                              0.1772      0.011     16.637      0.000       0.156       0.198\n",
      "aland                             -0.0293      0.003    -10.768      0.000      -0.035      -0.024\n",
      "total_pop_k                       -0.0048      0.000    -22.507      0.000      -0.005      -0.004\n",
      "is_urban                           0.0095      0.001      6.787      0.000       0.007       0.012\n",
      "prop_single_fam                   -0.0401      0.003    -14.626      0.000      -0.045      -0.035\n",
      "med_rooms_per_home                -0.0166      0.001    -27.783      0.000      -0.018      -0.015\n",
      "intersect_density                  0.0010   2.12e-05     47.965      0.000       0.001       0.001\n",
      "length_mean                        0.0120      0.004      2.934      0.003       0.004       0.020\n",
      "prop_deadend                      -0.4320      0.008    -56.067      0.000      -0.447      -0.417\n",
      "k_avg                              0.1407      0.002     57.890      0.000       0.136       0.146\n",
      "elevations_iqr                    -0.0002    1.3e-05    -17.783      0.000      -0.000      -0.000\n",
      "grade_mean                        -2.1825      0.039    -56.276      0.000      -2.259      -2.107\n",
      "dummy_earliest_prop_1940_49       -0.0353      0.003    -12.313      0.000      -0.041      -0.030\n",
      "dummy_earliest_prop_1950_59       -0.0646      0.002    -41.821      0.000      -0.068      -0.062\n",
      "dummy_earliest_prop_1960_69       -0.1006      0.002    -55.848      0.000      -0.104      -0.097\n",
      "dummy_earliest_prop_1970_79       -0.1042      0.002    -67.885      0.000      -0.107      -0.101\n",
      "dummy_earliest_prop_1980_89       -0.1190      0.002    -64.937      0.000      -0.123      -0.115\n",
      "dummy_earliest_prop_1990_99       -0.1125      0.002    -62.103      0.000      -0.116      -0.109\n",
      "dummy_earliest_prop_2000_09       -0.1037      0.002    -49.918      0.000      -0.108      -0.100\n",
      "dummy_earliest_prop_2010_later    -0.0933      0.013     -7.345      0.000      -0.118      -0.068\n",
      "AK                                 0.2104      0.011     18.381      0.000       0.188       0.233\n",
      "AL                                 0.1539      0.008     18.913      0.000       0.138       0.170\n",
      "AR                                 0.2150      0.009     24.919      0.000       0.198       0.232\n",
      "AZ                                 0.1984      0.008     24.896      0.000       0.183       0.214\n",
      "CA                                 0.2282      0.008     30.344      0.000       0.213       0.243\n",
      "CO                                 0.2155      0.008     26.750      0.000       0.200       0.231\n",
      "CT                                 0.0805      0.008      9.583      0.000       0.064       0.097\n",
      "DC                                 0.1711      0.011     15.431      0.000       0.149       0.193\n",
      "DE                                 0.1122      0.011     10.600      0.000       0.091       0.133\n",
      "FL                                 0.1864      0.008     24.402      0.000       0.171       0.201\n",
      "GA                                 0.1399      0.008     17.817      0.000       0.124       0.155\n",
      "HI                                 0.2310      0.010     23.696      0.000       0.212       0.250\n",
      "IA                                 0.2635      0.008     31.432      0.000       0.247       0.280\n",
      "ID                                 0.2478      0.010     24.991      0.000       0.228       0.267\n",
      "IL                                 0.2591      0.008     33.756      0.000       0.244       0.274\n",
      "IN                                 0.2176      0.008     27.305      0.000       0.202       0.233\n",
      "KS                                 0.2716      0.008     32.107      0.000       0.255       0.288\n",
      "KY                                 0.1314      0.008     16.052      0.000       0.115       0.147\n",
      "LA                                 0.1914      0.008     23.417      0.000       0.175       0.207\n",
      "MA                                -0.0070      0.008     -0.886      0.375      -0.023       0.009\n",
      "MD                                 0.1215      0.008     15.169      0.000       0.106       0.137\n",
      "ME                                 0.0548      0.010      5.640      0.000       0.036       0.074\n",
      "MI                                 0.2120      0.008     27.392      0.000       0.197       0.227\n",
      "MN                                 0.2465      0.008     30.639      0.000       0.231       0.262\n",
      "MO                                 0.1997      0.008     24.880      0.000       0.184       0.215\n",
      "MS                                 0.1698      0.009     19.652      0.000       0.153       0.187\n",
      "MT                                 0.2534      0.010     24.913      0.000       0.233       0.273\n",
      "NC                                 0.1232      0.008     15.737      0.000       0.108       0.139\n",
      "ND                                 0.2919      0.011     26.880      0.000       0.271       0.313\n",
      "NE                                 0.2640      0.009     29.815      0.000       0.247       0.281\n",
      "NH                                 0.0252      0.010      2.544      0.011       0.006       0.045\n",
      "NJ                                 0.1139      0.008     14.601      0.000       0.099       0.129\n",
      "NM                                 0.2094      0.009     23.264      0.000       0.192       0.227\n",
      "NV                                 0.2288      0.009     26.755      0.000       0.212       0.246\n",
      "NY                                 0.1678      0.008     22.184      0.000       0.153       0.183\n",
      "OH                                 0.1665      0.008     21.651      0.000       0.151       0.182\n",
      "OK                                 0.2589      0.008     31.454      0.000       0.243       0.275\n",
      "OR                                 0.2419      0.008     28.855      0.000       0.225       0.258\n",
      "PA                                 0.1385      0.008     18.062      0.000       0.123       0.154\n",
      "SC                                 0.0694      0.008      8.473      0.000       0.053       0.085\n",
      "SD                                 0.3148      0.011     29.496      0.000       0.294       0.336\n",
      "TN                                 0.1629      0.008     20.333      0.000       0.147       0.179\n",
      "TX                                 0.1970      0.008     25.908      0.000       0.182       0.212\n",
      "UT                                 0.2782      0.009     31.842      0.000       0.261       0.295\n",
      "VA                                 0.1347      0.008     17.110      0.000       0.119       0.150\n",
      "VT                                 0.0559      0.011      5.006      0.000       0.034       0.078\n",
      "WA                                 0.2752      0.008     34.431      0.000       0.259       0.291\n",
      "WI                                 0.2301      0.008     28.708      0.000       0.214       0.246\n",
      "WV                                 0.1479      0.009     16.165      0.000       0.130       0.166\n",
      "WY                                 0.2478      0.012     20.043      0.000       0.224       0.272\n",
      "==============================================================================\n",
      "Omnibus:                     6569.714   Durbin-Watson:                   1.264\n",
      "Prob(Omnibus):                  0.000   Jarque-Bera (JB):            39955.239\n",
      "Skew:                           0.255   Prob(JB):                         0.00\n",
      "Kurtosis:                       6.712   Cond. No.                     6.65e+03\n",
      "==============================================================================\n",
      "\n",
      "Warnings:\n",
      "[1] Standard Errors assume that the covariance matrix of the errors is correctly specified.\n",
      "[2] The condition number is large, 6.65e+03. This might indicate that there are\n",
      "strong multicollinearity or other numerical problems.\n"
     ]
    }
   ],
   "source": [
    "# estimate a model across the full data set (all tracts)\n",
    "Xc = add_constant(X)\n",
    "model = sm.OLS(y, Xc)\n",
    "result = model.fit()\n",
    "print(result.summary())"
   ]
  },
  {
   "cell_type": "code",
   "execution_count": 31,
   "metadata": {},
   "outputs": [
    {
     "name": "stdout",
     "output_type": "stream",
     "text": [
      "-109257.53624000354\n",
      "54698.76812000177\n"
     ]
    }
   ],
   "source": [
    "print(result.aic)\n",
    "print(result.llf)"
   ]
  },
  {
   "cell_type": "code",
   "execution_count": 32,
   "metadata": {},
   "outputs": [],
   "source": [
    "table4 = make_table(result)"
   ]
  },
  {
   "cell_type": "markdown",
   "metadata": {},
   "source": [
    "## Merge the results tables and save to disk"
   ]
  },
  {
   "cell_type": "code",
   "execution_count": 33,
   "metadata": {},
   "outputs": [],
   "source": [
    "table = pd.concat((table1, table2, table3, table4), axis=1, sort=False).fillna('')\n",
    "table.to_csv('data/table-ols-models.csv', index=True, encoding='utf-8')"
   ]
  },
  {
   "cell_type": "code",
   "execution_count": null,
   "metadata": {},
   "outputs": [],
   "source": []
  }
 ],
 "metadata": {
  "kernelspec": {
   "display_name": "Python 3",
   "language": "python",
   "name": "python3"
  },
  "language_info": {
   "codemirror_mode": {
    "name": "ipython",
    "version": 3
   },
   "file_extension": ".py",
   "mimetype": "text/x-python",
   "name": "python",
   "nbconvert_exporter": "python",
   "pygments_lexer": "ipython3",
   "version": "3.7.1"
  }
 },
 "nbformat": 4,
 "nbformat_minor": 2
}
