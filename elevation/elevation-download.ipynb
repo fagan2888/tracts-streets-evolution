{
 "cells": [
  {
   "cell_type": "markdown",
   "metadata": {},
   "source": [
    "https://cloud.google.com/maps-platform/pricing/sheet/"
   ]
  },
  {
   "cell_type": "code",
   "execution_count": 1,
   "metadata": {},
   "outputs": [],
   "source": [
    "import math\n",
    "import os\n",
    "import osmnx as ox\n",
    "import pandas as pd\n",
    "import time\n",
    "import requests\n",
    "from keys import google_elevation_api_key\n",
    "\n",
    "ox.config(log_console=True, use_cache=True, log_file=True)\n",
    "\n",
    "nodes_folder = 'data/nodes'\n",
    "output_folder = 'data/nodes_elevation_new'"
   ]
  },
  {
   "cell_type": "code",
   "execution_count": 2,
   "metadata": {},
   "outputs": [],
   "source": [
    "def get_node_elevations(nodes, api_key, max_locations_per_batch=350,\n",
    "                        pause_duration=0.02):\n",
    "\n",
    "    # google maps elevation API endpoint\n",
    "    url_template = 'https://maps.googleapis.com/maps/api/elevation/json?locations={}&key={}'\n",
    "\n",
    "    ox.log('Requesting node elevations from the API in {} calls.'.format(math.ceil(len(nodes) / max_locations_per_batch)))\n",
    "\n",
    "    # break the series of coordinates into chunks of size max_locations_per_batch\n",
    "    # API format is locations=lat,lng|lat,lng|lat,lng|lat,lng...\n",
    "    results = []\n",
    "    for i in range(0, len(nodes), max_locations_per_batch):\n",
    "        chunk = nodes['latlng'].iloc[i : i + max_locations_per_batch]\n",
    "        locations = '|'.join(chunk)\n",
    "        url = url_template.format(locations, api_key)\n",
    "\n",
    "        # check if this request is already in the cache (if global use_cache=True)\n",
    "        cached_response_json = ox.get_from_cache(url)\n",
    "        if cached_response_json is not None:\n",
    "            response_json = cached_response_json\n",
    "            ox.log('Got node elevations from cache')\n",
    "        else:\n",
    "            try:\n",
    "                # request the elevations from the API\n",
    "                ox.log('Requesting node elevations: {}'.format(url))\n",
    "                time.sleep(pause_duration)\n",
    "                response = requests.get(url)\n",
    "                response_json = response.json()\n",
    "                ox.save_to_cache(url, response_json)\n",
    "            except Exception as e:\n",
    "                ox.log(e)\n",
    "                ox.log('Server responded with {}: {}'.format(response.status_code, response.reason))\n",
    "\n",
    "        # append these elevation results to the list of all results\n",
    "        results.extend(response_json['results'])\n",
    "\n",
    "    # sanity check that all our vectors have the same number of elements\n",
    "    if not (len(results) == len(nodes)):\n",
    "        raise Exception('State has {} nodes but we received {} results from the elevation API.'.format(len(nodes), len(results)))\n",
    "    else:\n",
    "        ox.log('State has {} nodes and we received {} results from the elevation API.'.format(len(nodes), len(results)))\n",
    "\n",
    "    # add elevation as an attribute to the nodes\n",
    "    nodes['elevation'] = [result['elevation'] for result in results]\n",
    "    nodes['elevation'] = nodes['elevation'].round(3) # round to millimeter\n",
    "    ox.log('Added elevation data to all nodes.')\n",
    "\n",
    "    return nodes"
   ]
  },
  {
   "cell_type": "markdown",
   "metadata": {},
   "source": [
    "## Run it\n"
   ]
  },
  {
   "cell_type": "code",
   "execution_count": 3,
   "metadata": {},
   "outputs": [
    {
     "name": "stderr",
     "output_type": "stream",
     "text": [
      "G:\\Anaconda\\lib\\site-packages\\numpy\\lib\\arraysetops.py:472: FutureWarning: elementwise comparison failed; returning scalar instead, but in the future will perform elementwise comparison\n",
      "  mask |= (ar1 == a)\n"
     ]
    },
    {
     "name": "stdout",
     "output_type": "stream",
     "text": [
      "Wall time: 2h 21min 30s\n"
     ]
    }
   ],
   "source": [
    "%%time\n",
    "for file in os.listdir(nodes_folder):\n",
    "    nodes = pd.read_csv(f'{nodes_folder}/{file}', index_col='Unnamed: 0')\n",
    "    nodes['latlng'] = nodes.apply(lambda row: '{:.5f},{:.5f}'.format(row['y'], row['x']), axis=1)\n",
    "    nodes = get_node_elevations(nodes, api_key=google_elevation_api_key, pause_duration=0)\n",
    "    nodes[['elevation']].to_csv(f'{output_folder}/{file}', index=True, encoding='utf-8')"
   ]
  },
  {
   "cell_type": "code",
   "execution_count": null,
   "metadata": {},
   "outputs": [],
   "source": []
  }
 ],
 "metadata": {
  "kernelspec": {
   "display_name": "Python 3",
   "language": "python",
   "name": "python3"
  },
  "language_info": {
   "codemirror_mode": {
    "name": "ipython",
    "version": 3
   },
   "file_extension": ".py",
   "mimetype": "text/x-python",
   "name": "python",
   "nbconvert_exporter": "python",
   "pygments_lexer": "ipython3",
   "version": "3.6.5"
  }
 },
 "nbformat": 4,
 "nbformat_minor": 2
}
