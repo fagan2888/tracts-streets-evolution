{
 "cells": [
  {
   "cell_type": "code",
   "execution_count": 1,
   "metadata": {},
   "outputs": [],
   "source": [
    "import os\n",
    "import osmnx as ox\n",
    "import pandas as pd\n",
    "\n",
    "ox.config(log_console=True)\n",
    "\n",
    "graphs_folder = 'G:\\\\Geoff\\\\osmnx\\\\data\\\\tracts\\\\graphml'\n",
    "nodes_folder = 'data/nodes'\n",
    "current_elevations_folder = 'data/nodes_elevation_old'"
   ]
  },
  {
   "cell_type": "code",
   "execution_count": 2,
   "metadata": {},
   "outputs": [
    {
     "name": "stdout",
     "output_type": "stream",
     "text": [
      "wrote 269021 nodes to data/nodes/01_AL.csv\n",
      "wrote 25833 nodes to data/nodes/02_AK.csv\n",
      "wrote 139249 nodes to data/nodes/04_AZ.csv\n",
      "wrote 186679 nodes to data/nodes/05_AR.csv\n",
      "wrote 432595 nodes to data/nodes/06_CA.csv\n",
      "wrote 149093 nodes to data/nodes/08_CO.csv\n",
      "wrote 91026 nodes to data/nodes/09_CT.csv\n",
      "wrote 35878 nodes to data/nodes/10_DE.csv\n",
      "wrote 22 nodes to data/nodes/11_DC.csv\n",
      "wrote 526612 nodes to data/nodes/12_FL.csv\n",
      "wrote 400255 nodes to data/nodes/13_GA.csv\n",
      "wrote 4318 nodes to data/nodes/15_HI.csv\n",
      "wrote 149340 nodes to data/nodes/16_ID.csv\n",
      "wrote 223239 nodes to data/nodes/17_IL.csv\n",
      "wrote 203952 nodes to data/nodes/18_IN.csv\n",
      "wrote 111534 nodes to data/nodes/19_IA.csv\n",
      "wrote 179031 nodes to data/nodes/20_KS.csv\n",
      "wrote 230540 nodes to data/nodes/21_KY.csv\n",
      "wrote 232233 nodes to data/nodes/22_LA.csv\n",
      "wrote 115820 nodes to data/nodes/23_ME.csv\n",
      "wrote 195492 nodes to data/nodes/24_MD.csv\n",
      "wrote 177143 nodes to data/nodes/25_MA.csv\n",
      "wrote 296793 nodes to data/nodes/26_MI.csv\n",
      "wrote 170711 nodes to data/nodes/27_MN.csv\n",
      "wrote 175181 nodes to data/nodes/28_MS.csv\n",
      "wrote 296993 nodes to data/nodes/29_MO.csv\n",
      "wrote 111943 nodes to data/nodes/30_MT.csv\n",
      "wrote 137988 nodes to data/nodes/31_NE.csv\n",
      "wrote 61384 nodes to data/nodes/32_NV.csv\n",
      "wrote 74319 nodes to data/nodes/33_NH.csv\n",
      "wrote 190731 nodes to data/nodes/34_NJ.csv\n",
      "wrote 220112 nodes to data/nodes/35_NM.csv\n",
      "wrote 363593 nodes to data/nodes/36_NY.csv\n",
      "wrote 363008 nodes to data/nodes/37_NC.csv\n",
      "wrote 125016 nodes to data/nodes/38_ND.csv\n",
      "wrote 255670 nodes to data/nodes/39_OH.csv\n",
      "wrote 242246 nodes to data/nodes/40_OK.csv\n",
      "wrote 134769 nodes to data/nodes/41_OR.csv\n",
      "wrote 450842 nodes to data/nodes/42_PA.csv\n",
      "wrote 30108 nodes to data/nodes/44_RI.csv\n",
      "wrote 264656 nodes to data/nodes/45_SC.csv\n",
      "wrote 77853 nodes to data/nodes/46_SD.csv\n",
      "wrote 228563 nodes to data/nodes/47_TN.csv\n",
      "wrote 1008090 nodes to data/nodes/48_TX.csv\n",
      "wrote 38449 nodes to data/nodes/49_UT.csv\n",
      "wrote 50594 nodes to data/nodes/50_VT.csv\n",
      "wrote 505919 nodes to data/nodes/51_VA.csv\n",
      "wrote 218477 nodes to data/nodes/53_WA.csv\n",
      "wrote 123298 nodes to data/nodes/54_WV.csv\n",
      "wrote 201949 nodes to data/nodes/55_WI.csv\n",
      "wrote 54231 nodes to data/nodes/56_WY.csv\n",
      "Wall time: 2h 34min 56s\n"
     ]
    }
   ],
   "source": [
    "%%time\n",
    "for state_folder in os.listdir(graphs_folder):\n",
    "    \n",
    "    current_elevations = pd.read_csv(f'{current_elevations_folder}/{state_folder}.csv', index_col=0)['elevation']\n",
    "    \n",
    "    state_nodes = pd.DataFrame()\n",
    "    for filename in os.listdir(f'{graphs_folder}/{state_folder}'):\n",
    "        \n",
    "        filepath = f'{graphs_folder}/{state_folder}/{filename}'\n",
    "        \n",
    "        div = filepath.rfind('/') + 1\n",
    "        folder = filepath[:div]\n",
    "        filename = filepath[div:]\n",
    "        geoid = filename.split('_')[0]\n",
    "\n",
    "        G = ox.load_graphml(filename=filename, folder=folder)\n",
    "        graph_nodes = ox.graph_to_gdfs(G, edges=False, node_geometry=False)[['x', 'y']]\n",
    "        \n",
    "        # only keep new nodes not in the existing elevations folder (from places analysis)\n",
    "        new_graph_nodes = graph_nodes[~(graph_nodes.index.isin(current_elevations.index))]\n",
    "        state_nodes = state_nodes.append(new_graph_nodes, ignore_index=False, verify_integrity=False)\n",
    "        \n",
    "    output_path = f'{nodes_folder}/{state_folder}.csv'\n",
    "    state_nodes = state_nodes[~state_nodes.index.duplicated(keep='first')]\n",
    "    state_nodes.to_csv(output_path, index=True, encoding='utf-8')\n",
    "    print('wrote {} nodes to {}'.format(len(state_nodes), output_path))"
   ]
  },
  {
   "cell_type": "code",
   "execution_count": 3,
   "metadata": {},
   "outputs": [
    {
     "data": {
      "text/plain": [
       "10552391"
      ]
     },
     "execution_count": 3,
     "metadata": {},
     "output_type": "execute_result"
    }
   ],
   "source": [
    "count = 0\n",
    "for file in os.listdir(nodes_folder):\n",
    "    count += len(pd.read_csv(f'{nodes_folder}/{file}'))\n",
    "count"
   ]
  },
  {
   "cell_type": "code",
   "execution_count": null,
   "metadata": {},
   "outputs": [],
   "source": []
  }
 ],
 "metadata": {
  "kernelspec": {
   "display_name": "Python 3",
   "language": "python",
   "name": "python3"
  },
  "language_info": {
   "codemirror_mode": {
    "name": "ipython",
    "version": 3
   },
   "file_extension": ".py",
   "mimetype": "text/x-python",
   "name": "python",
   "nbconvert_exporter": "python",
   "pygments_lexer": "ipython3",
   "version": "3.6.5"
  }
 },
 "nbformat": 4,
 "nbformat_minor": 2
}
