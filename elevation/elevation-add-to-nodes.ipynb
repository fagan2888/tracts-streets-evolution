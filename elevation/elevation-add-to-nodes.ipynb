{
 "cells": [
  {
   "cell_type": "code",
   "execution_count": 1,
   "metadata": {},
   "outputs": [],
   "source": [
    "import networkx as nx\n",
    "import os\n",
    "import osmnx as ox\n",
    "import pandas as pd\n",
    "\n",
    "ox.config(log_console=True)\n",
    "\n",
    "graphs_folder = 'G:\\\\Geoff\\\\osmnx\\\\data\\\\tracts\\\\graphml'\n",
    "indicators_path = 'data/tracts_indicators.csv'\n",
    "elevation_folder = 'data/nodes_elevation'\n",
    "output_path = 'data/tracts_grades.csv'"
   ]
  },
  {
   "cell_type": "code",
   "execution_count": 2,
   "metadata": {},
   "outputs": [
    {
     "name": "stderr",
     "output_type": "stream",
     "text": [
      "g:\\geoff\\dropbox\\documents\\school\\phd\\projects\\code\\osmnx-repos\\osmnx\\osmnx\\elevation.py:119: RuntimeWarning: invalid value encountered in double_scalars\n",
      "  grade = round(elevation_change / data['length'], 4)\n",
      "G:\\Anaconda\\lib\\site-packages\\numpy\\lib\\arraysetops.py:472: FutureWarning: elementwise comparison failed; returning scalar instead, but in the future will perform elementwise comparison\n",
      "  mask |= (ar1 == a)\n",
      "g:\\geoff\\dropbox\\documents\\school\\phd\\projects\\code\\osmnx-repos\\osmnx\\osmnx\\elevation.py:119: RuntimeWarning: divide by zero encountered in double_scalars\n",
      "  grade = round(elevation_change / data['length'], 4)\n"
     ]
    },
    {
     "name": "stdout",
     "output_type": "stream",
     "text": [
      "Wall time: 2h 1min 45s\n"
     ]
    }
   ],
   "source": [
    "%%time\n",
    "results = {}\n",
    "for state_folder in os.listdir(graphs_folder):\n",
    "    \n",
    "    elevations = pd.read_csv(f'{elevation_folder}/{state_folder}.csv', index_col=0, header=None)[1]\n",
    "    \n",
    "    for filename in os.listdir(f'{graphs_folder}/{state_folder}'):\n",
    "        \n",
    "        filepath = f'{graphs_folder}/{state_folder}/{filename}'\n",
    "        div = filepath.rfind('/') + 1\n",
    "        folder = filepath[:div]\n",
    "        filename = filepath[div:]\n",
    "        geoid = filename.replace('.graphml', '')\n",
    "        \n",
    "        G = ox.load_graphml(filename=filename, folder=folder)\n",
    "        \n",
    "        graph_elevations = elevations.loc[set(G.nodes())]\n",
    "        nx.set_node_attributes(G, name='elevation', values=graph_elevations)\n",
    "        G = ox.add_edge_grades(G)\n",
    "\n",
    "        grades = pd.Series(nx.get_edge_attributes(G, 'grade_abs'))\n",
    "        \n",
    "        el_iqr = graph_elevations.quantile(0.75) - graph_elevations.quantile(0.25)\n",
    "        el_range = graph_elevations.max() - graph_elevations.min()\n",
    "        results[geoid] = {'grade_mean' : grades.mean(),\n",
    "                          'grade_median' : grades.median(),\n",
    "                          'elevations_std' : graph_elevations.std(),\n",
    "                          'elevations_range' : el_range,\n",
    "                          'elevations_iqr' : el_iqr}"
   ]
  },
  {
   "cell_type": "code",
   "execution_count": 3,
   "metadata": {},
   "outputs": [
    {
     "data": {
      "text/html": [
       "<div>\n",
       "<style scoped>\n",
       "    .dataframe tbody tr th:only-of-type {\n",
       "        vertical-align: middle;\n",
       "    }\n",
       "\n",
       "    .dataframe tbody tr th {\n",
       "        vertical-align: top;\n",
       "    }\n",
       "\n",
       "    .dataframe thead th {\n",
       "        text-align: right;\n",
       "    }\n",
       "</style>\n",
       "<table border=\"1\" class=\"dataframe\">\n",
       "  <thead>\n",
       "    <tr style=\"text-align: right;\">\n",
       "      <th></th>\n",
       "      <th>elevations_iqr</th>\n",
       "      <th>elevations_range</th>\n",
       "      <th>elevations_std</th>\n",
       "      <th>grade_mean</th>\n",
       "      <th>grade_median</th>\n",
       "    </tr>\n",
       "  </thead>\n",
       "  <tbody>\n",
       "    <tr>\n",
       "      <th>01001020100</th>\n",
       "      <td>47.33050</td>\n",
       "      <td>86.482</td>\n",
       "      <td>25.815171</td>\n",
       "      <td>0.024849</td>\n",
       "      <td>0.01740</td>\n",
       "    </tr>\n",
       "    <tr>\n",
       "      <th>01001020200</th>\n",
       "      <td>35.53200</td>\n",
       "      <td>77.211</td>\n",
       "      <td>24.781705</td>\n",
       "      <td>0.025185</td>\n",
       "      <td>0.01880</td>\n",
       "    </tr>\n",
       "    <tr>\n",
       "      <th>01001020300</th>\n",
       "      <td>17.92425</td>\n",
       "      <td>76.987</td>\n",
       "      <td>15.680329</td>\n",
       "      <td>0.025761</td>\n",
       "      <td>0.01765</td>\n",
       "    </tr>\n",
       "    <tr>\n",
       "      <th>01001020400</th>\n",
       "      <td>10.90325</td>\n",
       "      <td>39.386</td>\n",
       "      <td>7.819470</td>\n",
       "      <td>0.015734</td>\n",
       "      <td>0.01110</td>\n",
       "    </tr>\n",
       "    <tr>\n",
       "      <th>01001020500</th>\n",
       "      <td>7.87225</td>\n",
       "      <td>74.286</td>\n",
       "      <td>11.679680</td>\n",
       "      <td>0.014819</td>\n",
       "      <td>0.01020</td>\n",
       "    </tr>\n",
       "  </tbody>\n",
       "</table>\n",
       "</div>"
      ],
      "text/plain": [
       "             elevations_iqr  elevations_range  elevations_std  grade_mean  \\\n",
       "01001020100        47.33050            86.482       25.815171    0.024849   \n",
       "01001020200        35.53200            77.211       24.781705    0.025185   \n",
       "01001020300        17.92425            76.987       15.680329    0.025761   \n",
       "01001020400        10.90325            39.386        7.819470    0.015734   \n",
       "01001020500         7.87225            74.286       11.679680    0.014819   \n",
       "\n",
       "             grade_median  \n",
       "01001020100       0.01740  \n",
       "01001020200       0.01880  \n",
       "01001020300       0.01765  \n",
       "01001020400       0.01110  \n",
       "01001020500       0.01020  "
      ]
     },
     "execution_count": 3,
     "metadata": {},
     "output_type": "execute_result"
    }
   ],
   "source": [
    "df = pd.DataFrame(results).T\n",
    "df.head()"
   ]
  },
  {
   "cell_type": "code",
   "execution_count": 4,
   "metadata": {},
   "outputs": [],
   "source": [
    "df.to_csv(output_path, index=True, encoding='utf-8')"
   ]
  },
  {
   "cell_type": "code",
   "execution_count": 5,
   "metadata": {},
   "outputs": [
    {
     "data": {
      "text/plain": [
       "72663"
      ]
     },
     "execution_count": 5,
     "metadata": {},
     "output_type": "execute_result"
    }
   ],
   "source": [
    "tracts = pd.read_csv(indicators_path, dtype={'geoid':str})\n",
    "tracts = pd.merge(tracts, df, left_on='geoid', right_index=True)\n",
    "len(tracts)"
   ]
  },
  {
   "cell_type": "code",
   "execution_count": 6,
   "metadata": {},
   "outputs": [],
   "source": [
    "tracts.to_csv('data/tracts_indicators_grades.csv', index=False, encoding='utf-8')"
   ]
  },
  {
   "cell_type": "code",
   "execution_count": null,
   "metadata": {},
   "outputs": [],
   "source": []
  }
 ],
 "metadata": {
  "kernelspec": {
   "display_name": "Python 3",
   "language": "python",
   "name": "python3"
  },
  "language_info": {
   "codemirror_mode": {
    "name": "ipython",
    "version": 3
   },
   "file_extension": ".py",
   "mimetype": "text/x-python",
   "name": "python",
   "nbconvert_exporter": "python",
   "pygments_lexer": "ipython3",
   "version": "3.6.5"
  }
 },
 "nbformat": 4,
 "nbformat_minor": 2
}
