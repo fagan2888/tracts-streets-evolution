{
 "cells": [
  {
   "cell_type": "code",
   "execution_count": 1,
   "metadata": {},
   "outputs": [],
   "source": [
    "import os\n",
    "import pandas as pd\n",
    "\n",
    "elevations_old_folder = 'data/nodes_elevation_old'\n",
    "elevations_new_folder = 'data/nodes_elevation_new'\n",
    "output_folder = 'data/nodes_elevation'"
   ]
  },
  {
   "cell_type": "code",
   "execution_count": 2,
   "metadata": {},
   "outputs": [
    {
     "name": "stdout",
     "output_type": "stream",
     "text": [
      "01_AL.csv 217103 269021 486124\n",
      "02_AK.csv 25448 25833 51281\n",
      "04_AZ.csv 212112 139249 351361\n",
      "05_AR.csv 135574 186679 322253\n",
      "06_CA.csv 801106 432595 1233701\n",
      "08_CO.csv 166567 149093 315660\n",
      "09_CT.csv 34945 91026 125971\n",
      "10_DE.csv 13100 35878 48978\n",
      "11_DC.csv 10091 22 10113\n",
      "12_FL.csv 398035 526612 924647\n",
      "13_GA.csv 232187 400255 632442\n",
      "15_HI.csv 28947 4318 33265\n",
      "16_ID.csv 61333 149340 210673\n",
      "17_IL.csv 380475 223239 603714\n",
      "18_IN.csv 217310 203952 421262\n",
      "19_IA.csv 134023 111534 245557\n",
      "20_KS.csv 149978 179031 329009\n",
      "21_KY.csv 120313 230540 350853\n",
      "22_LA.csv 120235 232233 352468\n",
      "23_ME.csv 19309 115820 135129\n",
      "24_MD.csv 48552 195492 244044\n",
      "25_MA.csv 98877 177143 276020\n",
      "26_MI.csv 191087 296793 487880\n",
      "27_MN.csv 209811 170711 380522\n",
      "28_MS.csv 103401 175181 278582\n",
      "29_MO.csv 224336 296993 521329\n",
      "30_MT.csv 33488 111943 145431\n",
      "31_NE.csv 88075 137988 226063\n",
      "32_NV.csv 59885 61384 121269\n",
      "33_NH.csv 18431 74319 92750\n",
      "34_NJ.csv 111759 190731 302490\n",
      "35_NM.csv 75706 220112 295818\n",
      "36_NY.csv 182775 363593 546368\n",
      "37_NC.csv 289350 363008 652358\n",
      "38_ND.csv 36097 125016 161113\n",
      "39_OH.csv 287389 255670 543059\n",
      "40_OK.csv 184887 242246 427133\n",
      "41_OR.csv 120993 134769 255762\n",
      "42_PA.csv 188192 450842 639034\n",
      "44_RI.csv 20337 30108 50445\n",
      "45_SC.csv 108046 264656 372702\n",
      "46_SD.csv 39799 77853 117652\n",
      "47_TN.csv 197964 228563 426527\n"
     ]
    },
    {
     "name": "stderr",
     "output_type": "stream",
     "text": [
      "G:\\Anaconda\\lib\\site-packages\\numpy\\lib\\arraysetops.py:472: FutureWarning: elementwise comparison failed; returning scalar instead, but in the future will perform elementwise comparison\n",
      "  mask |= (ar1 == a)\n"
     ]
    },
    {
     "name": "stdout",
     "output_type": "stream",
     "text": [
      "48_TX.csv 820615 1008090 1828705\n",
      "49_UT.csv 102836 38449 141285\n",
      "50_VT.csv 6283 50594 56877\n",
      "51_VA.csv 146649 505919 652568\n",
      "53_WA.csv 181823 218477 400300\n",
      "54_WV.csv 42995 123298 166293\n",
      "55_WI.csv 183406 201949 385355\n",
      "56_WY.csv 22686 54231 76917\n",
      "Wall time: 1min 10s\n"
     ]
    }
   ],
   "source": [
    "%%time\n",
    "for old_file, new_file in zip(os.listdir(elevations_old_folder), os.listdir(elevations_new_folder)):\n",
    "    \n",
    "    assert old_file == new_file\n",
    "    elevations_old = pd.read_csv(f'{elevations_old_folder}/{old_file}', index_col=0)['elevation']\n",
    "    elevations_new = pd.read_csv(f'{elevations_new_folder}/{new_file}', index_col=0)['elevation']\n",
    "    elevations = elevations_old.append(elevations_new, verify_integrity=True).sort_index()\n",
    "    \n",
    "    elevations.to_csv(f'{output_folder}/{old_file}', index=True, encoding='utf-8')\n",
    "    print(old_file, len(elevations_old), len(elevations_new), len(elevations))"
   ]
  },
  {
   "cell_type": "code",
   "execution_count": 3,
   "metadata": {},
   "outputs": [
    {
     "data": {
      "text/plain": [
       "18457061"
      ]
     },
     "execution_count": 3,
     "metadata": {},
     "output_type": "execute_result"
    }
   ],
   "source": [
    "count = 0\n",
    "for file in os.listdir(output_folder):\n",
    "    count += len(pd.read_csv(f'{output_folder}/{file}'))\n",
    "count"
   ]
  },
  {
   "cell_type": "code",
   "execution_count": null,
   "metadata": {},
   "outputs": [],
   "source": []
  }
 ],
 "metadata": {
  "kernelspec": {
   "display_name": "Python 3",
   "language": "python",
   "name": "python3"
  },
  "language_info": {
   "codemirror_mode": {
    "name": "ipython",
    "version": 3
   },
   "file_extension": ".py",
   "mimetype": "text/x-python",
   "name": "python",
   "nbconvert_exporter": "python",
   "pygments_lexer": "ipython3",
   "version": "3.6.5"
  }
 },
 "nbformat": 4,
 "nbformat_minor": 2
}
