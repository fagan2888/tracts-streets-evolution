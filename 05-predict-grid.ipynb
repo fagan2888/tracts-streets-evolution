{
 "cells": [
  {
   "cell_type": "code",
   "execution_count": 1,
   "metadata": {},
   "outputs": [],
   "source": [
    "import geopandas as gpd\n",
    "import numpy as np\n",
    "import pandas as pd\n",
    "import statsmodels.api as sm\n",
    "from pysal.lib import weights\n",
    "from pysal.model import spreg\n",
    "from scipy.stats.mstats import zscore\n",
    "from statsmodels.iolib.summary2 import summary_col\n",
    "from statsmodels.tools.tools import add_constant\n",
    "np.random.seed(0)\n",
    "\n",
    "shp_path = 'data/tracts_shapefile/tracts_shapefile.shp'\n",
    "indicators_path = 'data/tracts_indicators_grades_eras_index.csv'\n",
    "response = 'grid_index_geom'\n",
    "\n",
    "spat_diag = False"
   ]
  },
  {
   "cell_type": "code",
   "execution_count": 2,
   "metadata": {},
   "outputs": [
    {
     "data": {
      "text/plain": [
       "(72663, 154)"
      ]
     },
     "execution_count": 2,
     "metadata": {},
     "output_type": "execute_result"
    }
   ],
   "source": [
    "df = pd.read_csv(indicators_path, dtype={'geoid':str, 'state':str, 'county':str})\n",
    "df.shape"
   ]
  },
  {
   "cell_type": "code",
   "execution_count": 3,
   "metadata": {},
   "outputs": [
    {
     "data": {
      "text/plain": [
       "(74133, 12)"
      ]
     },
     "execution_count": 3,
     "metadata": {},
     "output_type": "execute_result"
    }
   ],
   "source": [
    "gdf = gpd.read_file(shp_path).set_index('GEOID')\n",
    "gdf.shape"
   ]
  },
  {
   "cell_type": "code",
   "execution_count": 4,
   "metadata": {},
   "outputs": [
    {
     "data": {
      "text/plain": [
       "(46311, 154)"
      ]
     },
     "execution_count": 4,
     "metadata": {},
     "output_type": "execute_result"
    }
   ],
   "source": [
    "# restrict modeling to only urban tracts\n",
    "df = df[df['is_urban'] == 1]\n",
    "df.shape"
   ]
  },
  {
   "cell_type": "code",
   "execution_count": 5,
   "metadata": {},
   "outputs": [
    {
     "data": {
      "text/plain": [
       "grid_index_geom        1.000000\n",
       "grid_index             0.955074\n",
       "prop_4way              0.903810\n",
       "orientation_entropy    0.869145\n",
       "orientation_order      0.867383\n",
       "length_entropy_log     0.709035\n",
       "prop_deadend           0.690659\n",
       "straightness           0.659883\n",
       "circuity_avg           0.604262\n",
       "k_avg                  0.546986\n",
       "Name: grid_index_geom, dtype: float64"
      ]
     },
     "execution_count": 5,
     "metadata": {},
     "output_type": "execute_result"
    }
   ],
   "source": [
    "df.corr()[response].abs().sort_values(ascending=False).head(10)"
   ]
  },
  {
   "cell_type": "markdown",
   "metadata": {},
   "source": [
    "## Modeling"
   ]
  },
  {
   "cell_type": "code",
   "execution_count": 6,
   "metadata": {},
   "outputs": [],
   "source": [
    "df['pop_density'] = df['pop_density'] / 1000 #put these regression coefficients into units of 1000s of persons"
   ]
  },
  {
   "cell_type": "code",
   "execution_count": 7,
   "metadata": {},
   "outputs": [
    {
     "data": {
      "text/plain": [
       "50"
      ]
     },
     "execution_count": 7,
     "metadata": {},
     "output_type": "execute_result"
    }
   ],
   "source": [
    "# identify the era dummies in the dataframe\n",
    "era_primary_dummies = sorted([c for c in df.columns if 'dummy_primary_' in c and '_1939_earlier' not in c])\n",
    "\n",
    "# get the state dummies\n",
    "states = df['state_abbrev'].unique()\n",
    "state_dummies = states[1:].tolist()\n",
    "#state_dummies = sorted([s for s in states if s != 'CA']) #all but CA\n",
    "len(state_dummies)"
   ]
  },
  {
   "cell_type": "code",
   "execution_count": 8,
   "metadata": {},
   "outputs": [
    {
     "name": "stdout",
     "output_type": "stream",
     "text": [
      "1390\n",
      "Wall time: 24 s\n"
     ]
    }
   ],
   "source": [
    "%%time\n",
    "# create county dummies\n",
    "df['st_county'] = df['state'].astype(str) + df['county'].astype(str)\n",
    "counties = df['st_county'].unique()\n",
    "for county in counties:\n",
    "    df[county] = df['st_county'].map(lambda x: 1 if x==county else 0)\n",
    "\n",
    "county_dummies = counties[1:].tolist()\n",
    "#county_dummies = sorted([c for c in counties if c != '06037']) #all but LA county\n",
    "print(len(county_dummies))"
   ]
  },
  {
   "cell_type": "code",
   "execution_count": 9,
   "metadata": {},
   "outputs": [
    {
     "data": {
      "text/plain": [
       "1390"
      ]
     },
     "execution_count": 9,
     "metadata": {},
     "output_type": "execute_result"
    }
   ],
   "source": [
    "# define which dummies to use as the spatial fixed effects\n",
    "# if including both county + state, you'll get colinearity unless you drop one county from each state?\n",
    "fixed_effects = county_dummies #+ state_dummies\n",
    "len(fixed_effects)"
   ]
  },
  {
   "cell_type": "code",
   "execution_count": 10,
   "metadata": {},
   "outputs": [],
   "source": [
    "def get_response_and_design(df, response, predictors, condition_number=True):\n",
    "    \n",
    "    # select predictors and drop any rows with nulls in the response or predictors\n",
    "    df_model = df.replace([np.inf, -np.inf], np.nan).dropna(subset=predictors + [response])\n",
    "\n",
    "    # create design matrix and response vector (and response as matrix for pysal)\n",
    "    X = df_model[predictors]\n",
    "    y = df_model[response]\n",
    "\n",
    "    # drop columns that are constants (to prevent perfect colinearity)\n",
    "    # this happens if a county has no observations, for instance\n",
    "    X = X.loc[:, X.nunique() != 1]\n",
    "    \n",
    "    # what are the geoids of the observations retained in the response vector + design matrix?\n",
    "    geoids = df_model['geoid'].values\n",
    "    \n",
    "    if condition_number:\n",
    "        cn = np.linalg.cond(zscore(X))\n",
    "        return y, X, geoids, cn\n",
    "    else:\n",
    "        return y, X, geoids"
   ]
  },
  {
   "cell_type": "code",
   "execution_count": 11,
   "metadata": {},
   "outputs": [],
   "source": [
    "def make_pysal_table(model, precision=4, ignore=None):\n",
    "    \n",
    "    try:\n",
    "        idx = model.name_z\n",
    "    except:\n",
    "        idx = model.name_x\n",
    "    \n",
    "    z_stat = np.array(model.z_stat)\n",
    "    table = pd.DataFrame({'beta' : model.betas.flatten(),\n",
    "                          's.e.' : model.std_err,\n",
    "                          'z'    : z_stat[:, 0],\n",
    "                          'p'    : z_stat[:, 1]}, \n",
    "                          index=idx)\n",
    "    \n",
    "    if ignore is not None:\n",
    "        to_drop = [c for c in ignore if c in table.index]\n",
    "        table = table.drop(to_drop, axis='rows')\n",
    "    \n",
    "    return table.round(precision)"
   ]
  },
  {
   "cell_type": "markdown",
   "metadata": {},
   "source": [
    "## Model 0\n",
    "\n",
    "check the grid index vs its components to check its validity"
   ]
  },
  {
   "cell_type": "code",
   "execution_count": 12,
   "metadata": {},
   "outputs": [
    {
     "name": "stdout",
     "output_type": "stream",
     "text": [
      "2.4156406511054223\n",
      "Wall time: 17.9 s\n"
     ]
    }
   ],
   "source": [
    "%%time\n",
    "regressors0 = ['orientation_order', 'prop_4way', 'straightness']\n",
    "predictors0 = regressors0\n",
    "y, X, geoids, cn = get_response_and_design(df, response, predictors0)\n",
    "print(cn)"
   ]
  },
  {
   "cell_type": "code",
   "execution_count": 13,
   "metadata": {},
   "outputs": [
    {
     "name": "stderr",
     "output_type": "stream",
     "text": [
      "G:\\Anaconda\\envs\\ox\\lib\\site-packages\\numpy\\core\\fromnumeric.py:2389: FutureWarning: Method .ptp is deprecated and will be removed in a future version. Use numpy.ptp instead.\n",
      "  return ptp(axis=axis, out=out, **kwargs)\n"
     ]
    },
    {
     "name": "stdout",
     "output_type": "stream",
     "text": [
      "0.9722518203503049\n",
      "Wall time: 103 ms\n"
     ]
    }
   ],
   "source": [
    "%%time\n",
    "# estimate the model with OLS\n",
    "result0 = sm.OLS(y, add_constant(X)).fit()\n",
    "print(result0.rsquared)"
   ]
  },
  {
   "cell_type": "markdown",
   "metadata": {},
   "source": [
    "## Model 1a: OLS\n",
    "\n",
    "predict grid index from era dummies, spatial fixed effects, and controls"
   ]
  },
  {
   "cell_type": "code",
   "execution_count": 14,
   "metadata": {},
   "outputs": [
    {
     "name": "stdout",
     "output_type": "stream",
     "text": [
      "186.08838946034666\n",
      "Wall time: 27.5 s\n"
     ]
    }
   ],
   "source": [
    "%%time\n",
    "regressors1 = ['aland', 'pop_density', 'prop_single_fam', 'med_rooms_per_home', #settlement density/scale\n",
    "               'intersect_density', 'length_mean', #street spatial scale\n",
    "               'elevations_iqr', 'grade_mean'] #hilliness\n",
    "predictors1 = era_primary_dummies + regressors1 + fixed_effects\n",
    "y, X, geoids, cn = get_response_and_design(df, response, predictors1)\n",
    "print(cn)"
   ]
  },
  {
   "cell_type": "code",
   "execution_count": 15,
   "metadata": {},
   "outputs": [
    {
     "name": "stdout",
     "output_type": "stream",
     "text": [
      "0.675528802926695\n",
      "Wall time: 14.9 s\n"
     ]
    }
   ],
   "source": [
    "%%time\n",
    "# estimate the model with OLS\n",
    "result1 = sm.OLS(y, add_constant(X)).fit()\n",
    "print(result1.rsquared)"
   ]
  },
  {
   "cell_type": "code",
   "execution_count": 16,
   "metadata": {},
   "outputs": [
    {
     "name": "stdout",
     "output_type": "stream",
     "text": [
      "\n",
      "=============================================\n",
      "                              grid_index_geom\n",
      "---------------------------------------------\n",
      "const                         0.6773***      \n",
      "                              (0.0526)       \n",
      "dummy_primary_prop_1940_49    -0.0396***     \n",
      "                              (0.0036)       \n",
      "dummy_primary_prop_1950_59    -0.0851***     \n",
      "                              (0.0019)       \n",
      "dummy_primary_prop_1960_69    -0.1413***     \n",
      "                              (0.0023)       \n",
      "dummy_primary_prop_1970_79    -0.1734***     \n",
      "                              (0.0021)       \n",
      "dummy_primary_prop_1980_89    -0.1975***     \n",
      "                              (0.0025)       \n",
      "dummy_primary_prop_1990_99    -0.1917***     \n",
      "                              (0.0027)       \n",
      "dummy_primary_prop_2000_09    -0.1567***     \n",
      "                              (0.0028)       \n",
      "dummy_primary_prop_2010_later -0.1173***     \n",
      "                              (0.0122)       \n",
      "aland                         -6.1799***     \n",
      "                              (0.2132)       \n",
      "pop_density                   0.0046***      \n",
      "                              (0.0002)       \n",
      "prop_single_fam               0.0412***      \n",
      "                              (0.0038)       \n",
      "med_rooms_per_home            -0.0285***     \n",
      "                              (0.0009)       \n",
      "intersect_density             0.0011***      \n",
      "                              (0.0000)       \n",
      "length_mean                   0.0004***      \n",
      "                              (0.0000)       \n",
      "elevations_iqr                -0.0014***     \n",
      "                              (0.0001)       \n",
      "grade_mean                    -1.8492***     \n",
      "                              (0.0654)       \n",
      "=============================================\n",
      "Standard errors in parentheses.\n",
      "* p<.1, ** p<.05, ***p<.01\n"
     ]
    }
   ],
   "source": [
    "regressors = pd.Series(['const'] + era_primary_dummies + regressors1).drop_duplicates(keep='first').tolist()\n",
    "print(summary_col(results=result1, regressor_order=regressors, drop_omitted=True, stars=True))"
   ]
  },
  {
   "cell_type": "markdown",
   "metadata": {},
   "source": [
    "## Model 1b: spatially explicit version"
   ]
  },
  {
   "cell_type": "code",
   "execution_count": 17,
   "metadata": {},
   "outputs": [
    {
     "name": "stdout",
     "output_type": "stream",
     "text": [
      "Wall time: 44.5 s\n"
     ]
    }
   ],
   "source": [
    "%%time\n",
    "# calculate spatial weights matrix for spatially-explicit alternative specification\n",
    "W1 = weights.Queen.from_dataframe(gdf.loc[geoids], silence_warnings=True)\n",
    "W1.transform = 'r'"
   ]
  },
  {
   "cell_type": "code",
   "execution_count": 18,
   "metadata": {},
   "outputs": [
    {
     "name": "stdout",
     "output_type": "stream",
     "text": [
      "Wall time: 1 ms\n"
     ]
    }
   ],
   "source": [
    "%%time\n",
    "# check ols diagnostics to see nature of spatial dependence\n",
    "Y = pd.DataFrame(y)\n",
    "if spat_diag:\n",
    "    ols = spreg.ols.OLS(y=Y.values, x=X.values, w=W1, spat_diag=True, moran=True)\n",
    "    print(ols.moran_res)\n",
    "    print(ols.rlm_lag, ols.rlm_error)"
   ]
  },
  {
   "cell_type": "code",
   "execution_count": 19,
   "metadata": {},
   "outputs": [
    {
     "name": "stdout",
     "output_type": "stream",
     "text": [
      "Wall time: 222 ms\n"
     ]
    }
   ],
   "source": [
    "%%time\n",
    "# spatial lag model uses w*Y as endogenous var\n",
    "wY = weights.lag_spatial(W1, Y)\n",
    "\n",
    "# use w*X and w*w*X as instruments for 2SLS\n",
    "# do not include spatial fixed effects (as w*X wouldn't make sense with them in it)\n",
    "wX = weights.lag_spatial(W1, X[regressors1 + era_primary_dummies])\n",
    "wwX = weights.lag_spatial(W1, wX)\n",
    "q = np.concatenate([wX, wwX], axis=1)"
   ]
  },
  {
   "cell_type": "code",
   "execution_count": 20,
   "metadata": {},
   "outputs": [
    {
     "name": "stdout",
     "output_type": "stream",
     "text": [
      "0.736819257317994\n",
      "46157\n",
      "                                 beta    s.e.        z       p\n",
      "CONSTANT                       0.4669  0.0407  11.4637  0.0000\n",
      "dummy_primary_prop_1940_49    -0.0358  0.0036  -9.8195  0.0000\n",
      "dummy_primary_prop_1950_59    -0.0690  0.0021 -33.0625  0.0000\n",
      "dummy_primary_prop_1960_69    -0.1105  0.0025 -43.7145  0.0000\n",
      "dummy_primary_prop_1970_79    -0.1325  0.0025 -52.7957  0.0000\n",
      "dummy_primary_prop_1980_89    -0.1497  0.0028 -53.1600  0.0000\n",
      "dummy_primary_prop_1990_99    -0.1456  0.0031 -47.3504  0.0000\n",
      "dummy_primary_prop_2000_09    -0.1183  0.0033 -35.9190  0.0000\n",
      "dummy_primary_prop_2010_later -0.0939  0.0115  -8.1928  0.0000\n",
      "aland                         -5.2862  0.2542 -20.7960  0.0000\n",
      "pop_density                    0.0037  0.0003  13.4201  0.0000\n",
      "prop_single_fam                0.0477  0.0036  13.3949  0.0000\n",
      "med_rooms_per_home            -0.0227  0.0008 -28.1345  0.0000\n",
      "intersect_density              0.0009  0.0000  20.9041  0.0000\n",
      "length_mean                    0.0003  0.0000   9.1052  0.0000\n",
      "elevations_iqr                -0.0012  0.0003  -3.8778  0.0001\n",
      "grade_mean                    -1.4544  0.5436  -2.6756  0.0075\n",
      "endogenous_1                   0.3325  0.0102  32.6579  0.0000\n",
      "Wall time: 8.28 s\n"
     ]
    }
   ],
   "source": [
    "%%time\n",
    "# spatial lag model via TSLS\n",
    "# can't use GM_Lag here, because it doesn't let you use a reduced set of X's columns as instruments (to avoid including spatial fixed effects)\n",
    "tsls_model1 = spreg.twosls.TSLS(y=Y.values, x=X.values, w=W1, name_w='W1', yend=wY, q=q, robust='white', spat_diag=True,\n",
    "                                name_x=X.columns.tolist(), name_y=response)\n",
    "\n",
    "table1 = make_pysal_table(tsls_model1, ignore=fixed_effects)\n",
    "print(tsls_model1.pr2)\n",
    "print(tsls_model1.n)\n",
    "print(table1)"
   ]
  },
  {
   "cell_type": "code",
   "execution_count": 21,
   "metadata": {},
   "outputs": [
    {
     "data": {
      "text/plain": [
       "(358.8559480631558, 4.9968816551316184e-80)"
      ]
     },
     "execution_count": 21,
     "metadata": {},
     "output_type": "execute_result"
    }
   ],
   "source": [
    "# if significant, spatial error autocorrelation is present\n",
    "tsls_model1.ak_test\n",
    "\n",
    "# you might want a combo model if ak stat is significant\n",
    "# and if the combo model parameter estimates differ greatly from the TSLS spatial lag model\n",
    "# you can't run GM_Combo_Het with spatial fixed effects \n",
    "# because it doesn't let you use a reduced set of X's columns as instruments (to avoid including spatial fixed effects)\n",
    "# instead, mimic the TSLS approach above, via GM_Endog_Error_Het\n",
    "# (but if you run the line below, you see similar parameter estimates, so this is unnecessary)\n",
    "#combo_model = spreg.GM_Endog_Error_Het(y=Y.values, x=X.values, w=W1, name_w='W1', yend=wY, q=q,\n",
    "#                                       name_x=X.columns.tolist(), name_y=response)"
   ]
  },
  {
   "cell_type": "code",
   "execution_count": 22,
   "metadata": {},
   "outputs": [],
   "source": [
    "table1.to_csv('data/table1.csv', index=True)"
   ]
  },
  {
   "cell_type": "markdown",
   "metadata": {},
   "source": [
    "#### Interpret total, direct, and indirect effects of spatial lag model\n",
    "\n",
    "Spatial lag model coefficients are not purely marginal effects:\n",
    "\n",
    "  - we're also interested in the total effect of a unit change in predictor k on the response\n",
    "  - total effect = direct effect (k's estimated coefficient) + indirect effect (spatial spillover)\n",
    "  - total effect is the change in response if you make a unit change in k at all locations simultaneously\n",
    "  - direct effect is what happens locally if you make a change (in k) at that one location\n",
    "  - indirect effect is the local effect of spillover from making that change at all other locations"
   ]
  },
  {
   "cell_type": "code",
   "execution_count": 23,
   "metadata": {},
   "outputs": [
    {
     "data": {
      "text/html": [
       "<div>\n",
       "<style scoped>\n",
       "    .dataframe tbody tr th:only-of-type {\n",
       "        vertical-align: middle;\n",
       "    }\n",
       "\n",
       "    .dataframe tbody tr th {\n",
       "        vertical-align: top;\n",
       "    }\n",
       "\n",
       "    .dataframe thead th {\n",
       "        text-align: right;\n",
       "    }\n",
       "</style>\n",
       "<table border=\"1\" class=\"dataframe\">\n",
       "  <thead>\n",
       "    <tr style=\"text-align: right;\">\n",
       "      <th></th>\n",
       "      <th>TE</th>\n",
       "      <th>DE</th>\n",
       "      <th>IE</th>\n",
       "    </tr>\n",
       "  </thead>\n",
       "  <tbody>\n",
       "    <tr>\n",
       "      <th>CONSTANT</th>\n",
       "      <td>0.699491</td>\n",
       "      <td>0.466919</td>\n",
       "      <td>0.232573</td>\n",
       "    </tr>\n",
       "    <tr>\n",
       "      <th>dummy_primary_prop_1940_49</th>\n",
       "      <td>-0.053654</td>\n",
       "      <td>-0.035815</td>\n",
       "      <td>-0.017839</td>\n",
       "    </tr>\n",
       "    <tr>\n",
       "      <th>dummy_primary_prop_1950_59</th>\n",
       "      <td>-0.103360</td>\n",
       "      <td>-0.068994</td>\n",
       "      <td>-0.034366</td>\n",
       "    </tr>\n",
       "    <tr>\n",
       "      <th>dummy_primary_prop_1960_69</th>\n",
       "      <td>-0.165587</td>\n",
       "      <td>-0.110532</td>\n",
       "      <td>-0.055056</td>\n",
       "    </tr>\n",
       "    <tr>\n",
       "      <th>dummy_primary_prop_1970_79</th>\n",
       "      <td>-0.198544</td>\n",
       "      <td>-0.132530</td>\n",
       "      <td>-0.066013</td>\n",
       "    </tr>\n",
       "    <tr>\n",
       "      <th>dummy_primary_prop_1980_89</th>\n",
       "      <td>-0.224276</td>\n",
       "      <td>-0.149707</td>\n",
       "      <td>-0.074569</td>\n",
       "    </tr>\n",
       "    <tr>\n",
       "      <th>dummy_primary_prop_1990_99</th>\n",
       "      <td>-0.218107</td>\n",
       "      <td>-0.145589</td>\n",
       "      <td>-0.072518</td>\n",
       "    </tr>\n",
       "    <tr>\n",
       "      <th>dummy_primary_prop_2000_09</th>\n",
       "      <td>-0.177264</td>\n",
       "      <td>-0.118326</td>\n",
       "      <td>-0.058938</td>\n",
       "    </tr>\n",
       "    <tr>\n",
       "      <th>dummy_primary_prop_2010_later</th>\n",
       "      <td>-0.140672</td>\n",
       "      <td>-0.093900</td>\n",
       "      <td>-0.046772</td>\n",
       "    </tr>\n",
       "    <tr>\n",
       "      <th>aland</th>\n",
       "      <td>-7.919279</td>\n",
       "      <td>-5.286212</td>\n",
       "      <td>-2.633067</td>\n",
       "    </tr>\n",
       "    <tr>\n",
       "      <th>pop_density</th>\n",
       "      <td>0.005562</td>\n",
       "      <td>0.003712</td>\n",
       "      <td>0.001849</td>\n",
       "    </tr>\n",
       "    <tr>\n",
       "      <th>prop_single_fam</th>\n",
       "      <td>0.071390</td>\n",
       "      <td>0.047654</td>\n",
       "      <td>0.023736</td>\n",
       "    </tr>\n",
       "    <tr>\n",
       "      <th>med_rooms_per_home</th>\n",
       "      <td>-0.033950</td>\n",
       "      <td>-0.022662</td>\n",
       "      <td>-0.011288</td>\n",
       "    </tr>\n",
       "    <tr>\n",
       "      <th>intersect_density</th>\n",
       "      <td>0.001283</td>\n",
       "      <td>0.000856</td>\n",
       "      <td>0.000426</td>\n",
       "    </tr>\n",
       "    <tr>\n",
       "      <th>length_mean</th>\n",
       "      <td>0.000477</td>\n",
       "      <td>0.000319</td>\n",
       "      <td>0.000159</td>\n",
       "    </tr>\n",
       "    <tr>\n",
       "      <th>elevations_iqr</th>\n",
       "      <td>-0.001774</td>\n",
       "      <td>-0.001184</td>\n",
       "      <td>-0.000590</td>\n",
       "    </tr>\n",
       "    <tr>\n",
       "      <th>grade_mean</th>\n",
       "      <td>-2.178861</td>\n",
       "      <td>-1.454415</td>\n",
       "      <td>-0.724446</td>\n",
       "    </tr>\n",
       "  </tbody>\n",
       "</table>\n",
       "</div>"
      ],
      "text/plain": [
       "                                     TE        DE        IE\n",
       "CONSTANT                       0.699491  0.466919  0.232573\n",
       "dummy_primary_prop_1940_49    -0.053654 -0.035815 -0.017839\n",
       "dummy_primary_prop_1950_59    -0.103360 -0.068994 -0.034366\n",
       "dummy_primary_prop_1960_69    -0.165587 -0.110532 -0.055056\n",
       "dummy_primary_prop_1970_79    -0.198544 -0.132530 -0.066013\n",
       "dummy_primary_prop_1980_89    -0.224276 -0.149707 -0.074569\n",
       "dummy_primary_prop_1990_99    -0.218107 -0.145589 -0.072518\n",
       "dummy_primary_prop_2000_09    -0.177264 -0.118326 -0.058938\n",
       "dummy_primary_prop_2010_later -0.140672 -0.093900 -0.046772\n",
       "aland                         -7.919279 -5.286212 -2.633067\n",
       "pop_density                    0.005562  0.003712  0.001849\n",
       "prop_single_fam                0.071390  0.047654  0.023736\n",
       "med_rooms_per_home            -0.033950 -0.022662 -0.011288\n",
       "intersect_density              0.001283  0.000856  0.000426\n",
       "length_mean                    0.000477  0.000319  0.000159\n",
       "elevations_iqr                -0.001774 -0.001184 -0.000590\n",
       "grade_mean                    -2.178861 -1.454415 -0.724446"
      ]
     },
     "execution_count": 23,
     "metadata": {},
     "output_type": "execute_result"
    }
   ],
   "source": [
    "def impacts(variable, model):\n",
    "    idx = model.name_x.index(variable)\n",
    "    direct_effect = model.betas[idx][0]\n",
    "    rho = tsls_model1.betas[-1, 0]\n",
    "    total_effect = direct_effect / (1 - rho)\n",
    "    indirect_effect = total_effect - direct_effect\n",
    "    return total_effect, direct_effect, indirect_effect\n",
    "\n",
    "effects = {}\n",
    "for variable in [c for c in tsls_model1.name_x if c not in fixed_effects]:\n",
    "    effects[variable] = impacts(variable, tsls_model1)\n",
    "pd.DataFrame(effects, index=['TE', 'DE', 'IE']).T"
   ]
  },
  {
   "cell_type": "code",
   "execution_count": null,
   "metadata": {},
   "outputs": [],
   "source": []
  }
 ],
 "metadata": {
  "kernelspec": {
   "display_name": "Python (ox)",
   "language": "python",
   "name": "ox"
  },
  "language_info": {
   "codemirror_mode": {
    "name": "ipython",
    "version": 3
   },
   "file_extension": ".py",
   "mimetype": "text/x-python",
   "name": "python",
   "nbconvert_exporter": "python",
   "pygments_lexer": "ipython3",
   "version": "3.7.3"
  }
 },
 "nbformat": 4,
 "nbformat_minor": 2
}
