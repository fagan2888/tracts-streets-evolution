{
 "cells": [
  {
   "cell_type": "markdown",
   "metadata": {},
   "source": [
    "spatial error model: interpret coefficient the same as a standard linear OLS. spatial lag or combo model: cannot do so, due to diffusion/spillover effects."
   ]
  },
  {
   "cell_type": "code",
   "execution_count": 1,
   "metadata": {},
   "outputs": [],
   "source": [
    "import geopandas as gpd\n",
    "import numpy as np\n",
    "import pandas as pd\n",
    "import statsmodels.api as sm\n",
    "from pysal.lib import weights\n",
    "from pysal.model import spreg\n",
    "from scipy.stats.mstats import zscore\n",
    "from statsmodels.iolib.summary2 import summary_col\n",
    "from statsmodels.tools.tools import add_constant\n",
    "\n",
    "shp_path = 'data/tracts_shapefile/tracts_shapefile.shp'\n",
    "indicators_path = 'data/tracts_indicators_grades_eras_index.csv'\n",
    "response = 'vehicles_per_household'\n",
    "\n",
    "spat_diag = False"
   ]
  },
  {
   "cell_type": "code",
   "execution_count": 2,
   "metadata": {},
   "outputs": [
    {
     "data": {
      "text/plain": [
       "(72663, 154)"
      ]
     },
     "execution_count": 2,
     "metadata": {},
     "output_type": "execute_result"
    }
   ],
   "source": [
    "df = pd.read_csv(indicators_path, dtype={'geoid':str, 'state':str, 'county':str})\n",
    "df.shape"
   ]
  },
  {
   "cell_type": "code",
   "execution_count": 3,
   "metadata": {},
   "outputs": [
    {
     "data": {
      "text/plain": [
       "(74133, 12)"
      ]
     },
     "execution_count": 3,
     "metadata": {},
     "output_type": "execute_result"
    }
   ],
   "source": [
    "gdf = gpd.read_file(shp_path).set_index('GEOID')\n",
    "gdf.shape"
   ]
  },
  {
   "cell_type": "code",
   "execution_count": 4,
   "metadata": {},
   "outputs": [
    {
     "data": {
      "text/plain": [
       "(46311, 154)"
      ]
     },
     "execution_count": 4,
     "metadata": {},
     "output_type": "execute_result"
    }
   ],
   "source": [
    "# restrict modeling to only urban tracts\n",
    "df = df[df['is_urban'] == 1]\n",
    "df.shape"
   ]
  },
  {
   "cell_type": "code",
   "execution_count": 5,
   "metadata": {},
   "outputs": [
    {
     "data": {
      "text/plain": [
       "vehicles_per_household    1.000000\n",
       "prop_single_fam           0.728190\n",
       "vehicles_per_capita       0.714770\n",
       "med_rooms_per_home        0.664678\n",
       "prop_drive_alone          0.662129\n",
       "available_vehicles        0.545621\n",
       "pop_density               0.519471\n",
       "med_hh_income             0.515185\n",
       "prop_deadend              0.510276\n",
       "prop_1939_earlier         0.496005\n",
       "Name: vehicles_per_household, dtype: float64"
      ]
     },
     "execution_count": 5,
     "metadata": {},
     "output_type": "execute_result"
    }
   ],
   "source": [
    "df.corr()[response].abs().sort_values(ascending=False).head(10)"
   ]
  },
  {
   "cell_type": "markdown",
   "metadata": {},
   "source": [
    "## Modeling"
   ]
  },
  {
   "cell_type": "code",
   "execution_count": 6,
   "metadata": {},
   "outputs": [],
   "source": [
    "df['pop_density'] = df['pop_density'] / 1000 #put these regression coefficients into units of 1000s of persons"
   ]
  },
  {
   "cell_type": "code",
   "execution_count": 7,
   "metadata": {},
   "outputs": [
    {
     "data": {
      "text/plain": [
       "50"
      ]
     },
     "execution_count": 7,
     "metadata": {},
     "output_type": "execute_result"
    }
   ],
   "source": [
    "# identify the era dummies in the dataframe\n",
    "era_primary_dummies = [c for c in df.columns if 'dummy_primary_' in c and '_1939_earlier' not in c]\n",
    "\n",
    "# get the state dummies\n",
    "states = df['state_abbrev'].unique()\n",
    "state_dummies = sorted([s for s in states if s != 'CA']) #all but CA\n",
    "len(state_dummies)"
   ]
  },
  {
   "cell_type": "code",
   "execution_count": 8,
   "metadata": {},
   "outputs": [
    {
     "name": "stdout",
     "output_type": "stream",
     "text": [
      "1390\n",
      "Wall time: 18.6 s\n"
     ]
    }
   ],
   "source": [
    "%%time\n",
    "# create county dummies\n",
    "df['st_county'] = df['state'].astype(str) + df['county'].astype(str)\n",
    "counties = df['st_county'].unique()\n",
    "for county in counties:\n",
    "    df[county] = df['st_county'].map(lambda x: 1 if x==county else 0)\n",
    "\n",
    "county_dummies = counties[1:].tolist()\n",
    "#county_dummies = sorted([c for c in counties if c != '06037']) #all but LA county\n",
    "print(len(county_dummies))"
   ]
  },
  {
   "cell_type": "code",
   "execution_count": 9,
   "metadata": {},
   "outputs": [
    {
     "data": {
      "text/plain": [
       "1390"
      ]
     },
     "execution_count": 9,
     "metadata": {},
     "output_type": "execute_result"
    }
   ],
   "source": [
    "# define which dummies to use as the spatial fixed effects\n",
    "# if including both county + state, you'll get colinearity unless you drop one county from each state?\n",
    "fixed_effects = county_dummies #+ state_dummies\n",
    "len(fixed_effects)"
   ]
  },
  {
   "cell_type": "code",
   "execution_count": 10,
   "metadata": {},
   "outputs": [],
   "source": [
    "def get_response_and_design(df, response, predictors, condition_number=True):\n",
    "    \n",
    "    # select predictors and drop any rows with nulls in the response or predictors\n",
    "    df_model = df.replace([np.inf, -np.inf], np.nan).dropna(subset=predictors + [response])\n",
    "\n",
    "    # create design matrix and response vector (and response as matrix for pysal)\n",
    "    X = df_model[predictors]\n",
    "    y = df_model[response]\n",
    "\n",
    "    # drop columns that are constants (to prevent perfect colinearity)\n",
    "    # this happens if a county has no observations, for instance\n",
    "    X = X.loc[:, X.nunique() != 1]\n",
    "    \n",
    "    # what are the geoids of the observations retained in the response vector + design matrix?\n",
    "    geoids = df_model['geoid'].values\n",
    "    \n",
    "    if condition_number:\n",
    "        cn = np.linalg.cond(zscore(X))\n",
    "        return y, X, geoids, cn\n",
    "    else:\n",
    "        return y, X, geoids"
   ]
  },
  {
   "cell_type": "code",
   "execution_count": 11,
   "metadata": {},
   "outputs": [],
   "source": [
    "def make_pysal_table(model, precision=4, ignore=None):\n",
    "    \n",
    "    try:\n",
    "        idx = model.name_z\n",
    "    except:\n",
    "        idx = model.name_x\n",
    "    \n",
    "    z_stat = np.array(model.z_stat)\n",
    "    table = pd.DataFrame({'beta' : model.betas.flatten(),\n",
    "                          's.e.' : model.std_err,\n",
    "                          'z'    : z_stat[:, 0],\n",
    "                          'p'    : z_stat[:, 1]}, \n",
    "                          index=idx)\n",
    "    \n",
    "    if ignore is not None:\n",
    "        to_drop = [c for c in ignore if c in table.index]\n",
    "        table = table.drop(to_drop, axis='rows')\n",
    "    \n",
    "    return table.round(precision)"
   ]
  },
  {
   "cell_type": "markdown",
   "metadata": {},
   "source": [
    "## Model 1\n",
    "\n",
    "grid index + spatial fixed effects"
   ]
  },
  {
   "cell_type": "code",
   "execution_count": 12,
   "metadata": {},
   "outputs": [
    {
     "name": "stdout",
     "output_type": "stream",
     "text": [
      "122.42852150811426\n",
      "Wall time: 17.9 s\n"
     ]
    }
   ],
   "source": [
    "%%time\n",
    "regressors1 = ['grid_index_geom']\n",
    "predictors1 = regressors1 + fixed_effects\n",
    "y, X, geoids, cn = get_response_and_design(df, response, predictors1)\n",
    "print(cn)"
   ]
  },
  {
   "cell_type": "code",
   "execution_count": 13,
   "metadata": {},
   "outputs": [
    {
     "name": "stderr",
     "output_type": "stream",
     "text": [
      "C:\\Anaconda\\envs\\ox\\lib\\site-packages\\numpy\\core\\fromnumeric.py:2389: FutureWarning: Method .ptp is deprecated and will be removed in a future version. Use numpy.ptp instead.\n",
      "  return ptp(axis=axis, out=out, **kwargs)\n"
     ]
    },
    {
     "name": "stdout",
     "output_type": "stream",
     "text": [
      "0.5285580352119494\n",
      "Wall time: 8.02 s\n"
     ]
    }
   ],
   "source": [
    "%%time\n",
    "# estimate the model with OLS\n",
    "result1 = sm.OLS(y, add_constant(X)).fit()\n",
    "print(result1.rsquared)"
   ]
  },
  {
   "cell_type": "code",
   "execution_count": 14,
   "metadata": {},
   "outputs": [
    {
     "name": "stdout",
     "output_type": "stream",
     "text": [
      "Wall time: 35.5 s\n"
     ]
    }
   ],
   "source": [
    "%%time\n",
    "# calculate spatial weights matrix for spatially-explicit alternative specification\n",
    "W1 = weights.Queen.from_dataframe(gdf.loc[geoids], silence_warnings=True)\n",
    "W1.transform = 'r'"
   ]
  },
  {
   "cell_type": "code",
   "execution_count": 15,
   "metadata": {},
   "outputs": [
    {
     "name": "stdout",
     "output_type": "stream",
     "text": [
      "Wall time: 972 µs\n"
     ]
    }
   ],
   "source": [
    "%%time\n",
    "# first check ols diagnostics to see nature of spatial dependence\n",
    "Y = pd.DataFrame(y)\n",
    "if spat_diag:\n",
    "    ols = spreg.ols.OLS(y=Y.values, x=X.values, w=W1, spat_diag=True, moran=True)\n",
    "    print(ols.moran_res)\n",
    "    print(ols.rlm_lag, ols.rlm_error)"
   ]
  },
  {
   "cell_type": "code",
   "execution_count": 16,
   "metadata": {},
   "outputs": [
    {
     "name": "stdout",
     "output_type": "stream",
     "text": [
      "0.5089320846122712\n",
      "                   beta    s.e.         z    p\n",
      "CONSTANT         2.0903  0.1543   13.5492  0.0\n",
      "grid_index_geom -0.4866  0.0111  -43.8225  0.0\n",
      "lambda           0.6519  0.0040  162.5834  0.0\n",
      "Wall time: 6.97 s\n"
     ]
    }
   ],
   "source": [
    "%%time\n",
    "sp_er_model1 = spreg.GM_Error_Het(y=Y.values, x=X.values, w=W1, name_w='W1',\n",
    "                                  name_x=X.columns.tolist(), name_y=response)\n",
    "table1 = make_pysal_table(sp_er_model1, ignore=fixed_effects)\n",
    "print(sp_er_model1.pr2)\n",
    "print(table1)"
   ]
  },
  {
   "cell_type": "markdown",
   "metadata": {},
   "source": [
    "## Model 2\n",
    "\n",
    "grid index + additional controls + spatial fixed effects"
   ]
  },
  {
   "cell_type": "code",
   "execution_count": 17,
   "metadata": {},
   "outputs": [
    {
     "name": "stdout",
     "output_type": "stream",
     "text": [
      "185.91636928812554\n",
      "Wall time: 18.2 s\n"
     ]
    }
   ],
   "source": [
    "%%time\n",
    "regressors2 = ['grid_index_geom', #griddedness\n",
    "               'pop_density', 'prop_single_fam', 'med_rooms_per_home', 'mean_household_size', #settlement density/scale\n",
    "               'med_hh_income', 'mean_commute_time', #economic (income and job proximity)\n",
    "               'intersect_density', 'length_mean', #street spatial scale\n",
    "               'grade_mean'] #hilliness\n",
    "predictors2 = regressors2 + fixed_effects\n",
    "y, X, geoids, cn = get_response_and_design(df, response, predictors2)\n",
    "print(cn)"
   ]
  },
  {
   "cell_type": "code",
   "execution_count": 18,
   "metadata": {},
   "outputs": [
    {
     "name": "stdout",
     "output_type": "stream",
     "text": [
      "0.8575453840345233\n",
      "Wall time: 9.1 s\n"
     ]
    }
   ],
   "source": [
    "%%time\n",
    "# estimate the model with OLS\n",
    "result2 = sm.OLS(y, add_constant(X)).fit()\n",
    "print(result2.rsquared)"
   ]
  },
  {
   "cell_type": "code",
   "execution_count": 19,
   "metadata": {},
   "outputs": [
    {
     "name": "stdout",
     "output_type": "stream",
     "text": [
      "Wall time: 32 s\n"
     ]
    }
   ],
   "source": [
    "%%time\n",
    "# calculate spatial weights matrix for spatially-explicit alternative specification\n",
    "W2 = weights.Queen.from_dataframe(gdf.loc[geoids], silence_warnings=True)\n",
    "W2.transform = 'r'"
   ]
  },
  {
   "cell_type": "code",
   "execution_count": 20,
   "metadata": {},
   "outputs": [
    {
     "name": "stdout",
     "output_type": "stream",
     "text": [
      "Wall time: 0 ns\n"
     ]
    }
   ],
   "source": [
    "%%time\n",
    "# check ols diagnostics to see nature of spatial dependence\n",
    "Y = pd.DataFrame(y)\n",
    "if spat_diag:\n",
    "    ols = spreg.ols.OLS(y=Y.values, x=X.values, w=W2, spat_diag=True, moran=True)\n",
    "    print(ols.moran_res)\n",
    "    print(ols.rlm_lag, ols.rlm_error)"
   ]
  },
  {
   "cell_type": "code",
   "execution_count": 30,
   "metadata": {},
   "outputs": [
    {
     "name": "stdout",
     "output_type": "stream",
     "text": [
      "0.8527514505017132\n",
      "                       beta    s.e.         z       p\n",
      "CONSTANT             0.8729  0.1049    8.3192  0.0000\n",
      "grid_index_geom     -0.1849  0.0069  -26.8037  0.0000\n",
      "pop_density         -0.0052  0.0003  -16.0073  0.0000\n",
      "prop_single_fam      0.4671  0.0065   71.7585  0.0000\n",
      "med_rooms_per_home   0.0256  0.0018   14.5975  0.0000\n",
      "mean_household_size  0.1788  0.0030   59.8594  0.0000\n",
      "med_hh_income        0.0000  0.0000   57.4592  0.0000\n",
      "mean_commute_time   -0.0033  0.0002  -13.1017  0.0000\n",
      "intersect_density   -0.0006  0.0000  -12.5258  0.0000\n",
      "length_mean          0.0003  0.0000    7.9205  0.0000\n",
      "grade_mean          -0.2297  0.1152   -1.9939  0.0462\n",
      "lambda               0.6249  0.0044  140.8927  0.0000\n",
      "Wall time: 7.18 s\n"
     ]
    }
   ],
   "source": [
    "%%time\n",
    "sp_er_model2 = spreg.GM_Error_Het(y=Y.values, x=X.values, w=W2, name_w='W2',\n",
    "                                  name_x=X.columns.tolist(), name_y=response)\n",
    "table2 = make_pysal_table(sp_er_model2, ignore=fixed_effects)\n",
    "print(sp_er_model2.pr2)\n",
    "print(table2)"
   ]
  },
  {
   "cell_type": "code",
   "execution_count": 36,
   "metadata": {},
   "outputs": [
    {
     "name": "stdout",
     "output_type": "stream",
     "text": [
      "0.8527514505081624\n",
      "                       beta    s.e.         z       p\n",
      "CONSTANT             0.0091  0.0038    2.3776  0.0174\n",
      "grid_index_geom     -0.0839  0.0031  -26.8037  0.0000\n",
      "pop_density         -0.0615  0.0038  -16.0073  0.0000\n",
      "prop_single_fam      0.3024  0.0042   71.7585  0.0000\n",
      "med_rooms_per_home   0.0693  0.0048   14.5975  0.0000\n",
      "mean_household_size  0.2271  0.0038   59.8594  0.0000\n",
      "med_hh_income        0.2883  0.0050   57.4592  0.0000\n",
      "mean_commute_time   -0.0535  0.0041  -13.1017  0.0000\n",
      "intersect_density   -0.0431  0.0034  -12.5258  0.0000\n",
      "length_mean          0.0229  0.0029    7.9205  0.0000\n",
      "grade_mean          -0.0065  0.0033   -1.9939  0.0462\n",
      "lambda               0.6249  0.0044  140.8927  0.0000\n",
      "Wall time: 7.93 s\n"
     ]
    }
   ],
   "source": [
    "%%time\n",
    "# re-estimate as standardized regression\n",
    "sp_er_model2_std = spreg.GM_Error_Het(y=zscore(Y), x=zscore(X), w=W2, name_w='W2',\n",
    "                                      name_x=X.columns.tolist(), name_y=response)\n",
    "table2_std = make_pysal_table(sp_er_model2_std, ignore=fixed_effects)\n",
    "print(sp_er_model2_std.pr2)\n",
    "print(table2_std)"
   ]
  },
  {
   "cell_type": "markdown",
   "metadata": {},
   "source": [
    "## Model 3\n",
    "\n",
    "grid index components + additional controls + spatial fixed effects"
   ]
  },
  {
   "cell_type": "code",
   "execution_count": 37,
   "metadata": {},
   "outputs": [
    {
     "name": "stdout",
     "output_type": "stream",
     "text": [
      "201.76756966497868\n",
      "Wall time: 19.1 s\n"
     ]
    }
   ],
   "source": [
    "%%time\n",
    "regressors3 = ['orientation_order', 'prop_4way', 'straightness', #grid index components\n",
    "               'pop_density', 'prop_single_fam', 'med_rooms_per_home', 'mean_household_size', #settlement density/scale\n",
    "               'med_hh_income', 'mean_commute_time', #economic (income and job proximity)\n",
    "               'intersect_density', 'length_mean', #street spatial scale\n",
    "               'grade_mean'] #hilliness\n",
    "predictors3 = regressors3 + fixed_effects\n",
    "y, X, geoids, cn = get_response_and_design(df, response, predictors3)\n",
    "print(cn)"
   ]
  },
  {
   "cell_type": "code",
   "execution_count": 38,
   "metadata": {},
   "outputs": [
    {
     "name": "stdout",
     "output_type": "stream",
     "text": [
      "0.8584870270799135\n",
      "Wall time: 8.7 s\n"
     ]
    }
   ],
   "source": [
    "%%time\n",
    "# estimate the model with OLS\n",
    "result3 = sm.OLS(y, add_constant(X)).fit()\n",
    "print(result3.rsquared)"
   ]
  },
  {
   "cell_type": "code",
   "execution_count": 39,
   "metadata": {},
   "outputs": [
    {
     "name": "stdout",
     "output_type": "stream",
     "text": [
      "Wall time: 30.7 s\n"
     ]
    }
   ],
   "source": [
    "%%time\n",
    "# calculate spatial weights matrix for spatially-explicit alternative specification\n",
    "W3 = weights.Queen.from_dataframe(gdf.loc[geoids], silence_warnings=True)\n",
    "W3.transform = 'r'"
   ]
  },
  {
   "cell_type": "code",
   "execution_count": 40,
   "metadata": {},
   "outputs": [
    {
     "name": "stdout",
     "output_type": "stream",
     "text": [
      "Wall time: 0 ns\n"
     ]
    }
   ],
   "source": [
    "%%time\n",
    "# check ols diagnostics to see nature of spatial dependence\n",
    "Y = pd.DataFrame(y)\n",
    "if spat_diag:\n",
    "    ols = spreg.ols.OLS(y=Y.values, x=X.values, w=W3, spat_diag=True, moran=True)\n",
    "    print(ols.moran_res)\n",
    "    print(ols.rlm_lag, ols.rlm_error)"
   ]
  },
  {
   "cell_type": "code",
   "execution_count": 41,
   "metadata": {},
   "outputs": [
    {
     "name": "stdout",
     "output_type": "stream",
     "text": [
      "0.8537053051991855\n",
      "                       beta    s.e.         z       p\n",
      "CONSTANT             1.0457  0.1076    9.7194  0.0000\n",
      "orientation_order   -0.0396  0.0045   -8.7782  0.0000\n",
      "prop_4way           -0.1247  0.0072  -17.2857  0.0000\n",
      "straightness        -0.2212  0.0239   -9.2520  0.0000\n",
      "pop_density         -0.0050  0.0003  -15.4118  0.0000\n",
      "prop_single_fam      0.4708  0.0065   72.6479  0.0000\n",
      "med_rooms_per_home   0.0259  0.0018   14.7630  0.0000\n",
      "mean_household_size  0.1785  0.0030   59.8627  0.0000\n",
      "med_hh_income        0.0000  0.0000   57.1977  0.0000\n",
      "mean_commute_time   -0.0033  0.0002  -13.1061  0.0000\n",
      "intersect_density   -0.0006  0.0000  -12.5372  0.0000\n",
      "length_mean          0.0003  0.0000    7.6694  0.0000\n",
      "grade_mean          -0.2296  0.1146   -2.0033  0.0451\n",
      "lambda               0.6211  0.0045  139.5360  0.0000\n",
      "Wall time: 6.13 s\n"
     ]
    }
   ],
   "source": [
    "%%time\n",
    "sp_er_model3 = spreg.GM_Error_Het(y=Y.values, x=X.values, w=W3, name_w='W3',\n",
    "                                  name_x=X.columns.tolist(), name_y=response)\n",
    "table3 = make_pysal_table(sp_er_model3, ignore=fixed_effects)\n",
    "print(sp_er_model3.pr2)\n",
    "print(table3)"
   ]
  },
  {
   "cell_type": "code",
   "execution_count": 42,
   "metadata": {},
   "outputs": [
    {
     "name": "stdout",
     "output_type": "stream",
     "text": [
      "0.8537053052000249\n",
      "                       beta    s.e.         z       p\n",
      "CONSTANT             0.0088  0.0038    2.3128  0.0207\n",
      "orientation_order   -0.0270  0.0031   -8.7782  0.0000\n",
      "prop_4way           -0.0525  0.0030  -17.2857  0.0000\n",
      "straightness        -0.0224  0.0024   -9.2520  0.0000\n",
      "pop_density         -0.0589  0.0038  -15.4118  0.0000\n",
      "prop_single_fam      0.3048  0.0042   72.6479  0.0000\n",
      "med_rooms_per_home   0.0701  0.0047   14.7630  0.0000\n",
      "mean_household_size  0.2267  0.0038   59.8627  0.0000\n",
      "med_hh_income        0.2883  0.0050   57.1977  0.0000\n",
      "mean_commute_time   -0.0535  0.0041  -13.1061  0.0000\n",
      "intersect_density   -0.0427  0.0034  -12.5372  0.0000\n",
      "length_mean          0.0218  0.0028    7.6694  0.0000\n",
      "grade_mean          -0.0065  0.0033   -2.0033  0.0451\n",
      "lambda               0.6211  0.0045  139.5360  0.0000\n",
      "Wall time: 6.98 s\n"
     ]
    }
   ],
   "source": [
    "%%time\n",
    "# re-estimate as standardized regression\n",
    "sp_er_model3_std = spreg.GM_Error_Het(y=zscore(Y), x=zscore(X), w=W3, name_w='W3',\n",
    "                                      name_x=X.columns.tolist(), name_y=response)\n",
    "table3_std = make_pysal_table(sp_er_model3_std, ignore=fixed_effects)\n",
    "print(sp_er_model3_std.pr2)\n",
    "print(table3_std)"
   ]
  },
  {
   "cell_type": "markdown",
   "metadata": {},
   "source": [
    "## Results table"
   ]
  },
  {
   "cell_type": "code",
   "execution_count": 43,
   "metadata": {},
   "outputs": [
    {
     "name": "stdout",
     "output_type": "stream",
     "text": [
      "45557 0.8527514505017132\n",
      "45557 0.8537053051991855\n"
     ]
    }
   ],
   "source": [
    "print(sp_er_model2.n, sp_er_model2.pr2)\n",
    "print(sp_er_model3.n, sp_er_model3.pr2)"
   ]
  },
  {
   "cell_type": "code",
   "execution_count": 44,
   "metadata": {},
   "outputs": [
    {
     "data": {
      "text/html": [
       "<div>\n",
       "<style scoped>\n",
       "    .dataframe tbody tr th:only-of-type {\n",
       "        vertical-align: middle;\n",
       "    }\n",
       "\n",
       "    .dataframe tbody tr th {\n",
       "        vertical-align: top;\n",
       "    }\n",
       "\n",
       "    .dataframe thead th {\n",
       "        text-align: right;\n",
       "    }\n",
       "</style>\n",
       "<table border=\"1\" class=\"dataframe\">\n",
       "  <thead>\n",
       "    <tr style=\"text-align: right;\">\n",
       "      <th></th>\n",
       "      <th>beta_x</th>\n",
       "      <th>s.e._x</th>\n",
       "      <th>z_x</th>\n",
       "      <th>p_x</th>\n",
       "      <th>beta_y</th>\n",
       "      <th>s.e._y</th>\n",
       "      <th>z_y</th>\n",
       "      <th>p_y</th>\n",
       "    </tr>\n",
       "  </thead>\n",
       "  <tbody>\n",
       "    <tr>\n",
       "      <th>CONSTANT</th>\n",
       "      <td>0.8729</td>\n",
       "      <td>0.1049</td>\n",
       "      <td>8.3192</td>\n",
       "      <td>&lt;0.0001</td>\n",
       "      <td>1.0457</td>\n",
       "      <td>0.1076</td>\n",
       "      <td>9.7194</td>\n",
       "      <td>&lt;0.0001</td>\n",
       "    </tr>\n",
       "    <tr>\n",
       "      <th>grid_index_geom</th>\n",
       "      <td>-0.1849</td>\n",
       "      <td>0.0069</td>\n",
       "      <td>-26.8037</td>\n",
       "      <td>&lt;0.0001</td>\n",
       "      <td></td>\n",
       "      <td></td>\n",
       "      <td></td>\n",
       "      <td></td>\n",
       "    </tr>\n",
       "    <tr>\n",
       "      <th>pop_density</th>\n",
       "      <td>-0.0052</td>\n",
       "      <td>0.0003</td>\n",
       "      <td>-16.0073</td>\n",
       "      <td>&lt;0.0001</td>\n",
       "      <td>-0.0050</td>\n",
       "      <td>0.0003</td>\n",
       "      <td>-15.4118</td>\n",
       "      <td>&lt;0.0001</td>\n",
       "    </tr>\n",
       "    <tr>\n",
       "      <th>prop_single_fam</th>\n",
       "      <td>0.4671</td>\n",
       "      <td>0.0065</td>\n",
       "      <td>71.7585</td>\n",
       "      <td>&lt;0.0001</td>\n",
       "      <td>0.4708</td>\n",
       "      <td>0.0065</td>\n",
       "      <td>72.6479</td>\n",
       "      <td>&lt;0.0001</td>\n",
       "    </tr>\n",
       "    <tr>\n",
       "      <th>med_rooms_per_home</th>\n",
       "      <td>0.0256</td>\n",
       "      <td>0.0018</td>\n",
       "      <td>14.5975</td>\n",
       "      <td>&lt;0.0001</td>\n",
       "      <td>0.0259</td>\n",
       "      <td>0.0018</td>\n",
       "      <td>14.7630</td>\n",
       "      <td>&lt;0.0001</td>\n",
       "    </tr>\n",
       "    <tr>\n",
       "      <th>mean_household_size</th>\n",
       "      <td>0.1788</td>\n",
       "      <td>0.0030</td>\n",
       "      <td>59.8594</td>\n",
       "      <td>&lt;0.0001</td>\n",
       "      <td>0.1785</td>\n",
       "      <td>0.0030</td>\n",
       "      <td>59.8627</td>\n",
       "      <td>&lt;0.0001</td>\n",
       "    </tr>\n",
       "    <tr>\n",
       "      <th>med_hh_income</th>\n",
       "      <td>&lt;0.0001</td>\n",
       "      <td>&lt;0.0001</td>\n",
       "      <td>57.4592</td>\n",
       "      <td>&lt;0.0001</td>\n",
       "      <td>&lt;0.0001</td>\n",
       "      <td>&lt;0.0001</td>\n",
       "      <td>57.1977</td>\n",
       "      <td>&lt;0.0001</td>\n",
       "    </tr>\n",
       "    <tr>\n",
       "      <th>mean_commute_time</th>\n",
       "      <td>-0.0033</td>\n",
       "      <td>0.0002</td>\n",
       "      <td>-13.1017</td>\n",
       "      <td>&lt;0.0001</td>\n",
       "      <td>-0.0033</td>\n",
       "      <td>0.0002</td>\n",
       "      <td>-13.1061</td>\n",
       "      <td>&lt;0.0001</td>\n",
       "    </tr>\n",
       "    <tr>\n",
       "      <th>intersect_density</th>\n",
       "      <td>-0.0006</td>\n",
       "      <td>&lt;0.0001</td>\n",
       "      <td>-12.5258</td>\n",
       "      <td>&lt;0.0001</td>\n",
       "      <td>-0.0006</td>\n",
       "      <td>&lt;0.0001</td>\n",
       "      <td>-12.5372</td>\n",
       "      <td>&lt;0.0001</td>\n",
       "    </tr>\n",
       "    <tr>\n",
       "      <th>length_mean</th>\n",
       "      <td>0.0003</td>\n",
       "      <td>&lt;0.0001</td>\n",
       "      <td>7.9205</td>\n",
       "      <td>&lt;0.0001</td>\n",
       "      <td>0.0003</td>\n",
       "      <td>&lt;0.0001</td>\n",
       "      <td>7.6694</td>\n",
       "      <td>&lt;0.0001</td>\n",
       "    </tr>\n",
       "    <tr>\n",
       "      <th>grade_mean</th>\n",
       "      <td>-0.2297</td>\n",
       "      <td>0.1152</td>\n",
       "      <td>-1.9939</td>\n",
       "      <td>0.0462</td>\n",
       "      <td>-0.2296</td>\n",
       "      <td>0.1146</td>\n",
       "      <td>-2.0033</td>\n",
       "      <td>0.0451</td>\n",
       "    </tr>\n",
       "    <tr>\n",
       "      <th>orientation_order</th>\n",
       "      <td></td>\n",
       "      <td></td>\n",
       "      <td></td>\n",
       "      <td></td>\n",
       "      <td>-0.0396</td>\n",
       "      <td>0.0045</td>\n",
       "      <td>-8.7782</td>\n",
       "      <td>&lt;0.0001</td>\n",
       "    </tr>\n",
       "    <tr>\n",
       "      <th>prop_4way</th>\n",
       "      <td></td>\n",
       "      <td></td>\n",
       "      <td></td>\n",
       "      <td></td>\n",
       "      <td>-0.1247</td>\n",
       "      <td>0.0072</td>\n",
       "      <td>-17.2857</td>\n",
       "      <td>&lt;0.0001</td>\n",
       "    </tr>\n",
       "    <tr>\n",
       "      <th>straightness</th>\n",
       "      <td></td>\n",
       "      <td></td>\n",
       "      <td></td>\n",
       "      <td></td>\n",
       "      <td>-0.2212</td>\n",
       "      <td>0.0239</td>\n",
       "      <td>-9.2520</td>\n",
       "      <td>&lt;0.0001</td>\n",
       "    </tr>\n",
       "    <tr>\n",
       "      <th>lambda</th>\n",
       "      <td>0.6249</td>\n",
       "      <td>0.0044</td>\n",
       "      <td>140.8927</td>\n",
       "      <td>&lt;0.0001</td>\n",
       "      <td>0.6211</td>\n",
       "      <td>0.0045</td>\n",
       "      <td>139.5360</td>\n",
       "      <td>&lt;0.0001</td>\n",
       "    </tr>\n",
       "  </tbody>\n",
       "</table>\n",
       "</div>"
      ],
      "text/plain": [
       "                      beta_x   s.e._x       z_x      p_x   beta_y   s.e._y  \\\n",
       "CONSTANT              0.8729   0.1049    8.3192  <0.0001   1.0457   0.1076   \n",
       "grid_index_geom      -0.1849   0.0069  -26.8037  <0.0001                     \n",
       "pop_density          -0.0052   0.0003  -16.0073  <0.0001  -0.0050   0.0003   \n",
       "prop_single_fam       0.4671   0.0065   71.7585  <0.0001   0.4708   0.0065   \n",
       "med_rooms_per_home    0.0256   0.0018   14.5975  <0.0001   0.0259   0.0018   \n",
       "mean_household_size   0.1788   0.0030   59.8594  <0.0001   0.1785   0.0030   \n",
       "med_hh_income        <0.0001  <0.0001   57.4592  <0.0001  <0.0001  <0.0001   \n",
       "mean_commute_time    -0.0033   0.0002  -13.1017  <0.0001  -0.0033   0.0002   \n",
       "intersect_density    -0.0006  <0.0001  -12.5258  <0.0001  -0.0006  <0.0001   \n",
       "length_mean           0.0003  <0.0001    7.9205  <0.0001   0.0003  <0.0001   \n",
       "grade_mean           -0.2297   0.1152   -1.9939   0.0462  -0.2296   0.1146   \n",
       "orientation_order                                         -0.0396   0.0045   \n",
       "prop_4way                                                 -0.1247   0.0072   \n",
       "straightness                                              -0.2212   0.0239   \n",
       "lambda                0.6249   0.0044  140.8927  <0.0001   0.6211   0.0045   \n",
       "\n",
       "                          z_y      p_y  \n",
       "CONSTANT               9.7194  <0.0001  \n",
       "grid_index_geom                         \n",
       "pop_density          -15.4118  <0.0001  \n",
       "prop_single_fam       72.6479  <0.0001  \n",
       "med_rooms_per_home    14.7630  <0.0001  \n",
       "mean_household_size   59.8627  <0.0001  \n",
       "med_hh_income         57.1977  <0.0001  \n",
       "mean_commute_time    -13.1061  <0.0001  \n",
       "intersect_density    -12.5372  <0.0001  \n",
       "length_mean            7.6694  <0.0001  \n",
       "grade_mean            -2.0033   0.0451  \n",
       "orientation_order     -8.7782  <0.0001  \n",
       "prop_4way            -17.2857  <0.0001  \n",
       "straightness          -9.2520  <0.0001  \n",
       "lambda               139.5360  <0.0001  "
      ]
     },
     "execution_count": 44,
     "metadata": {},
     "output_type": "execute_result"
    }
   ],
   "source": [
    "# spatially explicit estimates\n",
    "def str_format(x):\n",
    "    if pd.isnull(x):\n",
    "        return ' '\n",
    "    elif np.abs(x) < 0.0001:\n",
    "        return '<0.0001'\n",
    "    else:\n",
    "        return f'{x:0.4f}'\n",
    "    \n",
    "regressors = pd.Series(['CONSTANT'] + regressors2 + regressors3 + ['lambda']).drop_duplicates(keep='first').tolist()\n",
    "table = pd.merge(left=table2, right=table3, left_index=True, right_index=True, how='outer').reindex(regressors)\n",
    "table = table.applymap(str_format)\n",
    "table.to_csv('data/table2.csv', index=True)\n",
    "table"
   ]
  },
  {
   "cell_type": "code",
   "execution_count": 45,
   "metadata": {},
   "outputs": [
    {
     "name": "stdout",
     "output_type": "stream",
     "text": [
      "0.5286\n",
      "0.8575\n",
      "0.8585\n"
     ]
    },
    {
     "data": {
      "text/html": [
       "<table class=\"simpletable\">\n",
       "<tr>\n",
       "           <td></td>           <th>vehicles_per_household I</th> <th>vehicles_per_household II</th> <th>vehicles_per_household III</th>\n",
       "</tr>\n",
       "<tr>\n",
       "  <th>const</th>                       <td>2.2493***</td>                <td>0.9253***</td>                  <td>1.2641***</td>        \n",
       "</tr>\n",
       "<tr>\n",
       "  <th></th>                            <td>(0.1386)</td>                 <td>(0.0768)</td>                   <td>(0.0803)</td>         \n",
       "</tr>\n",
       "<tr>\n",
       "  <th>grid_index_geom</th>            <td>-0.8573***</td>               <td>-0.3070***</td>                      <td></td>             \n",
       "</tr>\n",
       "<tr>\n",
       "  <th></th>                            <td>(0.0095)</td>                 <td>(0.0063)</td>                       <td></td>             \n",
       "</tr>\n",
       "<tr>\n",
       "  <th>pop_density</th>                     <td></td>                    <td>-0.0079***</td>                 <td>-0.0075***</td>        \n",
       "</tr>\n",
       "<tr>\n",
       "  <th></th>                                <td></td>                     <td>(0.0003)</td>                   <td>(0.0003)</td>         \n",
       "</tr>\n",
       "<tr>\n",
       "  <th>prop_single_fam</th>                 <td></td>                     <td>0.4921***</td>                  <td>0.4974***</td>        \n",
       "</tr>\n",
       "<tr>\n",
       "  <th></th>                                <td></td>                     <td>(0.0054)</td>                   <td>(0.0054)</td>         \n",
       "</tr>\n",
       "<tr>\n",
       "  <th>med_rooms_per_home</th>              <td></td>                     <td>0.0212***</td>                  <td>0.0221***</td>        \n",
       "</tr>\n",
       "<tr>\n",
       "  <th></th>                                <td></td>                     <td>(0.0016)</td>                   <td>(0.0016)</td>         \n",
       "</tr>\n",
       "<tr>\n",
       "  <th>mean_household_size</th>             <td></td>                     <td>0.1908***</td>                  <td>0.1892***</td>        \n",
       "</tr>\n",
       "<tr>\n",
       "  <th></th>                                <td></td>                     <td>(0.0021)</td>                   <td>(0.0021)</td>         \n",
       "</tr>\n",
       "<tr>\n",
       "  <th>med_hh_income</th>                   <td></td>                     <td>0.0000***</td>                  <td>0.0000***</td>        \n",
       "</tr>\n",
       "<tr>\n",
       "  <th></th>                                <td></td>                     <td>(0.0000)</td>                   <td>(0.0000)</td>         \n",
       "</tr>\n",
       "<tr>\n",
       "  <th>mean_commute_time</th>               <td></td>                    <td>-0.0030***</td>                 <td>-0.0030***</td>        \n",
       "</tr>\n",
       "<tr>\n",
       "  <th></th>                                <td></td>                     <td>(0.0002)</td>                   <td>(0.0002)</td>         \n",
       "</tr>\n",
       "<tr>\n",
       "  <th>intersect_density</th>               <td></td>                    <td>-0.0010***</td>                 <td>-0.0010***</td>        \n",
       "</tr>\n",
       "<tr>\n",
       "  <th></th>                                <td></td>                     <td>(0.0000)</td>                   <td>(0.0000)</td>         \n",
       "</tr>\n",
       "<tr>\n",
       "  <th>length_mean</th>                     <td></td>                     <td>0.0003***</td>                  <td>0.0003***</td>        \n",
       "</tr>\n",
       "<tr>\n",
       "  <th></th>                                <td></td>                     <td>(0.0000)</td>                   <td>(0.0000)</td>         \n",
       "</tr>\n",
       "<tr>\n",
       "  <th>grade_mean</th>                      <td></td>                    <td>-1.3322***</td>                 <td>-1.2381***</td>        \n",
       "</tr>\n",
       "<tr>\n",
       "  <th></th>                                <td></td>                     <td>(0.0987)</td>                   <td>(0.0989)</td>         \n",
       "</tr>\n",
       "<tr>\n",
       "  <th>orientation_order</th>               <td></td>                         <td></td>                      <td>-0.0486***</td>        \n",
       "</tr>\n",
       "<tr>\n",
       "  <th></th>                                <td></td>                         <td></td>                       <td>(0.0047)</td>         \n",
       "</tr>\n",
       "<tr>\n",
       "  <th>prop_4way</th>                       <td></td>                         <td></td>                      <td>-0.2071***</td>        \n",
       "</tr>\n",
       "<tr>\n",
       "  <th></th>                                <td></td>                         <td></td>                       <td>(0.0071)</td>         \n",
       "</tr>\n",
       "<tr>\n",
       "  <th>straightness</th>                    <td></td>                         <td></td>                      <td>-0.4310***</td>        \n",
       "</tr>\n",
       "<tr>\n",
       "  <th></th>                                <td></td>                         <td></td>                       <td>(0.0259)</td>         \n",
       "</tr>\n",
       "</table>"
      ],
      "text/plain": [
       "<class 'statsmodels.iolib.summary2.Summary'>\n",
       "\"\"\"\n",
       "\n",
       "=================================================================================================\n",
       "                    vehicles_per_household I vehicles_per_household II vehicles_per_household III\n",
       "-------------------------------------------------------------------------------------------------\n",
       "const               2.2493***                0.9253***                 1.2641***                 \n",
       "                    (0.1386)                 (0.0768)                  (0.0803)                  \n",
       "grid_index_geom     -0.8573***               -0.3070***                                          \n",
       "                    (0.0095)                 (0.0063)                                            \n",
       "pop_density                                  -0.0079***                -0.0075***                \n",
       "                                             (0.0003)                  (0.0003)                  \n",
       "prop_single_fam                              0.4921***                 0.4974***                 \n",
       "                                             (0.0054)                  (0.0054)                  \n",
       "med_rooms_per_home                           0.0212***                 0.0221***                 \n",
       "                                             (0.0016)                  (0.0016)                  \n",
       "mean_household_size                          0.1908***                 0.1892***                 \n",
       "                                             (0.0021)                  (0.0021)                  \n",
       "med_hh_income                                0.0000***                 0.0000***                 \n",
       "                                             (0.0000)                  (0.0000)                  \n",
       "mean_commute_time                            -0.0030***                -0.0030***                \n",
       "                                             (0.0002)                  (0.0002)                  \n",
       "intersect_density                            -0.0010***                -0.0010***                \n",
       "                                             (0.0000)                  (0.0000)                  \n",
       "length_mean                                  0.0003***                 0.0003***                 \n",
       "                                             (0.0000)                  (0.0000)                  \n",
       "grade_mean                                   -1.3322***                -1.2381***                \n",
       "                                             (0.0987)                  (0.0989)                  \n",
       "orientation_order                                                      -0.0486***                \n",
       "                                                                       (0.0047)                  \n",
       "prop_4way                                                              -0.2071***                \n",
       "                                                                       (0.0071)                  \n",
       "straightness                                                           -0.4310***                \n",
       "                                                                       (0.0259)                  \n",
       "=================================================================================================\n",
       "Standard errors in parentheses.\n",
       "* p<.1, ** p<.05, ***p<.01\n",
       "\"\"\""
      ]
     },
     "execution_count": 45,
     "metadata": {},
     "output_type": "execute_result"
    }
   ],
   "source": [
    "# OLS estimates\n",
    "results = [result1, result2, result3]\n",
    "regressors = pd.Series(['const'] + regressors1 + regressors2 + regressors3).drop_duplicates(keep='first').tolist()\n",
    "for result in results:\n",
    "    print(round(result.rsquared, 4))\n",
    "summary_col(results=results, regressor_order=regressors, drop_omitted=True, stars=True)"
   ]
  },
  {
   "cell_type": "code",
   "execution_count": null,
   "metadata": {},
   "outputs": [],
   "source": []
  }
 ],
 "metadata": {
  "kernelspec": {
   "display_name": "Python (ox)",
   "language": "python",
   "name": "ox"
  },
  "language_info": {
   "codemirror_mode": {
    "name": "ipython",
    "version": 3
   },
   "file_extension": ".py",
   "mimetype": "text/x-python",
   "name": "python",
   "nbconvert_exporter": "python",
   "pygments_lexer": "ipython3",
   "version": "3.7.3"
  }
 },
 "nbformat": 4,
 "nbformat_minor": 2
}
