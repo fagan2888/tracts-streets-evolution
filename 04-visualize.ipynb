{
 "cells": [
  {
   "cell_type": "code",
   "execution_count": 1,
   "metadata": {},
   "outputs": [],
   "source": [
    "import geopandas as gpd\n",
    "import json\n",
    "import matplotlib.pyplot as plt\n",
    "import numpy as np\n",
    "import osmnx as ox\n",
    "import pandas as pd\n",
    "from geopandas.plotting import _flatten_multi_geoms as flatten\n",
    "from scipy import stats\n",
    "\n",
    "#import os\n",
    "#os.environ[\"PROJ_LIB\"] = \"C:\\\\Anaconda\\\\Library\\\\share\" #windows\n",
    "\n",
    "indicators_path = 'data/tracts_indicators_grades_eras_index.csv'\n",
    "tracts_path = 'data/tracts_shapefile'\n",
    "\n",
    "crs = {'init':'epsg:4326'}"
   ]
  },
  {
   "cell_type": "code",
   "execution_count": 2,
   "metadata": {},
   "outputs": [
    {
     "data": {
      "text/plain": [
       "51"
      ]
     },
     "execution_count": 2,
     "metadata": {},
     "output_type": "execute_result"
    }
   ],
   "source": [
    "with open('data/states_by_fips.json') as f:\n",
    "    fips_to_state = json.load(f)\n",
    "states = [k for k, v in fips_to_state.items() if v['abbreviation'] not in ['GU', 'AS', 'CZ', 'VI', 'PR']]\n",
    "len(states)"
   ]
  },
  {
   "cell_type": "code",
   "execution_count": 3,
   "metadata": {},
   "outputs": [
    {
     "data": {
      "text/plain": [
       "72663"
      ]
     },
     "execution_count": 3,
     "metadata": {},
     "output_type": "execute_result"
    }
   ],
   "source": [
    "indicators = pd.read_csv(indicators_path, dtype={'geoid':str})\n",
    "len(indicators)"
   ]
  },
  {
   "cell_type": "code",
   "execution_count": 4,
   "metadata": {},
   "outputs": [
    {
     "data": {
      "text/plain": [
       "74133"
      ]
     },
     "execution_count": 4,
     "metadata": {},
     "output_type": "execute_result"
    }
   ],
   "source": [
    "tracts = gpd.read_file(tracts_path, crs=crs).sort_values('GEOID')\n",
    "len(tracts)"
   ]
  },
  {
   "cell_type": "code",
   "execution_count": 5,
   "metadata": {},
   "outputs": [
    {
     "data": {
      "text/plain": [
       "74133"
      ]
     },
     "execution_count": 5,
     "metadata": {},
     "output_type": "execute_result"
    }
   ],
   "source": [
    "gdf = gpd.GeoDataFrame(pd.merge(indicators, tracts, how='right', left_on='geoid', right_on='GEOID'), crs=crs)\n",
    "len(gdf)"
   ]
  },
  {
   "cell_type": "code",
   "execution_count": 6,
   "metadata": {},
   "outputs": [
    {
     "data": {
      "text/plain": [
       "73056"
      ]
     },
     "execution_count": 6,
     "metadata": {},
     "output_type": "execute_result"
    }
   ],
   "source": [
    "# only retain tracts in 50 states + DC\n",
    "gdf = gdf[gdf['STATEFP'].isin(states)]\n",
    "\n",
    "# only retain tracts with at least 1 network node\n",
    "#gdf = gdf[gdf['n'] > 0]\n",
    "len(gdf)"
   ]
  },
  {
   "cell_type": "code",
   "execution_count": 7,
   "metadata": {},
   "outputs": [
    {
     "data": {
      "text/plain": [
       "grid_index         393\n",
       "grid_index_geom    397\n",
       "dtype: int64"
      ]
     },
     "execution_count": 7,
     "metadata": {},
     "output_type": "execute_result"
    }
   ],
   "source": [
    "responses = ['grid_index', 'grid_index_geom']\n",
    "pd.isnull(gdf[responses]).sum()"
   ]
  },
  {
   "cell_type": "code",
   "execution_count": 8,
   "metadata": {},
   "outputs": [
    {
     "data": {
      "text/plain": [
       "grid_index         393\n",
       "grid_index_geom    397\n",
       "dtype: int64"
      ]
     },
     "execution_count": 8,
     "metadata": {},
     "output_type": "execute_result"
    }
   ],
   "source": [
    "gdf = gdf.replace([np.inf, -np.inf], np.nan)\n",
    "pd.isnull(gdf[responses]).sum()"
   ]
  },
  {
   "cell_type": "code",
   "execution_count": 9,
   "metadata": {},
   "outputs": [
    {
     "data": {
      "text/plain": [
       "grid_index         0\n",
       "grid_index_geom    0\n",
       "dtype: int64"
      ]
     },
     "execution_count": 9,
     "metadata": {},
     "output_type": "execute_result"
    }
   ],
   "source": [
    "gdf = gdf.sort_values('geoid')\n",
    "gdf[responses] = gdf[responses].interpolate() #better to do spatial interpoliate with pysal spatial lag \n",
    "pd.isnull(gdf[responses]).sum()"
   ]
  },
  {
   "cell_type": "code",
   "execution_count": 10,
   "metadata": {},
   "outputs": [
    {
     "data": {
      "text/plain": [
       "grid_index         0\n",
       "grid_index_geom    0\n",
       "dtype: int64"
      ]
     },
     "execution_count": 10,
     "metadata": {},
     "output_type": "execute_result"
    }
   ],
   "source": [
    "# if all else fails, fill missing values with median value\n",
    "gdf[responses] = gdf[responses].fillna(gdf[responses].median())\n",
    "pd.isnull(gdf[responses]).sum()"
   ]
  },
  {
   "cell_type": "code",
   "execution_count": 11,
   "metadata": {},
   "outputs": [
    {
     "data": {
      "text/plain": [
       "73056"
      ]
     },
     "execution_count": 11,
     "metadata": {},
     "output_type": "execute_result"
    }
   ],
   "source": [
    "len(gdf)"
   ]
  },
  {
   "cell_type": "markdown",
   "metadata": {},
   "source": [
    "## Trend over time"
   ]
  },
  {
   "cell_type": "code",
   "execution_count": 12,
   "metadata": {},
   "outputs": [
    {
     "name": "stdout",
     "output_type": "stream",
     "text": [
      "dummy_majority_prop_1939_earlier    5790.0\n",
      "dummy_majority_prop_1940_49           77.0\n",
      "dummy_majority_prop_1950_59         1211.0\n",
      "dummy_majority_prop_1960_69          550.0\n",
      "dummy_majority_prop_1970_79         1181.0\n",
      "dummy_majority_prop_1980_89          980.0\n",
      "dummy_majority_prop_1990_99         1082.0\n",
      "dummy_majority_prop_2000_09         2046.0\n",
      "dummy_majority_prop_2010_later        40.0\n",
      "dtype: float64\n"
     ]
    },
    {
     "data": {
      "text/plain": [
       "12957.0"
      ]
     },
     "execution_count": 12,
     "metadata": {},
     "output_type": "execute_result"
    }
   ],
   "source": [
    "cols_majority = [c for c in gdf.columns if 'dummy_majority' in c]\n",
    "print(gdf[cols_majority].sum())\n",
    "gdf[cols_majority].sum().sum()"
   ]
  },
  {
   "cell_type": "code",
   "execution_count": 13,
   "metadata": {},
   "outputs": [
    {
     "name": "stdout",
     "output_type": "stream",
     "text": [
      "dummy_plurality_prop_1939_earlier    18079.0\n",
      "dummy_plurality_prop_1940_49          1159.0\n",
      "dummy_plurality_prop_1950_59          8512.0\n",
      "dummy_plurality_prop_1960_69          5335.0\n",
      "dummy_plurality_prop_1970_79         12557.0\n",
      "dummy_plurality_prop_1980_89          7345.0\n",
      "dummy_plurality_prop_1990_99          9022.0\n",
      "dummy_plurality_prop_2000_09          9954.0\n",
      "dummy_plurality_prop_2010_later        274.0\n",
      "dtype: float64\n"
     ]
    },
    {
     "data": {
      "text/plain": [
       "72237.0"
      ]
     },
     "execution_count": 13,
     "metadata": {},
     "output_type": "execute_result"
    }
   ],
   "source": [
    "cols_plurality = [c for c in gdf.columns if 'dummy_plurality' in c]\n",
    "print(gdf[cols_plurality].sum())\n",
    "gdf[cols_plurality].sum().sum()"
   ]
  },
  {
   "cell_type": "code",
   "execution_count": 14,
   "metadata": {},
   "outputs": [
    {
     "name": "stdout",
     "output_type": "stream",
     "text": [
      "dummy_earliest_prop_1939_earlier    19673.0\n",
      "dummy_earliest_prop_1940_49          1651.0\n",
      "dummy_earliest_prop_1950_59          8564.0\n",
      "dummy_earliest_prop_1960_69          5726.0\n",
      "dummy_earliest_prop_1970_79         12814.0\n",
      "dummy_earliest_prop_1980_89          7067.0\n",
      "dummy_earliest_prop_1990_99          8255.0\n",
      "dummy_earliest_prop_2000_09          4632.0\n",
      "dummy_earliest_prop_2010_later         76.0\n",
      "dtype: float64\n"
     ]
    },
    {
     "data": {
      "text/plain": [
       "68458.0"
      ]
     },
     "execution_count": 14,
     "metadata": {},
     "output_type": "execute_result"
    }
   ],
   "source": [
    "cols_earliest = [c for c in gdf.columns if 'dummy_earliest' in c]\n",
    "print(gdf[cols_earliest].sum())\n",
    "gdf[cols_earliest].sum().sum()"
   ]
  },
  {
   "cell_type": "code",
   "execution_count": 15,
   "metadata": {},
   "outputs": [
    {
     "name": "stdout",
     "output_type": "stream",
     "text": [
      "dummy_primary_prop_1939_earlier    21222.0\n",
      "dummy_primary_prop_1940_49          1501.0\n",
      "dummy_primary_prop_1950_59          9219.0\n",
      "dummy_primary_prop_1960_69          5584.0\n",
      "dummy_primary_prop_1970_79         12428.0\n",
      "dummy_primary_prop_1980_89          6855.0\n",
      "dummy_primary_prop_1990_99          7813.0\n",
      "dummy_primary_prop_2000_09          7435.0\n",
      "dummy_primary_prop_2010_later        180.0\n",
      "dtype: float64\n"
     ]
    },
    {
     "data": {
      "text/plain": [
       "72237.0"
      ]
     },
     "execution_count": 15,
     "metadata": {},
     "output_type": "execute_result"
    }
   ],
   "source": [
    "cols_primary = [c for c in gdf.columns if 'dummy_primary' in c]\n",
    "print(gdf[cols_primary].sum())\n",
    "gdf[cols_primary].sum().sum()"
   ]
  },
  {
   "cell_type": "code",
   "execution_count": 16,
   "metadata": {},
   "outputs": [],
   "source": [
    "type_primary = 'primary' #either 'majority' or 'plurality' or 'earliest' to designate primary era of development\n",
    "cols_primary = cols_primary #either majority or plurality or earliest, match type_primary\n",
    "response = 'grid_index_geom'\n",
    "\n",
    "# what variables to visualize time series trends for, and their labels\n",
    "variables = {response : 'Grid Index',\n",
    "             'rho' : 'Orientation-Order',\n",
    "             'straightness' : 'Average Straightness',\n",
    "             'prop_4way' : '4-Way Intersection Proportion',\n",
    "             'prop_deadend' : 'Dead-End Proportion',\n",
    "             'intersect_density' : 'Intersection Density',\n",
    "             'length_mean' : 'Average Street Length',\n",
    "             'elevations_iqr' : 'Elevations IQR'}\n",
    "\n",
    "def summarize_decades(gdf, cols_primary, type_primary):\n",
    "\n",
    "    means = {}\n",
    "    lowers = {}\n",
    "    uppers = {}\n",
    "    \n",
    "    for col in cols_primary:\n",
    "        decade = col.replace(f'dummy_{type_primary}_prop_', '')\n",
    "        means[decade] = {}\n",
    "        lowers[decade] = {}\n",
    "        uppers[decade] = {}\n",
    "        \n",
    "        subset = gdf[gdf[col]==1].dropna(subset=variables.keys())\n",
    "        for var in variables:\n",
    "            mean = subset[var].mean()\n",
    "            means[decade][var] = mean\n",
    "            conf_lower, conf_upper = stats.t.interval(0.95, len(subset[var])-1, loc=mean, scale=stats.sem(subset[var]))\n",
    "            lowers[decade][var] = conf_lower\n",
    "            uppers[decade][var] = conf_upper\n",
    "\n",
    "    df_means = pd.DataFrame(means).T\n",
    "    df_lowers = pd.DataFrame(lowers).T\n",
    "    df_uppers = pd.DataFrame(uppers).T\n",
    "    return df_means, df_lowers, df_uppers"
   ]
  },
  {
   "cell_type": "code",
   "execution_count": 17,
   "metadata": {},
   "outputs": [],
   "source": [
    "fig, axes = plt.subplots(nrows=2, ncols=4, figsize=(16, 8))\n",
    "\n",
    "for col, ax in zip(variables.keys(), axes.flat):\n",
    "    \n",
    "    # calculate decade/variable means and 95% confidence intervals\n",
    "    df_means, df_lowers, df_uppers = summarize_decades(gdf[gdf['is_urban']==1], cols_primary, type_primary)\n",
    "    \n",
    "    # plot conf intervals\n",
    "    ax.fill_between(df_means.index, df_uppers[col], df_lowers[col], color='#1f77b4', alpha=0.3, edgecolor='')\n",
    "    \n",
    "    # plot means' lines\n",
    "    df_means[col].plot(ax=ax, lw=1.5, marker='o', markerfacecolor='w', c='#1f77b4', markeredgewidth=1.5)\n",
    "    \n",
    "    # style the plot\n",
    "    ax.set_xlim((-0.5, len(df_means.index) - 0.5))\n",
    "    margin = (df_means[col].max() - df_means[col].min()) * 0.15\n",
    "    ax.set_ylim((df_means[col].min() - margin, df_means[col].max() + margin))\n",
    "    \n",
    "    # set tick marks and labels\n",
    "    ax.set_xticks(range(len(df_means.index)))\n",
    "    xticklabels = ['Pre-1940', '1940s', '1950s', '1960s', '1970s', '1980s', '1990s', '2000s', '2010–']\n",
    "    ax.set_xticklabels(xticklabels, rotation=45, rotation_mode='anchor', ha='right')\n",
    "    for tick in ax.get_xticklabels() + ax.get_yticklabels():\n",
    "        tick.set_fontname('Arial')\n",
    "        tick.set_fontsize(11)\n",
    "    \n",
    "    # title the subplot and set the grid\n",
    "    ax.set_title(variables[col], fontdict={'family':'Arial', 'size':14})\n",
    "    ax.grid(True, ls=':', lw=0.5)\n",
    "    \n",
    "fig.subplots_adjust(wspace=1, hspace=0.5)\n",
    "fig.tight_layout()\n",
    "fig.savefig(f'images/decades-{type_primary}-urban.png', bbox_inches='tight', dpi=300)\n",
    "plt.close() "
   ]
  },
  {
   "cell_type": "code",
   "execution_count": 18,
   "metadata": {},
   "outputs": [],
   "source": [
    "# plot earliest, majority, and plurality together as line plots\n",
    "fig, axes = plt.subplots(nrows=2, ncols=4, figsize=(16, 8))\n",
    "for col, ax in zip(variables.keys(), axes.flat):\n",
    "    \n",
    "    # plot the points and line   \n",
    "    #df_means, df_lowers, df_uppers = summarize_decades(gdf[gdf['is_urban']==1], cols_majority, 'majority')\n",
    "    #df_means[col].plot(ax=ax, lw=1.5, markersize=0, c='#999999', alpha=1, ls='--', dashes=(5, 5))\n",
    "    \n",
    "    df_means, df_lowers, df_uppers = summarize_decades(gdf[gdf['is_urban']==1], cols_plurality, 'plurality')\n",
    "    df_means[col].plot(ax=ax, lw=1.5, markersize=0, c='#666666', alpha=1, ls='--', dashes=(1, 1))\n",
    "    \n",
    "    df_means, df_lowers, df_uppers = summarize_decades(gdf[gdf['is_urban']==1], cols_earliest, 'earliest')\n",
    "    df_means[col].plot(ax=ax, lw=1.5, markersize=0, c='#999999', alpha=1, ls='--', dashes=(2.5, 2.5))\n",
    "    \n",
    "    df_means, df_lowers, df_uppers = summarize_decades(gdf[gdf['is_urban']==1], cols_primary, 'primary')\n",
    "    df_means[col].plot(ax=ax, lw=1.5, marker='o', markerfacecolor='w', c='#1f77b4', markeredgewidth=1.5)\n",
    "    \n",
    "    # set the x and y limits\n",
    "    ax.set_xlim((-0.5, len(df_means.index) - 0.5))\n",
    "    margin = (df_means[col].max() - df_means[col].min()) * 0.2\n",
    "    ax.set_ylim((df_means[col].min() - margin, df_means[col].max() + margin))\n",
    "    \n",
    "    # set tick marks and labels\n",
    "    ax.set_xticks(range(len(df_means.index)))\n",
    "    xticklabels = ['Pre-1940', '1940s', '1950s', '1960s', '1970s', '1980s', '1990s', '2000s', '2010–']\n",
    "    ax.set_xticklabels(xticklabels, rotation=45, rotation_mode='anchor', ha='right')\n",
    "    for tick in ax.get_xticklabels() + ax.get_yticklabels():\n",
    "        tick.set_fontname('Arial')\n",
    "        tick.set_fontsize(11)\n",
    "    \n",
    "    # title the subplot and set the grid\n",
    "    ax.set_title(variables[col], fontdict={'family':'Arial', 'size':14})\n",
    "    ax.grid(True, ls=':', lw=0.5)\n",
    "    \n",
    "fig.subplots_adjust(wspace=1, hspace=0.5)\n",
    "fig.tight_layout()\n",
    "fig.savefig(f'images/decades-together-urban.png', bbox_inches='tight', dpi=300)\n",
    "plt.close()"
   ]
  },
  {
   "cell_type": "markdown",
   "metadata": {},
   "source": [
    "## Map study sites"
   ]
  },
  {
   "cell_type": "code",
   "execution_count": 19,
   "metadata": {},
   "outputs": [],
   "source": [
    "usa = gpd.read_file('data/cb_2017_us_state_20m')\n",
    "mask = ~((usa['STUSPS']=='AK') | (usa['STUSPS']=='HI') | (usa['STUSPS']=='PR'))\n",
    "usa = usa[mask]\n",
    "crs_proj = '+proj=aea +lat_1=29.5 +lat_2=45.5 +lat_0=37.5 +lon_0=-96 +x_0=0 +y_0=0 +datum=NAD83 +units=m +no_defs '\n",
    "usa_proj = usa.to_crs(crs_proj)\n",
    "xmin, ymin, xmax, ymax = usa_proj.unary_union.bounds\n",
    "aspect_ratio = (xmax - xmin) / (ymax - ymin) "
   ]
  },
  {
   "cell_type": "code",
   "execution_count": 20,
   "metadata": {},
   "outputs": [],
   "source": [
    "states = [k for k, v in fips_to_state.items() if v['abbreviation'] not in ['AK', 'HI']]"
   ]
  },
  {
   "cell_type": "code",
   "execution_count": 21,
   "metadata": {},
   "outputs": [
    {
     "name": "stdout",
     "output_type": "stream",
     "text": [
      "Wall time: 20.8 s\n"
     ]
    }
   ],
   "source": [
    "%%time\n",
    "# project the gdf\n",
    "gdf_proj = gdf.to_crs(crs_proj)"
   ]
  },
  {
   "cell_type": "code",
   "execution_count": 22,
   "metadata": {},
   "outputs": [
    {
     "data": {
      "text/plain": [
       "72175"
      ]
     },
     "execution_count": 22,
     "metadata": {},
     "output_type": "execute_result"
    }
   ],
   "source": [
    "mask = gdf_proj['state'].isin(states)\n",
    "gdf_proj = gdf_proj[mask]\n",
    "len(gdf_proj)"
   ]
  },
  {
   "cell_type": "code",
   "execution_count": 23,
   "metadata": {},
   "outputs": [
    {
     "data": {
      "text/plain": [
       "72175"
      ]
     },
     "execution_count": 23,
     "metadata": {},
     "output_type": "execute_result"
    }
   ],
   "source": [
    "gdf_proj = gdf_proj.sort_values(response) #low to high\n",
    "colors = ox.get_colors(len(gdf_proj), cmap='inferno', start=0.15) #dark to light\n",
    "len(colors)"
   ]
  },
  {
   "cell_type": "code",
   "execution_count": 24,
   "metadata": {},
   "outputs": [
    {
     "name": "stdout",
     "output_type": "stream",
     "text": [
      "72416\n",
      "72416\n"
     ]
    }
   ],
   "source": [
    "flat_geoms, flat_colors = flatten(gdf_proj['geometry'], colors)\n",
    "flat_geoms = gpd.GeoSeries(flat_geoms)\n",
    "print(len(flat_geoms))\n",
    "print(len(flat_colors))"
   ]
  },
  {
   "cell_type": "code",
   "execution_count": 25,
   "metadata": {
    "scrolled": false
   },
   "outputs": [
    {
     "name": "stdout",
     "output_type": "stream",
     "text": [
      "Wall time: 58.3 s\n"
     ]
    }
   ],
   "source": [
    "%%time\n",
    "width = 14\n",
    "fig, ax = plt.subplots(figsize=(width, width/aspect_ratio), facecolor='k')\n",
    "\n",
    "ax = flat_geoms.plot(ax=ax, facecolor=flat_colors, edgecolor=flat_colors, linewidth=0.2)\n",
    "ax = usa_proj.plot(ax=ax, facecolor='none', edgecolor='w', linewidth=0.4)\n",
    "\n",
    "ax.set_xlim((xmin, xmax))\n",
    "ax.set_ylim((ymin, ymax))\n",
    "\n",
    "ax.axis('off')\n",
    "fig.tight_layout()\n",
    "fig.savefig('images/grid_index-choropleth.png', facecolor=fig.get_facecolor(), edgecolor='none', bbox_inches='tight', dpi=300)\n",
    "plt.close()"
   ]
  },
  {
   "cell_type": "code",
   "execution_count": 26,
   "metadata": {},
   "outputs": [],
   "source": [
    "fig, ax = plt.subplots()\n",
    "raster = np.outer(np.ones(10), np.arange(100))\n",
    "ax.imshow(raster, cmap='inferno')\n",
    "ax.axis('off')\n",
    "fig.tight_layout()\n",
    "fig.savefig('images/grid_index-colorbar.png', bbox_inches='tight', dpi=300)\n",
    "plt.close() "
   ]
  },
  {
   "cell_type": "markdown",
   "metadata": {},
   "source": [
    "## Visualize KDE"
   ]
  },
  {
   "cell_type": "code",
   "execution_count": 27,
   "metadata": {},
   "outputs": [],
   "source": [
    "bandwidth = 0.7\n",
    "legend_fontsize = 6.25\n",
    "label_fontsize = 14\n",
    "fontname = 'Arial'"
   ]
  },
  {
   "cell_type": "code",
   "execution_count": 28,
   "metadata": {},
   "outputs": [],
   "source": [
    "gdf['state_abbrev'] = gdf['STATEFP'].map(lambda x: fips_to_state[x]['abbreviation'] if x in fips_to_state else None)"
   ]
  },
  {
   "cell_type": "code",
   "execution_count": 29,
   "metadata": {},
   "outputs": [],
   "source": [
    "groups = gdf.sort_values('state_abbrev').groupby('state_abbrev')\n",
    "colors = ox.get_colors(len(groups), cmap='hsv_r', start=0.2)"
   ]
  },
  {
   "cell_type": "code",
   "execution_count": 30,
   "metadata": {},
   "outputs": [],
   "source": [
    "states = groups[response].median().sort_values().index"
   ]
  },
  {
   "cell_type": "code",
   "execution_count": 31,
   "metadata": {},
   "outputs": [],
   "source": [
    "fig, ax = plt.subplots(figsize=(7, 7))\n",
    "for state, c in zip(reversed(states), reversed(colors)):\n",
    "    group = groups.get_group(state)\n",
    "    ax = group[response].plot.kde(ax=ax, label=state, linewidth=1.5, alpha=0.6,\n",
    "                                        color=c, ls='-', bw_method=bandwidth)\n",
    "\n",
    "ax.set_ylim(bottom=0, top=5.5)\n",
    "ax.set_xlim(left=-0.19, right=1.19)\n",
    "ax.set_xlabel('Grid Index', fontsize=label_fontsize, fontname=fontname)\n",
    "ax.set_ylabel('Probability Density', fontsize=label_fontsize, fontname=fontname)\n",
    "plt.legend(loc='center left', bbox_to_anchor=(1, 0.5), prop={'size':legend_fontsize, 'family':fontname})\n",
    "fig.tight_layout()\n",
    "fig.savefig('images/kde-grid_index_geom.png', bbox_inches='tight', dpi=600)\n",
    "plt.close()"
   ]
  },
  {
   "cell_type": "code",
   "execution_count": 32,
   "metadata": {},
   "outputs": [],
   "source": [
    "fig, ax = plt.subplots(figsize=(7, 7))\n",
    "for state, c in zip(reversed(states), reversed(colors)):\n",
    "    group = groups.get_group(state)\n",
    "    ax = group['orientation_entropy'].plot.kde(ax=ax, label=state, linewidth=1.5, alpha=0.6,\n",
    "                                               color=c, ls='-', bw_method=bandwidth)\n",
    "\n",
    "ax.set_ylim(bottom=0, top=2)\n",
    "ax.set_xlim(left=0.8, right=4.3)\n",
    "ax.set_xlabel(r'$H_O$', fontsize=label_fontsize, fontname=fontname)\n",
    "ax.set_ylabel('Probability Density', fontsize=label_fontsize, fontname=fontname)\n",
    "plt.legend(loc='center left', bbox_to_anchor=(1, 0.5), prop={'size':legend_fontsize, 'family':fontname})\n",
    "fig.tight_layout()\n",
    "fig.savefig('images/kde-orientation-entropy.png', bbox_inches='tight', dpi=600)\n",
    "plt.close()"
   ]
  },
  {
   "cell_type": "code",
   "execution_count": null,
   "metadata": {},
   "outputs": [],
   "source": []
  }
 ],
 "metadata": {
  "kernelspec": {
   "display_name": "Python 3",
   "language": "python",
   "name": "python3"
  },
  "language_info": {
   "codemirror_mode": {
    "name": "ipython",
    "version": 3
   },
   "file_extension": ".py",
   "mimetype": "text/x-python",
   "name": "python",
   "nbconvert_exporter": "python",
   "pygments_lexer": "ipython3",
   "version": "3.7.1"
  }
 },
 "nbformat": 4,
 "nbformat_minor": 2
}
