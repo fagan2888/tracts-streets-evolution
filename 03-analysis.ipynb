{
 "cells": [
  {
   "cell_type": "code",
   "execution_count": 1,
   "metadata": {},
   "outputs": [],
   "source": [
    "import geopandas as gpd\n",
    "import json\n",
    "import matplotlib.pyplot as plt\n",
    "import numpy as np\n",
    "import pandas as pd\n",
    "from scipy import stats\n",
    "clip = False"
   ]
  },
  {
   "cell_type": "markdown",
   "metadata": {},
   "source": [
    "## Load the data"
   ]
  },
  {
   "cell_type": "code",
   "execution_count": 2,
   "metadata": {},
   "outputs": [],
   "source": [
    "census_path = 'data/census_data.csv'\n",
    "indicators_path = 'data/tracts_indicators_grades.csv'\n",
    "tracts_path = 'data/tracts_shapefile'\n",
    "output_path = 'data/tracts_indicators_grades_eras_index.csv'\n",
    "crs = {'init':'epsg:4326'}"
   ]
  },
  {
   "cell_type": "code",
   "execution_count": 3,
   "metadata": {},
   "outputs": [
    {
     "data": {
      "text/plain": [
       "72663"
      ]
     },
     "execution_count": 3,
     "metadata": {},
     "output_type": "execute_result"
    }
   ],
   "source": [
    "indicators = pd.read_csv(indicators_path, dtype={'geoid':str})\n",
    "cd = pd.read_csv(census_path, dtype={'GEOID10':str, 'state':str, 'county':str})\n",
    "indicators = pd.merge(indicators, cd, left_on='geoid', right_on='GEOID10')\n",
    "len(indicators)"
   ]
  },
  {
   "cell_type": "code",
   "execution_count": 4,
   "metadata": {},
   "outputs": [],
   "source": [
    "tracts = gpd.read_file(tracts_path, crs=crs).rename(columns={'ALAND':'aland'})[['GEOID', 'aland']]"
   ]
  },
  {
   "cell_type": "code",
   "execution_count": 5,
   "metadata": {},
   "outputs": [
    {
     "data": {
      "text/plain": [
       "72663"
      ]
     },
     "execution_count": 5,
     "metadata": {},
     "output_type": "execute_result"
    }
   ],
   "source": [
    "gdf = gpd.GeoDataFrame(pd.merge(indicators, tracts, left_on='geoid', right_on='GEOID'), crs=crs)\n",
    "gdf = gdf.drop(columns=['GEOID', 'GEOID10'])\n",
    "len(gdf)"
   ]
  },
  {
   "cell_type": "code",
   "execution_count": 6,
   "metadata": {},
   "outputs": [],
   "source": [
    "with open('data/states_by_fips.json') as f:\n",
    "    fips_to_state = json.load(f)\n",
    "gdf['state_abbrev'] = gdf['state'].map(lambda x: fips_to_state[x]['abbreviation'])"
   ]
  },
  {
   "cell_type": "markdown",
   "metadata": {},
   "source": [
    "## Create and convert variables"
   ]
  },
  {
   "cell_type": "code",
   "execution_count": 7,
   "metadata": {},
   "outputs": [],
   "source": [
    "# convert land area and densities to square kilometers\n",
    "gdf['aland'] = gdf['aland'] / 1e6 #convert m2 to km2\n",
    "gdf['intersect_density'] = (gdf['n'] / gdf['aland']) * (1 - gdf['prop_deadend']) #per km2\n",
    "gdf['pop_density'] = gdf['total_pop'] / gdf['aland'] #per km2"
   ]
  },
  {
   "cell_type": "code",
   "execution_count": 8,
   "metadata": {},
   "outputs": [],
   "source": [
    "# population in units of 1,000 persons\n",
    "gdf['total_pop_k'] = gdf['total_pop'] / 1000"
   ]
  },
  {
   "cell_type": "code",
   "execution_count": 9,
   "metadata": {},
   "outputs": [],
   "source": [
    "# log of mean street segment length\n",
    "gdf['length_mean_log'] = np.log(gdf['length_mean'])"
   ]
  },
  {
   "cell_type": "code",
   "execution_count": 10,
   "metadata": {},
   "outputs": [],
   "source": [
    "# straightness is inverse of circuity\n",
    "gdf['straightness'] = 1 / gdf['circuity_avg']"
   ]
  },
  {
   "cell_type": "code",
   "execution_count": 11,
   "metadata": {},
   "outputs": [],
   "source": [
    "# create state dummies\n",
    "states = gdf['state_abbrev'].unique()\n",
    "for state in states:\n",
    "    gdf[state] = gdf['state_abbrev'].map(lambda x: 1 if x==state else 0)"
   ]
  },
  {
   "cell_type": "code",
   "execution_count": 12,
   "metadata": {},
   "outputs": [
    {
     "data": {
      "text/plain": [
       "1    46311\n",
       "0    26352\n",
       "Name: is_urban, dtype: int64"
      ]
     },
     "execution_count": 12,
     "metadata": {},
     "output_type": "execute_result"
    }
   ],
   "source": [
    "# dummy for if tract is rural vs urban\n",
    "# census bureau considers a block urban if it has at least 1000 people per sq mile\n",
    "urban_density = 1000 / 2.59 # 1000 people per sq mile converted to sq km\n",
    "gdf['is_urban'] = (gdf['pop_density'] > urban_density).astype(int)\n",
    "gdf['is_urban'].value_counts()"
   ]
  },
  {
   "cell_type": "markdown",
   "metadata": {},
   "source": [
    "## Create grid index"
   ]
  },
  {
   "cell_type": "code",
   "execution_count": 13,
   "metadata": {},
   "outputs": [
    {
     "data": {
      "text/html": [
       "<div>\n",
       "<style scoped>\n",
       "    .dataframe tbody tr th:only-of-type {\n",
       "        vertical-align: middle;\n",
       "    }\n",
       "\n",
       "    .dataframe tbody tr th {\n",
       "        vertical-align: top;\n",
       "    }\n",
       "\n",
       "    .dataframe thead th {\n",
       "        text-align: right;\n",
       "    }\n",
       "</style>\n",
       "<table border=\"1\" class=\"dataframe\">\n",
       "  <thead>\n",
       "    <tr style=\"text-align: right;\">\n",
       "      <th></th>\n",
       "      <th>rho</th>\n",
       "      <th>straightness</th>\n",
       "      <th>prop_4way</th>\n",
       "    </tr>\n",
       "  </thead>\n",
       "  <tbody>\n",
       "    <tr>\n",
       "      <th>count</th>\n",
       "      <td>72659.000000</td>\n",
       "      <td>72663.000000</td>\n",
       "      <td>72663.000000</td>\n",
       "    </tr>\n",
       "    <tr>\n",
       "      <th>mean</th>\n",
       "      <td>0.484327</td>\n",
       "      <td>0.935759</td>\n",
       "      <td>0.210324</td>\n",
       "    </tr>\n",
       "    <tr>\n",
       "      <th>std</th>\n",
       "      <td>0.316234</td>\n",
       "      <td>0.045987</td>\n",
       "      <td>0.171770</td>\n",
       "    </tr>\n",
       "    <tr>\n",
       "      <th>min</th>\n",
       "      <td>0.002183</td>\n",
       "      <td>0.000000</td>\n",
       "      <td>0.000000</td>\n",
       "    </tr>\n",
       "    <tr>\n",
       "      <th>25%</th>\n",
       "      <td>0.185824</td>\n",
       "      <td>0.911671</td>\n",
       "      <td>0.092486</td>\n",
       "    </tr>\n",
       "    <tr>\n",
       "      <th>50%</th>\n",
       "      <td>0.465526</td>\n",
       "      <td>0.939706</td>\n",
       "      <td>0.156627</td>\n",
       "    </tr>\n",
       "    <tr>\n",
       "      <th>75%</th>\n",
       "      <td>0.772004</td>\n",
       "      <td>0.969004</td>\n",
       "      <td>0.271676</td>\n",
       "    </tr>\n",
       "    <tr>\n",
       "      <th>max</th>\n",
       "      <td>1.000000</td>\n",
       "      <td>1.000007</td>\n",
       "      <td>1.000000</td>\n",
       "    </tr>\n",
       "  </tbody>\n",
       "</table>\n",
       "</div>"
      ],
      "text/plain": [
       "                rho  straightness     prop_4way\n",
       "count  72659.000000  72663.000000  72663.000000\n",
       "mean       0.484327      0.935759      0.210324\n",
       "std        0.316234      0.045987      0.171770\n",
       "min        0.002183      0.000000      0.000000\n",
       "25%        0.185824      0.911671      0.092486\n",
       "50%        0.465526      0.939706      0.156627\n",
       "75%        0.772004      0.969004      0.271676\n",
       "max        1.000000      1.000007      1.000000"
      ]
     },
     "execution_count": 13,
     "metadata": {},
     "output_type": "execute_result"
    }
   ],
   "source": [
    "index_components = ['rho', 'straightness', 'prop_4way']\n",
    "gdf[index_components].describe()"
   ]
  },
  {
   "cell_type": "code",
   "execution_count": 14,
   "metadata": {},
   "outputs": [],
   "source": [
    "# clip vectors to 4 std devs above/below mean to make variances more similar\n",
    "if clip:\n",
    "    sigma = 4\n",
    "    for col in index_components:\n",
    "        lower = gdf[col].mean() - gdf[col].std() * sigma\n",
    "        upper = gdf[col].mean() + gdf[col].std() * sigma\n",
    "        gdf[col] = gdf[col].clip(lower, upper)\n",
    "\n",
    "    # min-max scale to get them back into (0,1) range\n",
    "    gdf[index_components] = (gdf[index_components]-gdf[index_components].min())/(gdf[index_components].max()-gdf[index_components].min())\n",
    "    print(gdf[index_components].describe())"
   ]
  },
  {
   "cell_type": "code",
   "execution_count": 15,
   "metadata": {},
   "outputs": [
    {
     "data": {
      "text/html": [
       "<div>\n",
       "<style scoped>\n",
       "    .dataframe tbody tr th:only-of-type {\n",
       "        vertical-align: middle;\n",
       "    }\n",
       "\n",
       "    .dataframe tbody tr th {\n",
       "        vertical-align: top;\n",
       "    }\n",
       "\n",
       "    .dataframe thead th {\n",
       "        text-align: right;\n",
       "    }\n",
       "</style>\n",
       "<table border=\"1\" class=\"dataframe\">\n",
       "  <thead>\n",
       "    <tr style=\"text-align: right;\">\n",
       "      <th></th>\n",
       "      <th>rho</th>\n",
       "      <th>straightness</th>\n",
       "      <th>prop_4way</th>\n",
       "    </tr>\n",
       "  </thead>\n",
       "  <tbody>\n",
       "    <tr>\n",
       "      <th>count</th>\n",
       "      <td>72659.000000</td>\n",
       "      <td>72663.000000</td>\n",
       "      <td>72663.000000</td>\n",
       "    </tr>\n",
       "    <tr>\n",
       "      <th>mean</th>\n",
       "      <td>0.484327</td>\n",
       "      <td>0.935759</td>\n",
       "      <td>0.210324</td>\n",
       "    </tr>\n",
       "    <tr>\n",
       "      <th>std</th>\n",
       "      <td>0.316234</td>\n",
       "      <td>0.045987</td>\n",
       "      <td>0.171770</td>\n",
       "    </tr>\n",
       "    <tr>\n",
       "      <th>min</th>\n",
       "      <td>0.002183</td>\n",
       "      <td>0.000000</td>\n",
       "      <td>0.000000</td>\n",
       "    </tr>\n",
       "    <tr>\n",
       "      <th>25%</th>\n",
       "      <td>0.185824</td>\n",
       "      <td>0.911671</td>\n",
       "      <td>0.092486</td>\n",
       "    </tr>\n",
       "    <tr>\n",
       "      <th>50%</th>\n",
       "      <td>0.465526</td>\n",
       "      <td>0.939706</td>\n",
       "      <td>0.156627</td>\n",
       "    </tr>\n",
       "    <tr>\n",
       "      <th>75%</th>\n",
       "      <td>0.772004</td>\n",
       "      <td>0.969004</td>\n",
       "      <td>0.271676</td>\n",
       "    </tr>\n",
       "    <tr>\n",
       "      <th>max</th>\n",
       "      <td>1.000000</td>\n",
       "      <td>1.000000</td>\n",
       "      <td>1.000000</td>\n",
       "    </tr>\n",
       "  </tbody>\n",
       "</table>\n",
       "</div>"
      ],
      "text/plain": [
       "                rho  straightness     prop_4way\n",
       "count  72659.000000  72663.000000  72663.000000\n",
       "mean       0.484327      0.935759      0.210324\n",
       "std        0.316234      0.045987      0.171770\n",
       "min        0.002183      0.000000      0.000000\n",
       "25%        0.185824      0.911671      0.092486\n",
       "50%        0.465526      0.939706      0.156627\n",
       "75%        0.772004      0.969004      0.271676\n",
       "max        1.000000      1.000000      1.000000"
      ]
     },
     "execution_count": 15,
     "metadata": {},
     "output_type": "execute_result"
    }
   ],
   "source": [
    "# fix any rounding errors so all three components are in range 0 to 1\n",
    "gdf[index_components] = gdf[index_components].clip(lower=0, upper=1)\n",
    "gdf[index_components].describe()"
   ]
  },
  {
   "cell_type": "code",
   "execution_count": 16,
   "metadata": {},
   "outputs": [
    {
     "data": {
      "text/html": [
       "<div>\n",
       "<style scoped>\n",
       "    .dataframe tbody tr th:only-of-type {\n",
       "        vertical-align: middle;\n",
       "    }\n",
       "\n",
       "    .dataframe tbody tr th {\n",
       "        vertical-align: top;\n",
       "    }\n",
       "\n",
       "    .dataframe thead th {\n",
       "        text-align: right;\n",
       "    }\n",
       "</style>\n",
       "<table border=\"1\" class=\"dataframe\">\n",
       "  <thead>\n",
       "    <tr style=\"text-align: right;\">\n",
       "      <th></th>\n",
       "      <th>rho</th>\n",
       "      <th>straightness</th>\n",
       "      <th>prop_4way</th>\n",
       "    </tr>\n",
       "  </thead>\n",
       "  <tbody>\n",
       "    <tr>\n",
       "      <th>count</th>\n",
       "      <td>7.265900e+04</td>\n",
       "      <td>7.266300e+04</td>\n",
       "      <td>7.266300e+04</td>\n",
       "    </tr>\n",
       "    <tr>\n",
       "      <th>mean</th>\n",
       "      <td>-1.533683e-14</td>\n",
       "      <td>-3.959005e-14</td>\n",
       "      <td>-4.116245e-14</td>\n",
       "    </tr>\n",
       "    <tr>\n",
       "      <th>std</th>\n",
       "      <td>1.000000e+00</td>\n",
       "      <td>1.000000e+00</td>\n",
       "      <td>1.000000e+00</td>\n",
       "    </tr>\n",
       "    <tr>\n",
       "      <th>min</th>\n",
       "      <td>-1.524643e+00</td>\n",
       "      <td>-2.034848e+01</td>\n",
       "      <td>-1.224456e+00</td>\n",
       "    </tr>\n",
       "    <tr>\n",
       "      <th>25%</th>\n",
       "      <td>-9.439324e-01</td>\n",
       "      <td>-5.238102e-01</td>\n",
       "      <td>-6.860279e-01</td>\n",
       "    </tr>\n",
       "    <tr>\n",
       "      <th>50%</th>\n",
       "      <td>-5.945437e-02</td>\n",
       "      <td>8.582047e-02</td>\n",
       "      <td>-3.126153e-01</td>\n",
       "    </tr>\n",
       "    <tr>\n",
       "      <th>75%</th>\n",
       "      <td>9.096941e-01</td>\n",
       "      <td>7.229103e-01</td>\n",
       "      <td>3.571758e-01</td>\n",
       "    </tr>\n",
       "    <tr>\n",
       "      <th>max</th>\n",
       "      <td>1.630668e+00</td>\n",
       "      <td>1.396937e+00</td>\n",
       "      <td>4.597294e+00</td>\n",
       "    </tr>\n",
       "  </tbody>\n",
       "</table>\n",
       "</div>"
      ],
      "text/plain": [
       "                rho  straightness     prop_4way\n",
       "count  7.265900e+04  7.266300e+04  7.266300e+04\n",
       "mean  -1.533683e-14 -3.959005e-14 -4.116245e-14\n",
       "std    1.000000e+00  1.000000e+00  1.000000e+00\n",
       "min   -1.524643e+00 -2.034848e+01 -1.224456e+00\n",
       "25%   -9.439324e-01 -5.238102e-01 -6.860279e-01\n",
       "50%   -5.945437e-02  8.582047e-02 -3.126153e-01\n",
       "75%    9.096941e-01  7.229103e-01  3.571758e-01\n",
       "max    1.630668e+00  1.396937e+00  4.597294e+00"
      ]
     },
     "execution_count": 16,
     "metadata": {},
     "output_type": "execute_result"
    }
   ],
   "source": [
    "# or standardized (mean-normalized) version with mean=0 and std=1\n",
    "gdf_norm = (gdf[index_components] - gdf[index_components].mean()) / gdf[index_components].std()\n",
    "gdf_norm.describe()"
   ]
  },
  {
   "cell_type": "markdown",
   "metadata": {},
   "source": [
    "create index: the component indicators are non-substitutable/non-compensatory. that means, ideally you'd use geometric mean. but you can only do that if all components are positive (due to the cube-root). with the mean-zero normalized data, some will be negative. so, do arithmetic mean of mean-normalized data and geometric mean of standard 0,1 data (which is essentially min-max normalized)."
   ]
  },
  {
   "cell_type": "code",
   "execution_count": 17,
   "metadata": {},
   "outputs": [],
   "source": [
    "# arithmetic mean, even-weighting of mean-normalized components (gdf_norm)\n",
    "gdf['grid_index'] = gdf_norm[index_components].sum(axis=1) / 3\n",
    "\n",
    "# geometric mean, even-weighting of min-max-normalized components (gdf)\n",
    "gdf['grid_index_geom'] = stats.mstats.gmean(gdf[index_components], axis=1)"
   ]
  },
  {
   "cell_type": "code",
   "execution_count": 18,
   "metadata": {},
   "outputs": [
    {
     "data": {
      "text/html": [
       "<div>\n",
       "<style scoped>\n",
       "    .dataframe tbody tr th:only-of-type {\n",
       "        vertical-align: middle;\n",
       "    }\n",
       "\n",
       "    .dataframe tbody tr th {\n",
       "        vertical-align: top;\n",
       "    }\n",
       "\n",
       "    .dataframe thead th {\n",
       "        text-align: right;\n",
       "    }\n",
       "</style>\n",
       "<table border=\"1\" class=\"dataframe\">\n",
       "  <thead>\n",
       "    <tr style=\"text-align: right;\">\n",
       "      <th></th>\n",
       "      <th>geoid</th>\n",
       "      <th>state_abbrev</th>\n",
       "      <th>grid_index</th>\n",
       "      <th>grid_index_geom</th>\n",
       "      <th>rho</th>\n",
       "      <th>straightness</th>\n",
       "      <th>prop_4way</th>\n",
       "    </tr>\n",
       "  </thead>\n",
       "  <tbody>\n",
       "    <tr>\n",
       "      <th>25412</th>\n",
       "      <td>18177000800</td>\n",
       "      <td>IN</td>\n",
       "      <td>0.687643</td>\n",
       "      <td>0.600108</td>\n",
       "      <td>0.743488</td>\n",
       "      <td>0.968931</td>\n",
       "      <td>0.300000</td>\n",
       "    </tr>\n",
       "    <tr>\n",
       "      <th>31086</th>\n",
       "      <td>25001014700</td>\n",
       "      <td>MA</td>\n",
       "      <td>-0.841450</td>\n",
       "      <td>0.336798</td>\n",
       "      <td>0.267217</td>\n",
       "      <td>0.863212</td>\n",
       "      <td>0.165625</td>\n",
       "    </tr>\n",
       "    <tr>\n",
       "      <th>71361</th>\n",
       "      <td>55025011506</td>\n",
       "      <td>WI</td>\n",
       "      <td>-0.305263</td>\n",
       "      <td>0.401471</td>\n",
       "      <td>0.323960</td>\n",
       "      <td>0.914820</td>\n",
       "      <td>0.218341</td>\n",
       "    </tr>\n",
       "    <tr>\n",
       "      <th>9300</th>\n",
       "      <td>06073005700</td>\n",
       "      <td>CA</td>\n",
       "      <td>1.976660</td>\n",
       "      <td>0.905874</td>\n",
       "      <td>0.991945</td>\n",
       "      <td>0.987850</td>\n",
       "      <td>0.758621</td>\n",
       "    </tr>\n",
       "    <tr>\n",
       "      <th>17211</th>\n",
       "      <td>12099007833</td>\n",
       "      <td>FL</td>\n",
       "      <td>-0.006759</td>\n",
       "      <td>0.524014</td>\n",
       "      <td>0.768401</td>\n",
       "      <td>0.893731</td>\n",
       "      <td>0.209524</td>\n",
       "    </tr>\n",
       "    <tr>\n",
       "      <th>12809</th>\n",
       "      <td>08123002018</td>\n",
       "      <td>CO</td>\n",
       "      <td>0.258005</td>\n",
       "      <td>0.463627</td>\n",
       "      <td>0.835084</td>\n",
       "      <td>0.942767</td>\n",
       "      <td>0.126582</td>\n",
       "    </tr>\n",
       "  </tbody>\n",
       "</table>\n",
       "</div>"
      ],
      "text/plain": [
       "             geoid state_abbrev  grid_index  grid_index_geom       rho  \\\n",
       "25412  18177000800           IN    0.687643         0.600108  0.743488   \n",
       "31086  25001014700           MA   -0.841450         0.336798  0.267217   \n",
       "71361  55025011506           WI   -0.305263         0.401471  0.323960   \n",
       "9300   06073005700           CA    1.976660         0.905874  0.991945   \n",
       "17211  12099007833           FL   -0.006759         0.524014  0.768401   \n",
       "12809  08123002018           CO    0.258005         0.463627  0.835084   \n",
       "\n",
       "       straightness  prop_4way  \n",
       "25412      0.968931   0.300000  \n",
       "31086      0.863212   0.165625  \n",
       "71361      0.914820   0.218341  \n",
       "9300       0.987850   0.758621  \n",
       "17211      0.893731   0.209524  \n",
       "12809      0.942767   0.126582  "
      ]
     },
     "execution_count": 18,
     "metadata": {},
     "output_type": "execute_result"
    }
   ],
   "source": [
    "sample = gdf.sample(n=6, random_state=2)\n",
    "sample[['geoid', 'state_abbrev', 'grid_index', 'grid_index_geom'] + index_components]"
   ]
  },
  {
   "cell_type": "code",
   "execution_count": 19,
   "metadata": {},
   "outputs": [
    {
     "data": {
      "text/html": [
       "<div>\n",
       "<style scoped>\n",
       "    .dataframe tbody tr th:only-of-type {\n",
       "        vertical-align: middle;\n",
       "    }\n",
       "\n",
       "    .dataframe tbody tr th {\n",
       "        vertical-align: top;\n",
       "    }\n",
       "\n",
       "    .dataframe thead th {\n",
       "        text-align: right;\n",
       "    }\n",
       "</style>\n",
       "<table border=\"1\" class=\"dataframe\">\n",
       "  <thead>\n",
       "    <tr style=\"text-align: right;\">\n",
       "      <th></th>\n",
       "      <th>grid_index</th>\n",
       "      <th>grid_index_geom</th>\n",
       "      <th>rho</th>\n",
       "      <th>straightness</th>\n",
       "      <th>prop_4way</th>\n",
       "    </tr>\n",
       "  </thead>\n",
       "  <tbody>\n",
       "    <tr>\n",
       "      <th>grid_index</th>\n",
       "      <td>1.000000</td>\n",
       "      <td>0.954403</td>\n",
       "      <td>0.870568</td>\n",
       "      <td>0.835172</td>\n",
       "      <td>0.873673</td>\n",
       "    </tr>\n",
       "    <tr>\n",
       "      <th>grid_index_geom</th>\n",
       "      <td>0.954403</td>\n",
       "      <td>1.000000</td>\n",
       "      <td>0.899478</td>\n",
       "      <td>0.663511</td>\n",
       "      <td>0.900373</td>\n",
       "    </tr>\n",
       "    <tr>\n",
       "      <th>rho</th>\n",
       "      <td>0.870568</td>\n",
       "      <td>0.899478</td>\n",
       "      <td>1.000000</td>\n",
       "      <td>0.576998</td>\n",
       "      <td>0.669655</td>\n",
       "    </tr>\n",
       "    <tr>\n",
       "      <th>straightness</th>\n",
       "      <td>0.835172</td>\n",
       "      <td>0.663511</td>\n",
       "      <td>0.576998</td>\n",
       "      <td>1.000000</td>\n",
       "      <td>0.582524</td>\n",
       "    </tr>\n",
       "    <tr>\n",
       "      <th>prop_4way</th>\n",
       "      <td>0.873673</td>\n",
       "      <td>0.900373</td>\n",
       "      <td>0.669655</td>\n",
       "      <td>0.582524</td>\n",
       "      <td>1.000000</td>\n",
       "    </tr>\n",
       "  </tbody>\n",
       "</table>\n",
       "</div>"
      ],
      "text/plain": [
       "                 grid_index  grid_index_geom       rho  straightness  \\\n",
       "grid_index         1.000000         0.954403  0.870568      0.835172   \n",
       "grid_index_geom    0.954403         1.000000  0.899478      0.663511   \n",
       "rho                0.870568         0.899478  1.000000      0.576998   \n",
       "straightness       0.835172         0.663511  0.576998      1.000000   \n",
       "prop_4way          0.873673         0.900373  0.669655      0.582524   \n",
       "\n",
       "                 prop_4way  \n",
       "grid_index        0.873673  \n",
       "grid_index_geom   0.900373  \n",
       "rho               0.669655  \n",
       "straightness      0.582524  \n",
       "prop_4way         1.000000  "
      ]
     },
     "execution_count": 19,
     "metadata": {},
     "output_type": "execute_result"
    }
   ],
   "source": [
    "# want component indicators that are relevant but not too redundant (ie, strongly correlated)\n",
    "# here, we see each of our indicators is more strongly correlated with the index than with each other: good\n",
    "gdf[['grid_index', 'grid_index_geom'] + index_components].corr()"
   ]
  },
  {
   "cell_type": "markdown",
   "metadata": {},
   "source": [
    "## Make era dummies then inspect our columns"
   ]
  },
  {
   "cell_type": "code",
   "execution_count": 20,
   "metadata": {},
   "outputs": [],
   "source": [
    "cols = ['prop_1939_earlier', 'prop_1940_49', 'prop_1950_59', 'prop_1960_69', \n",
    "        'prop_1970_79', 'prop_1980_89', 'prop_1990_99', 'prop_2000_09', 'prop_2010_later']\n",
    "\n",
    "# jitter so we don't get 2 eras with equal value and both are the plurality\n",
    "np.random.seed(0)\n",
    "gdf[cols] = gdf[cols].applymap(lambda x: x + np.random.random() * 1e-6)"
   ]
  },
  {
   "cell_type": "code",
   "execution_count": 21,
   "metadata": {},
   "outputs": [
    {
     "name": "stdout",
     "output_type": "stream",
     "text": [
      "Wall time: 2.95 s\n"
     ]
    }
   ],
   "source": [
    "%%time\n",
    "# identify decade in which majority of tract's structures were built (where a majority exists)\n",
    "def determine_majority_decade(row):\n",
    "    for col in cols:\n",
    "        if row[col] > 0.5:\n",
    "            return col\n",
    "\n",
    "gdf['majority_decade'] = gdf.apply(determine_majority_decade, axis='columns')\n",
    "majority_dummies = pd.get_dummies(gdf['majority_decade'], prefix='dummy_majority')\n",
    "gdf = pd.concat([gdf, majority_dummies], axis='columns')"
   ]
  },
  {
   "cell_type": "code",
   "execution_count": 22,
   "metadata": {},
   "outputs": [
    {
     "name": "stdout",
     "output_type": "stream",
     "text": [
      "Wall time: 3min 42s\n"
     ]
    }
   ],
   "source": [
    "%%time\n",
    "# identify decade in which plurality of tract's structures were built\n",
    "def determine_plurality_decade(row):\n",
    "    for col in cols:\n",
    "        other_cols = [c for c in cols if c != col]\n",
    "        if (row[col] > row[other_cols]).all():\n",
    "            return col\n",
    "\n",
    "gdf['plurality_decade'] = gdf.apply(determine_plurality_decade, axis='columns')\n",
    "plurality_dummies = pd.get_dummies(gdf['plurality_decade'], prefix='dummy_plurality')\n",
    "gdf = pd.concat([gdf, plurality_dummies], axis='columns')"
   ]
  },
  {
   "cell_type": "code",
   "execution_count": 23,
   "metadata": {},
   "outputs": [
    {
     "name": "stdout",
     "output_type": "stream",
     "text": [
      "Wall time: 1.87 s\n"
     ]
    }
   ],
   "source": [
    "%%time\n",
    "# identify earliest decade in which >20% of tract's structures were built\n",
    "def determine_earliest_decade(row, threshold=0.20):\n",
    "    for col in cols:\n",
    "        if row[col] > threshold:\n",
    "            return col\n",
    "    \n",
    "gdf['earliest_decade'] = gdf.apply(determine_earliest_decade, axis='columns')\n",
    "earliest_dummies = pd.get_dummies(gdf['earliest_decade'], prefix='dummy_earliest')\n",
    "gdf = pd.concat([gdf, earliest_dummies], axis='columns')"
   ]
  },
  {
   "cell_type": "code",
   "execution_count": 24,
   "metadata": {},
   "outputs": [
    {
     "name": "stdout",
     "output_type": "stream",
     "text": [
      "Wall time: 7.14 s\n"
     ]
    }
   ],
   "source": [
    "%%time\n",
    "def find_earliest_threshold(row, cols, threshold):\n",
    "    for col in cols:\n",
    "        if row[col] > threshold:\n",
    "            return col\n",
    "\n",
    "def determine_primary_decade(row, cols=cols):\n",
    "    for threshold in [0.5, 0.4, 0.3, 0.2, 0.1]:\n",
    "        decade = find_earliest_threshold(row, cols, threshold)\n",
    "        if decade is not None:\n",
    "            return decade\n",
    "\n",
    "gdf['primary_decade'] = gdf.apply(determine_primary_decade, axis='columns')\n",
    "primary_dummies = pd.get_dummies(gdf['primary_decade'], prefix='dummy_primary')\n",
    "gdf = pd.concat([gdf, primary_dummies], axis='columns')"
   ]
  },
  {
   "cell_type": "code",
   "execution_count": 25,
   "metadata": {},
   "outputs": [
    {
     "data": {
      "text/html": [
       "<div>\n",
       "<style scoped>\n",
       "    .dataframe tbody tr th:only-of-type {\n",
       "        vertical-align: middle;\n",
       "    }\n",
       "\n",
       "    .dataframe tbody tr th {\n",
       "        vertical-align: top;\n",
       "    }\n",
       "\n",
       "    .dataframe thead th {\n",
       "        text-align: right;\n",
       "    }\n",
       "</style>\n",
       "<table border=\"1\" class=\"dataframe\">\n",
       "  <thead>\n",
       "    <tr style=\"text-align: right;\">\n",
       "      <th></th>\n",
       "      <th>majority_decade</th>\n",
       "      <th>plurality_decade</th>\n",
       "      <th>earliest_decade</th>\n",
       "      <th>primary_decade</th>\n",
       "    </tr>\n",
       "  </thead>\n",
       "  <tbody>\n",
       "    <tr>\n",
       "      <th>prop_1939_earlier</th>\n",
       "      <td>5790</td>\n",
       "      <td>18079</td>\n",
       "      <td>19673</td>\n",
       "      <td>21222</td>\n",
       "    </tr>\n",
       "    <tr>\n",
       "      <th>prop_1940_49</th>\n",
       "      <td>77</td>\n",
       "      <td>1159</td>\n",
       "      <td>1651</td>\n",
       "      <td>1501</td>\n",
       "    </tr>\n",
       "    <tr>\n",
       "      <th>prop_1950_59</th>\n",
       "      <td>1211</td>\n",
       "      <td>8512</td>\n",
       "      <td>8564</td>\n",
       "      <td>9219</td>\n",
       "    </tr>\n",
       "    <tr>\n",
       "      <th>prop_1960_69</th>\n",
       "      <td>550</td>\n",
       "      <td>5335</td>\n",
       "      <td>5726</td>\n",
       "      <td>5584</td>\n",
       "    </tr>\n",
       "    <tr>\n",
       "      <th>prop_1970_79</th>\n",
       "      <td>1181</td>\n",
       "      <td>12557</td>\n",
       "      <td>12814</td>\n",
       "      <td>12428</td>\n",
       "    </tr>\n",
       "    <tr>\n",
       "      <th>prop_1980_89</th>\n",
       "      <td>980</td>\n",
       "      <td>7345</td>\n",
       "      <td>7067</td>\n",
       "      <td>6855</td>\n",
       "    </tr>\n",
       "    <tr>\n",
       "      <th>prop_1990_99</th>\n",
       "      <td>1082</td>\n",
       "      <td>9022</td>\n",
       "      <td>8255</td>\n",
       "      <td>7813</td>\n",
       "    </tr>\n",
       "    <tr>\n",
       "      <th>prop_2000_09</th>\n",
       "      <td>2046</td>\n",
       "      <td>9954</td>\n",
       "      <td>4632</td>\n",
       "      <td>7435</td>\n",
       "    </tr>\n",
       "    <tr>\n",
       "      <th>prop_2010_later</th>\n",
       "      <td>40</td>\n",
       "      <td>274</td>\n",
       "      <td>76</td>\n",
       "      <td>180</td>\n",
       "    </tr>\n",
       "  </tbody>\n",
       "</table>\n",
       "</div>"
      ],
      "text/plain": [
       "                   majority_decade  plurality_decade  earliest_decade  \\\n",
       "prop_1939_earlier             5790             18079            19673   \n",
       "prop_1940_49                    77              1159             1651   \n",
       "prop_1950_59                  1211              8512             8564   \n",
       "prop_1960_69                   550              5335             5726   \n",
       "prop_1970_79                  1181             12557            12814   \n",
       "prop_1980_89                   980              7345             7067   \n",
       "prop_1990_99                  1082              9022             8255   \n",
       "prop_2000_09                  2046              9954             4632   \n",
       "prop_2010_later                 40               274               76   \n",
       "\n",
       "                   primary_decade  \n",
       "prop_1939_earlier           21222  \n",
       "prop_1940_49                 1501  \n",
       "prop_1950_59                 9219  \n",
       "prop_1960_69                 5584  \n",
       "prop_1970_79                12428  \n",
       "prop_1980_89                 6855  \n",
       "prop_1990_99                 7813  \n",
       "prop_2000_09                 7435  \n",
       "prop_2010_later               180  "
      ]
     },
     "execution_count": 25,
     "metadata": {},
     "output_type": "execute_result"
    }
   ],
   "source": [
    "decades = ['majority_decade', 'plurality_decade', 'earliest_decade', 'primary_decade']\n",
    "gdf[decades].apply(lambda x: x.value_counts())"
   ]
  },
  {
   "cell_type": "code",
   "execution_count": 26,
   "metadata": {},
   "outputs": [
    {
     "data": {
      "text/html": [
       "<div>\n",
       "<style scoped>\n",
       "    .dataframe tbody tr th:only-of-type {\n",
       "        vertical-align: middle;\n",
       "    }\n",
       "\n",
       "    .dataframe tbody tr th {\n",
       "        vertical-align: top;\n",
       "    }\n",
       "\n",
       "    .dataframe thead th {\n",
       "        text-align: right;\n",
       "    }\n",
       "</style>\n",
       "<table border=\"1\" class=\"dataframe\">\n",
       "  <thead>\n",
       "    <tr style=\"text-align: right;\">\n",
       "      <th></th>\n",
       "      <th>prop_1939_earlier</th>\n",
       "      <th>prop_1940_49</th>\n",
       "      <th>prop_1950_59</th>\n",
       "      <th>prop_1960_69</th>\n",
       "      <th>prop_1970_79</th>\n",
       "      <th>prop_1980_89</th>\n",
       "      <th>prop_1990_99</th>\n",
       "      <th>prop_2000_09</th>\n",
       "      <th>prop_2010_later</th>\n",
       "      <th>majority_decade</th>\n",
       "      <th>plurality_decade</th>\n",
       "      <th>earliest_decade</th>\n",
       "      <th>primary_decade</th>\n",
       "    </tr>\n",
       "  </thead>\n",
       "  <tbody>\n",
       "    <tr>\n",
       "      <th>25412</th>\n",
       "      <td>0.213</td>\n",
       "      <td>0.135</td>\n",
       "      <td>0.273</td>\n",
       "      <td>0.069</td>\n",
       "      <td>0.188</td>\n",
       "      <td>0.076</td>\n",
       "      <td>0.041</td>\n",
       "      <td>0.005</td>\n",
       "      <td>0.000</td>\n",
       "      <td>None</td>\n",
       "      <td>prop_1950_59</td>\n",
       "      <td>prop_1939_earlier</td>\n",
       "      <td>prop_1939_earlier</td>\n",
       "    </tr>\n",
       "    <tr>\n",
       "      <th>31086</th>\n",
       "      <td>0.047</td>\n",
       "      <td>0.045</td>\n",
       "      <td>0.186</td>\n",
       "      <td>0.210</td>\n",
       "      <td>0.266</td>\n",
       "      <td>0.121</td>\n",
       "      <td>0.046</td>\n",
       "      <td>0.076</td>\n",
       "      <td>0.003</td>\n",
       "      <td>None</td>\n",
       "      <td>prop_1970_79</td>\n",
       "      <td>prop_1960_69</td>\n",
       "      <td>prop_1960_69</td>\n",
       "    </tr>\n",
       "    <tr>\n",
       "      <th>71361</th>\n",
       "      <td>0.040</td>\n",
       "      <td>0.024</td>\n",
       "      <td>0.032</td>\n",
       "      <td>0.054</td>\n",
       "      <td>0.109</td>\n",
       "      <td>0.136</td>\n",
       "      <td>0.227</td>\n",
       "      <td>0.295</td>\n",
       "      <td>0.083</td>\n",
       "      <td>None</td>\n",
       "      <td>prop_2000_09</td>\n",
       "      <td>prop_1990_99</td>\n",
       "      <td>prop_1990_99</td>\n",
       "    </tr>\n",
       "    <tr>\n",
       "      <th>9300</th>\n",
       "      <td>0.386</td>\n",
       "      <td>0.066</td>\n",
       "      <td>0.071</td>\n",
       "      <td>0.080</td>\n",
       "      <td>0.264</td>\n",
       "      <td>0.086</td>\n",
       "      <td>0.029</td>\n",
       "      <td>0.019</td>\n",
       "      <td>0.000</td>\n",
       "      <td>None</td>\n",
       "      <td>prop_1939_earlier</td>\n",
       "      <td>prop_1939_earlier</td>\n",
       "      <td>prop_1939_earlier</td>\n",
       "    </tr>\n",
       "    <tr>\n",
       "      <th>17211</th>\n",
       "      <td>0.000</td>\n",
       "      <td>0.000</td>\n",
       "      <td>0.000</td>\n",
       "      <td>0.003</td>\n",
       "      <td>0.121</td>\n",
       "      <td>0.509</td>\n",
       "      <td>0.238</td>\n",
       "      <td>0.130</td>\n",
       "      <td>0.000</td>\n",
       "      <td>prop_1980_89</td>\n",
       "      <td>prop_1980_89</td>\n",
       "      <td>prop_1980_89</td>\n",
       "      <td>prop_1980_89</td>\n",
       "    </tr>\n",
       "  </tbody>\n",
       "</table>\n",
       "</div>"
      ],
      "text/plain": [
       "      prop_1939_earlier prop_1940_49 prop_1950_59 prop_1960_69 prop_1970_79  \\\n",
       "25412             0.213        0.135        0.273        0.069        0.188   \n",
       "31086             0.047        0.045        0.186        0.210        0.266   \n",
       "71361             0.040        0.024        0.032        0.054        0.109   \n",
       "9300              0.386        0.066        0.071        0.080        0.264   \n",
       "17211             0.000        0.000        0.000        0.003        0.121   \n",
       "\n",
       "      prop_1980_89 prop_1990_99 prop_2000_09 prop_2010_later majority_decade  \\\n",
       "25412        0.076        0.041        0.005           0.000            None   \n",
       "31086        0.121        0.046        0.076           0.003            None   \n",
       "71361        0.136        0.227        0.295           0.083            None   \n",
       "9300         0.086        0.029        0.019           0.000            None   \n",
       "17211        0.509        0.238        0.130           0.000    prop_1980_89   \n",
       "\n",
       "        plurality_decade    earliest_decade     primary_decade  \n",
       "25412       prop_1950_59  prop_1939_earlier  prop_1939_earlier  \n",
       "31086       prop_1970_79       prop_1960_69       prop_1960_69  \n",
       "71361       prop_2000_09       prop_1990_99       prop_1990_99  \n",
       "9300   prop_1939_earlier  prop_1939_earlier  prop_1939_earlier  \n",
       "17211       prop_1980_89       prop_1980_89       prop_1980_89  "
      ]
     },
     "execution_count": 26,
     "metadata": {},
     "output_type": "execute_result"
    }
   ],
   "source": [
    "def fstr(x):\n",
    "    try:\n",
    "        return f'{x:0.3f}'\n",
    "    except:\n",
    "        return x\n",
    "    \n",
    "gdf[cols + decades].sample(n=5, random_state=2).applymap(fstr)"
   ]
  },
  {
   "cell_type": "code",
   "execution_count": 27,
   "metadata": {},
   "outputs": [
    {
     "data": {
      "text/html": [
       "<div>\n",
       "<style scoped>\n",
       "    .dataframe tbody tr th:only-of-type {\n",
       "        vertical-align: middle;\n",
       "    }\n",
       "\n",
       "    .dataframe tbody tr th {\n",
       "        vertical-align: top;\n",
       "    }\n",
       "\n",
       "    .dataframe thead th {\n",
       "        text-align: right;\n",
       "    }\n",
       "</style>\n",
       "<table border=\"1\" class=\"dataframe\">\n",
       "  <thead>\n",
       "    <tr style=\"text-align: right;\">\n",
       "      <th></th>\n",
       "      <th>prop_1939_earlier</th>\n",
       "      <th>prop_1940_49</th>\n",
       "      <th>prop_1950_59</th>\n",
       "      <th>prop_1960_69</th>\n",
       "      <th>prop_1970_79</th>\n",
       "      <th>prop_1980_89</th>\n",
       "      <th>prop_1990_99</th>\n",
       "      <th>prop_2000_09</th>\n",
       "      <th>prop_2010_later</th>\n",
       "      <th>majority_decade</th>\n",
       "      <th>plurality_decade</th>\n",
       "      <th>earliest_decade</th>\n",
       "      <th>primary_decade</th>\n",
       "    </tr>\n",
       "  </thead>\n",
       "  <tbody>\n",
       "    <tr>\n",
       "      <th>4</th>\n",
       "      <td>0.000</td>\n",
       "      <td>0.000</td>\n",
       "      <td>0.000</td>\n",
       "      <td>0.029</td>\n",
       "      <td>0.027</td>\n",
       "      <td>0.110</td>\n",
       "      <td>0.338</td>\n",
       "      <td>0.448</td>\n",
       "      <td>0.049</td>\n",
       "      <td>None</td>\n",
       "      <td>prop_2000_09</td>\n",
       "      <td>prop_1990_99</td>\n",
       "      <td>prop_2000_09</td>\n",
       "    </tr>\n",
       "    <tr>\n",
       "      <th>7</th>\n",
       "      <td>0.048</td>\n",
       "      <td>0.021</td>\n",
       "      <td>0.029</td>\n",
       "      <td>0.011</td>\n",
       "      <td>0.156</td>\n",
       "      <td>0.188</td>\n",
       "      <td>0.214</td>\n",
       "      <td>0.300</td>\n",
       "      <td>0.033</td>\n",
       "      <td>None</td>\n",
       "      <td>prop_2000_09</td>\n",
       "      <td>prop_1990_99</td>\n",
       "      <td>prop_2000_09</td>\n",
       "    </tr>\n",
       "    <tr>\n",
       "      <th>8</th>\n",
       "      <td>0.020</td>\n",
       "      <td>0.015</td>\n",
       "      <td>0.017</td>\n",
       "      <td>0.053</td>\n",
       "      <td>0.107</td>\n",
       "      <td>0.101</td>\n",
       "      <td>0.235</td>\n",
       "      <td>0.318</td>\n",
       "      <td>0.136</td>\n",
       "      <td>None</td>\n",
       "      <td>prop_2000_09</td>\n",
       "      <td>prop_1990_99</td>\n",
       "      <td>prop_2000_09</td>\n",
       "    </tr>\n",
       "    <tr>\n",
       "      <th>18</th>\n",
       "      <td>0.004</td>\n",
       "      <td>0.003</td>\n",
       "      <td>0.021</td>\n",
       "      <td>0.085</td>\n",
       "      <td>0.107</td>\n",
       "      <td>0.206</td>\n",
       "      <td>0.353</td>\n",
       "      <td>0.156</td>\n",
       "      <td>0.066</td>\n",
       "      <td>None</td>\n",
       "      <td>prop_1990_99</td>\n",
       "      <td>prop_1980_89</td>\n",
       "      <td>prop_1990_99</td>\n",
       "    </tr>\n",
       "    <tr>\n",
       "      <th>19</th>\n",
       "      <td>0.005</td>\n",
       "      <td>0.000</td>\n",
       "      <td>0.008</td>\n",
       "      <td>0.013</td>\n",
       "      <td>0.011</td>\n",
       "      <td>0.077</td>\n",
       "      <td>0.203</td>\n",
       "      <td>0.518</td>\n",
       "      <td>0.164</td>\n",
       "      <td>prop_2000_09</td>\n",
       "      <td>prop_2000_09</td>\n",
       "      <td>prop_1990_99</td>\n",
       "      <td>prop_2000_09</td>\n",
       "    </tr>\n",
       "  </tbody>\n",
       "</table>\n",
       "</div>"
      ],
      "text/plain": [
       "   prop_1939_earlier prop_1940_49 prop_1950_59 prop_1960_69 prop_1970_79  \\\n",
       "4              0.000        0.000        0.000        0.029        0.027   \n",
       "7              0.048        0.021        0.029        0.011        0.156   \n",
       "8              0.020        0.015        0.017        0.053        0.107   \n",
       "18             0.004        0.003        0.021        0.085        0.107   \n",
       "19             0.005        0.000        0.008        0.013        0.011   \n",
       "\n",
       "   prop_1980_89 prop_1990_99 prop_2000_09 prop_2010_later majority_decade  \\\n",
       "4         0.110        0.338        0.448           0.049            None   \n",
       "7         0.188        0.214        0.300           0.033            None   \n",
       "8         0.101        0.235        0.318           0.136            None   \n",
       "18        0.206        0.353        0.156           0.066            None   \n",
       "19        0.077        0.203        0.518           0.164    prop_2000_09   \n",
       "\n",
       "   plurality_decade earliest_decade primary_decade  \n",
       "4      prop_2000_09    prop_1990_99   prop_2000_09  \n",
       "7      prop_2000_09    prop_1990_99   prop_2000_09  \n",
       "8      prop_2000_09    prop_1990_99   prop_2000_09  \n",
       "18     prop_1990_99    prop_1980_89   prop_1990_99  \n",
       "19     prop_2000_09    prop_1990_99   prop_2000_09  "
      ]
     },
     "execution_count": 27,
     "metadata": {},
     "output_type": "execute_result"
    }
   ],
   "source": [
    "gdf[gdf['primary_decade'] != gdf['earliest_decade']][cols + decades].applymap(fstr).head()"
   ]
  },
  {
   "cell_type": "code",
   "execution_count": 28,
   "metadata": {},
   "outputs": [
    {
     "data": {
      "text/plain": [
       "426"
      ]
     },
     "execution_count": 28,
     "metadata": {},
     "output_type": "execute_result"
    }
   ],
   "source": [
    "# not every tract has residential strutures\n",
    "pd.isnull(gdf['primary_decade']).sum()"
   ]
  },
  {
   "cell_type": "code",
   "execution_count": 29,
   "metadata": {},
   "outputs": [
    {
     "data": {
      "text/plain": [
       "\"['AK', 'AL', 'AR', 'AZ', 'CA', 'CO', 'CT', 'DC', 'DE', 'FL', 'GA', 'HI', 'IA', 'ID', 'IL', 'IN', 'KS', 'KY', 'LA', 'MA', 'MD', 'ME', 'MI', 'MN', 'MO', 'MS', 'MT', 'NC', 'ND', 'NE', 'NH', 'NJ', 'NM', 'NV', 'NY', 'OH', 'OK', 'OR', 'PA', 'RI', 'SC', 'SD', 'TN', 'TX', 'UT', 'VA', 'VT', 'WA', 'WI', 'WV', 'WY', 'aland', 'circuity_avg', 'county', 'dummy_earliest_prop_1939_earlier', 'dummy_earliest_prop_1940_49', 'dummy_earliest_prop_1950_59', 'dummy_earliest_prop_1960_69', 'dummy_earliest_prop_1970_79', 'dummy_earliest_prop_1980_89', 'dummy_earliest_prop_1990_99', 'dummy_earliest_prop_2000_09', 'dummy_earliest_prop_2010_later', 'dummy_majority_prop_1939_earlier', 'dummy_majority_prop_1940_49', 'dummy_majority_prop_1950_59', 'dummy_majority_prop_1960_69', 'dummy_majority_prop_1970_79', 'dummy_majority_prop_1980_89', 'dummy_majority_prop_1990_99', 'dummy_majority_prop_2000_09', 'dummy_majority_prop_2010_later', 'dummy_plurality_prop_1939_earlier', 'dummy_plurality_prop_1940_49', 'dummy_plurality_prop_1950_59', 'dummy_plurality_prop_1960_69', 'dummy_plurality_prop_1970_79', 'dummy_plurality_prop_1980_89', 'dummy_plurality_prop_1990_99', 'dummy_plurality_prop_2000_09', 'dummy_plurality_prop_2010_later', 'dummy_primary_prop_1939_earlier', 'dummy_primary_prop_1940_49', 'dummy_primary_prop_1950_59', 'dummy_primary_prop_1960_69', 'dummy_primary_prop_1970_79', 'dummy_primary_prop_1980_89', 'dummy_primary_prop_1990_99', 'dummy_primary_prop_2000_09', 'dummy_primary_prop_2010_later', 'earliest_decade', 'elevations_iqr', 'elevations_range', 'elevations_std', 'geoid', 'grade_mean', 'grade_median', 'grid_index', 'grid_index_geom', 'intersect_density', 'is_urban', 'k_avg', 'length_entropy', 'length_entropy_log', 'length_mean', 'length_mean_log', 'length_median', 'm', 'majority_decade', 'mean_commute_time', 'med_hh_income', 'med_home_value', 'med_rooms_per_home', 'n', 'orientation_entropy', 'plurality_decade', 'pop_density', 'primary_decade', 'prop_1939_earlier', 'prop_1940_49', 'prop_1950_59', 'prop_1960_69', 'prop_1970_79', 'prop_1980_89', 'prop_1990_99', 'prop_2000_09', 'prop_2010_later', 'prop_4way', 'prop_bachelors_higher', 'prop_deadend', 'prop_drive_alone', 'prop_single_fam', 'prop_white', 'rho', 'state', 'state_abbrev', 'straightness', 'total_pop', 'total_pop_k']\""
      ]
     },
     "execution_count": 29,
     "metadata": {},
     "output_type": "execute_result"
    }
   ],
   "source": [
    "str(gdf.columns.sort_values().tolist())"
   ]
  },
  {
   "cell_type": "code",
   "execution_count": 30,
   "metadata": {},
   "outputs": [],
   "source": [
    "gdf.to_csv(output_path, index=False, encoding='utf-8')"
   ]
  },
  {
   "cell_type": "markdown",
   "metadata": {},
   "source": [
    "## One median tract from different eras\n",
    "\n",
    "Center a square mile on each and visualize"
   ]
  },
  {
   "cell_type": "code",
   "execution_count": null,
   "metadata": {},
   "outputs": [],
   "source": [
    "import math\n",
    "import osmnx as ox\n",
    "ox.config(use_cache=True)\n",
    "graphs_folder = 'G:\\\\Geoff\\\\osmnx\\\\data\\\\tracts\\\\graphml'"
   ]
  },
  {
   "cell_type": "code",
   "execution_count": null,
   "metadata": {},
   "outputs": [],
   "source": [
    "# get coords of median tract from each decade\n",
    "for col in cols_plurality:\n",
    "    mask = (gdf['is_urban']==1) & (gdf['n'] > 10) & (gdf[col] == 1)\n",
    "    gdf_tmp = gdf[mask]\n",
    "    row_median = gdf_tmp.sort_values('grid_index_geom').iloc[math.floor(len(gdf_tmp)/2)]\n",
    "    \n",
    "    row = row_median\n",
    "    filename = '{}.graphml'.format(row['geoid'])\n",
    "    folder = '{}/{}_{}'.format(graphs_folder, row['state'], row['state_abbrev'])\n",
    "    G = ox.get_largest_component(ox.load_graphml(filename, folder))\n",
    "    nodes = ox.graph_to_gdfs(G, edges=False, node_geometry=True)\n",
    "    x, y = nodes.unary_union.centroid.coords[0]\n",
    "    \n",
    "    print(col, x, y)\n",
    "    #fig, ax = ox.plot_figure_ground(point=(y, x), dist=805, network_type='drive', \n",
    "    #                                save=True, show=True, filename=f'{col}.png')"
   ]
  },
  {
   "cell_type": "code",
   "execution_count": null,
   "metadata": {},
   "outputs": [],
   "source": [
    "# move square mile around a bit to find a well-framed set of streets\n",
    "points = {'1980s' : (-84.537, 39.287),\n",
    "          #'1990s' : (-93.177, 44.676),\n",
    "          #'1970s' : (-121.266, 38.692),\n",
    "          '1950s' : (-104.654, 38.248),\n",
    "          '1930s' : (-73.831, 40.909),\n",
    "          '2010s' : (-111.7802, 33.2261)}\n",
    "\n",
    "for decade, (x, y) in points.items():\n",
    "    fig, ax = ox.plot_figure_ground(point=(y, x), dist=805, network_type='drive', \n",
    "                                    save=True, show=False, filename=f'decade_{decade}.png')"
   ]
  },
  {
   "cell_type": "markdown",
   "metadata": {},
   "source": [
    "## Visualize pairwise regressions"
   ]
  },
  {
   "cell_type": "code",
   "execution_count": null,
   "metadata": {},
   "outputs": [],
   "source": [
    "fontsize = 14\n",
    "fontname = 'Century Gothic'\n",
    "scatter_c = 'none'\n",
    "scatter_ec = '#003366'\n",
    "scatter_s = 30\n",
    "scatter_lw = 1.5\n",
    "scatter_a = 0.7\n",
    "scatter_m = 'o'\n",
    "line_c = 'k'\n",
    "line_a = 0.25\n",
    "line_ls = '--'\n",
    "line_lw = 2.5\n",
    "line_z = -1\n",
    "filename_template = 'images/regression_{}_{}.png'"
   ]
  },
  {
   "cell_type": "code",
   "execution_count": null,
   "metadata": {},
   "outputs": [],
   "source": [
    "def regress_plot(gdf, x_var, y_var, x_min=None, x_max=None, y_min=None, y_max=None, xlabel='', ylabel='', color_regions=False):\n",
    "\n",
    "    x = gdf[x_var]\n",
    "    y = gdf[y_var]\n",
    "    slope, intercept, r_value, p_value, std_err = stats.linregress(x, y)\n",
    "    print('r={:.3f}, r^2={:.3f}, slope={:.3f}, intercept={:.3f}, p={:.4f}'.format(r_value, r_value ** 2, slope, intercept, p_value))\n",
    "\n",
    "    fig, ax = plt.subplots(figsize=(6,6))\n",
    "    scatter = ax.scatter(x=x, y=y, c=scatter_c, edgecolor=ec, s=scatter_s, \n",
    "                         linewidth=scatter_lw, alpha=scatter_a, marker=scatter_m)\n",
    "\n",
    "    # set x and y limits\n",
    "    if x_min is None:\n",
    "        x_min = x.min() / 1.1\n",
    "    if x_max is None:\n",
    "        x_max = x.max() * 1.1\n",
    "    if y_min is None:\n",
    "        y_min = y.min() / 1.1\n",
    "    if y_max is None:\n",
    "        y_max = y.max() * 1.1\n",
    "    ax.set_xlim((x_min, x_max))\n",
    "    ax.set_ylim((y_min, y_max))\n",
    "\n",
    "    # create a line of best fit\n",
    "    x_line = np.array([x_min, x_max])\n",
    "\n",
    "    Y_est = x_line * slope + intercept\n",
    "    line = ax.plot(x_line, Y_est, c=line_c, alpha=line_a, linestyle=line_ls, linewidth=line_lw, zorder=line_z)\n",
    "\n",
    "    ax.set_xlabel(xlabel, fontsize=fontsize, fontname=fontname)\n",
    "    ax.set_ylabel(ylabel, fontsize=fontsize, fontname=fontname)\n",
    "    \n",
    "    if round(p_value < 0.001):\n",
    "        p_value = 0.001\n",
    "        symbol = '<'\n",
    "    else:\n",
    "        symbol = '='\n",
    "    \n",
    "    ax.set_title('r = {:.3f}, p {} {:.3f}'.format(r_value, symbol, p_value), fontdict={'fontsize':fontsize, 'fontname':fontname})\n",
    "\n",
    "    #fig.savefig(filename_template.format(x_var, y_var), dpi=600, bbox_inches='tight')\n",
    "    plt.close()"
   ]
  },
  {
   "cell_type": "code",
   "execution_count": null,
   "metadata": {
    "scrolled": true
   },
   "outputs": [],
   "source": [
    "gdf.corr()['grid_index_geom'].abs().sort_values(ascending=False)"
   ]
  },
  {
   "cell_type": "code",
   "execution_count": null,
   "metadata": {},
   "outputs": [],
   "source": [
    "regress_plot(gdf, x_var='k_avg', y_var='grid_index_geom',# y_min=0, y_max=1, x_min=2.2, x_max=3.6,\n",
    "             xlabel='Average Node Degree', ylabel='grid_index_geom')"
   ]
  },
  {
   "cell_type": "code",
   "execution_count": null,
   "metadata": {},
   "outputs": [],
   "source": [
    "regress_plot(gdf, x_var='length_median', y_var='grid_index_geom',# x_min=30, x_max=140, y_min=0, y_max=1,\n",
    "             xlabel='Median Street Segment Length (m)', ylabel=r'$\\rho$')"
   ]
  },
  {
   "cell_type": "code",
   "execution_count": null,
   "metadata": {},
   "outputs": [],
   "source": [
    "regress_plot(gdf, x_var='length_entropy_log', y_var='grid_index_geom', #x_min=2.0, x_max=3.2, y_min=0, y_max=1,\n",
    "             xlabel='Steet Segment Length (log) Entropy', ylabel=r'$\\rho$')"
   ]
  },
  {
   "cell_type": "code",
   "execution_count": null,
   "metadata": {},
   "outputs": [],
   "source": [
    "regress_plot(gdf, x_var='prop_deadend', y_var='grid_index_geom', #x_min=0.0, x_max=0.4, y_min=0, y_max=1,\n",
    "             xlabel='Dead-End Proportion', ylabel='Rho')"
   ]
  },
  {
   "cell_type": "code",
   "execution_count": null,
   "metadata": {},
   "outputs": [],
   "source": [
    "regress_plot(gdf, x_var='prop_4way', y_var='grid_index_geom', #x_min=0.0, x_max=0.5, y_min=0, y_max=1,\n",
    "             xlabel='Four-Way Intersection Proportion', ylabel=r'$\\rho$')"
   ]
  },
  {
   "cell_type": "code",
   "execution_count": null,
   "metadata": {},
   "outputs": [],
   "source": [
    "regress_plot(gdf, x_var='straightness', y_var='grid_index_geom', #x_min=1, x_max=1.16, y_min=0, y_max=1,\n",
    "             xlabel='Average Straightness', ylabel=r'$\\rho$')"
   ]
  },
  {
   "cell_type": "code",
   "execution_count": null,
   "metadata": {},
   "outputs": [],
   "source": [
    "regress_plot(gdf, x_var='prop_4way', y_var='straightness', #x_min=0, x_max=0.6, y_min=1, y_max=1.16,\n",
    "             xlabel='Four-Way Intersection Proportion', ylabel='Average Straightness')"
   ]
  },
  {
   "cell_type": "code",
   "execution_count": null,
   "metadata": {},
   "outputs": [],
   "source": [
    "regress_plot(gdf, x_var='k_avg', y_var='straightness', #x_min=2.2, x_max=3.6, y_min=1, y_max=1.16,\n",
    "             xlabel='Average Node Degree', ylabel='Average Straightness')"
   ]
  },
  {
   "cell_type": "markdown",
   "metadata": {},
   "source": [
    "## Look at individual stats"
   ]
  },
  {
   "cell_type": "code",
   "execution_count": null,
   "metadata": {},
   "outputs": [],
   "source": [
    "gdf['grid_index_geom'].describe()"
   ]
  },
  {
   "cell_type": "code",
   "execution_count": null,
   "metadata": {},
   "outputs": [],
   "source": [
    "print(gdf['grid_index_geom'].sort_values().head())\n",
    "print(gdf['grid_index_geom'].sort_values().tail())"
   ]
  },
  {
   "cell_type": "code",
   "execution_count": null,
   "metadata": {},
   "outputs": [],
   "source": [
    "ax = gdf['grid_index_geom'].hist(bins=100)\n",
    "ax.set_xlim((0,1))\n",
    "plt.show()"
   ]
  },
  {
   "cell_type": "code",
   "execution_count": null,
   "metadata": {},
   "outputs": [],
   "source": [
    "y = gdf['grid_index_geom'].sort_values()\n",
    "fig, ax = plt.subplots(figsize=(5,5))\n",
    "ax.scatter(x=range(len(y)), y=y, s=20, marker='o', edgecolor='b', color='none', alpha=0.7)\n",
    "xmax = int(len(gdf) * 1.02)\n",
    "xmin = int(len(gdf) * -0.02)\n",
    "ymax = 1.02\n",
    "ymin = -0.02\n",
    "plt.plot([xmin, xmax], [ymin, ymax], c='#999999', ls=':', zorder=-1)\n",
    "ax.set_xlim((xmin,xmax))\n",
    "ax.set_ylim((ymin,ymax))\n",
    "ax.set_ylabel('grid_index_geom')\n",
    "ax.set_xlabel('Tract Rank')\n",
    "plt.show()"
   ]
  },
  {
   "cell_type": "code",
   "execution_count": null,
   "metadata": {},
   "outputs": [],
   "source": [
    "print(gdf.groupby('state_abbrev')[['grid_index_geom', 'prop_4way']].median().sort_values('grid_index_geom').head())\n",
    "print(gdf.groupby('state_abbrev')[['grid_index_geom', 'prop_4way']].median().sort_values('grid_index_geom').tail())"
   ]
  },
  {
   "cell_type": "code",
   "execution_count": null,
   "metadata": {},
   "outputs": [],
   "source": [
    "# total nodes and edges in dataset\n",
    "print('{:,}'.format(gdf['m'].sum()))\n",
    "print('{:,}'.format(gdf['n'].sum()))"
   ]
  },
  {
   "cell_type": "code",
   "execution_count": null,
   "metadata": {},
   "outputs": [],
   "source": []
  }
 ],
 "metadata": {
  "kernelspec": {
   "display_name": "Python 3",
   "language": "python",
   "name": "python3"
  },
  "language_info": {
   "codemirror_mode": {
    "name": "ipython",
    "version": 3
   },
   "file_extension": ".py",
   "mimetype": "text/x-python",
   "name": "python",
   "nbconvert_exporter": "python",
   "pygments_lexer": "ipython3",
   "version": "3.7.1"
  }
 },
 "nbformat": 4,
 "nbformat_minor": 2
}
